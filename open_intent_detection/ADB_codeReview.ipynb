{
 "cells": [
  {
   "cell_type": "markdown",
   "id": "48e2e390",
   "metadata": {},
   "source": [
    "# 첫 shell 실행 후 args만 pickle을 이용해 저장\n",
    "## 실행 명령어 : sh examples/run_ADB.sh\n",
    "\n",
    "### open_intent_detection/run.py\n",
    "```python\n",
    "if __name__ == '__main__':\n",
    "    print(\"main\")\n",
    "    sys.path.append('.')\n",
    "    args = parse_arguments()\n",
    "    logger = set_logger(args)\n",
    "\n",
    "    logger.info('Open Intent Detection Begin...')\n",
    "    logger.info('Parameters Initialization...')\n",
    "    param = ParamManager(args)\n",
    "    args = param.args\n",
    "    \n",
    "    import pickle\n",
    "    with open('ADB_args.pickle', 'wb') as f:\n",
    "        pickle.dump(args, f, pickle.HIGHEST_PROTOCOL)\n",
    "    print(args)\n",
    "```\n",
    "\n",
    "129~132 : pickle을 이용해 저장"
   ]
  },
  {
   "cell_type": "code",
   "execution_count": 230,
   "id": "087108df",
   "metadata": {
    "scrolled": false
   },
   "outputs": [],
   "source": [
    "import pickle\n",
    "\n",
    "with open('ADB_args.pickle', 'rb') as f:\n",
    "    args = pickle.load(f)"
   ]
  },
  {
   "cell_type": "code",
   "execution_count": 2,
   "id": "a5b0f583",
   "metadata": {
    "scrolled": true
   },
   "outputs": [
    {
     "data": {
      "text/plain": [
       "{'type': 'open_intent_detection',\n",
       " 'logger_name': 'Detection',\n",
       " 'log_dir': 'logs',\n",
       " 'dataset': 'banking',\n",
       " 'known_cls_ratio': 0.75,\n",
       " 'labeled_ratio': 1.0,\n",
       " 'method': 'ADB',\n",
       " 'train': True,\n",
       " 'pretrain': True,\n",
       " 'save_model': True,\n",
       " 'backbone': 'bert',\n",
       " 'config_file_name': 'ADB',\n",
       " 'seed': 5,\n",
       " 'gpu_id': '3',\n",
       " 'pipe_results_path': 'pipe_results',\n",
       " 'data_dir': '/workspace/ADB/TEXTOIR/open_intent_detection/../data',\n",
       " 'output_dir': '/home/sharing/disk1/zhaoshaojie/baseline_test/plot/TEXTOIR',\n",
       " 'model_dir': 'models',\n",
       " 'load_pretrained_method': None,\n",
       " 'result_dir': 'results',\n",
       " 'results_file_name': 'results_ADB.csv',\n",
       " 'save_results': True,\n",
       " 'loss_fct': 'CrossEntropyLoss',\n",
       " 'dataset_neg': 'SQUAD',\n",
       " 'method_output_dir': '/home/sharing/disk1/zhaoshaojie/baseline_test/plot/TEXTOIR/open_intent_detection/ADB_banking_0.75_1.0_bert_5',\n",
       " 'model_output_dir': '/home/sharing/disk1/zhaoshaojie/baseline_test/plot/TEXTOIR/open_intent_detection/ADB_banking_0.75_1.0_bert_5/models',\n",
       " 'bert_model': '/home/sharing/disk1/pretrained_embedding/bert/uncased_L-12_H-768_A-12/',\n",
       " 'num_train_epochs': 100,\n",
       " 'num_labels': None,\n",
       " 'max_seq_length': None,\n",
       " 'freeze_backbone_parameters': True,\n",
       " 'feat_dim': 768,\n",
       " 'warmup_proportion': 0.1,\n",
       " 'lr_boundary': 0.05,\n",
       " 'lr': 2e-05,\n",
       " 'activation': 'relu',\n",
       " 'train_batch_size': 128,\n",
       " 'eval_batch_size': 64,\n",
       " 'test_batch_size': 64,\n",
       " 'wait_patient': 10}"
      ]
     },
     "execution_count": 2,
     "metadata": {},
     "output_type": "execute_result"
    }
   ],
   "source": [
    "args"
   ]
  },
  {
   "cell_type": "code",
   "execution_count": 277,
   "id": "274700da",
   "metadata": {},
   "outputs": [
    {
     "data": {
      "text/plain": [
       "5"
      ]
     },
     "execution_count": 277,
     "metadata": {},
     "output_type": "execute_result"
    }
   ],
   "source": [
    "args.seed"
   ]
  },
  {
   "cell_type": "code",
   "execution_count": 278,
   "id": "4ab0931c",
   "metadata": {},
   "outputs": [],
   "source": [
    "from configs.base import ParamManager\n",
    "\n",
    "from dataloaders.base import DataManager\n",
    "\n",
    "from backbones.base import ModelManager\n",
    "\n",
    "from utils.functions import save_results\n",
    "import logging\n",
    "import argparse\n",
    "import sys\n",
    "import os\n",
    "import datetime\n",
    "\n",
    "data = DataManager(args, logger_name = args.logger_name)\n",
    "\n",
    "#model = ModelManager(args, data, logger_name = args.logger_name)"
   ]
  },
  {
   "cell_type": "code",
   "execution_count": 279,
   "id": "dacc0f7d",
   "metadata": {},
   "outputs": [
    {
     "name": "stdout",
     "output_type": "stream",
     "text": [
      "['getting_spare_card', 'country_support', 'card_about_to_expire', 'top_up_failed', 'virtual_card_not_working', 'passcode_forgotten', 'direct_debit_payment_not_recognised', 'contactless_not_working', 'card_payment_not_recognised', 'pending_top_up', 'card_arrival', 'fiat_currency_support', 'why_verify_identity', 'exchange_rate', 'card_delivery_estimate', 'transfer_into_account', 'pending_transfer', 'wrong_exchange_rate_for_cash_withdrawal', 'unable_to_verify_identity', 'balance_not_updated_after_bank_transfer', 'top_up_by_cash_or_cheque', 'declined_card_payment', 'transfer_fee_charged', 'extra_charge_on_statement', 'cash_withdrawal_not_recognised', 'exchange_via_app', 'pin_blocked', 'lost_or_stolen_phone', 'exchange_charge', 'compromised_card', 'supported_cards_and_currencies', 'declined_transfer', 'apple_pay_or_google_pay', 'card_acceptance', 'transaction_charged_twice', 'verify_my_identity', 'transfer_timing', 'request_refund', 'card_swallowed', 'get_disposable_virtual_card', 'pending_card_payment', 'age_limit', 'edit_personal_details', 'transfer_not_received_by_recipient', 'terminate_account', 'failed_transfer', 'atm_support', 'receiving_money', 'Refund_not_showing_up', 'automatic_top_up', 'card_linking', 'wrong_amount_of_cash_received', 'get_physical_card', 'top_up_limits', 'activate_my_card', 'top_up_by_bank_transfer_charge', 'getting_virtual_card', 'lost_or_stolen_card']\n"
     ]
    }
   ],
   "source": [
    "print(data.known_label_list)"
   ]
  },
  {
   "cell_type": "code",
   "execution_count": 267,
   "id": "5bf33acb",
   "metadata": {},
   "outputs": [
    {
     "name": "stdout",
     "output_type": "stream",
     "text": [
      "['getting_spare_card', 'country_support', 'card_about_to_expire', 'top_up_failed', 'virtual_card_not_working', 'passcode_forgotten', 'direct_debit_payment_not_recognised', 'contactless_not_working', 'card_payment_not_recognised', 'pending_top_up', 'card_arrival', 'fiat_currency_support', 'why_verify_identity', 'exchange_rate', 'card_delivery_estimate', 'transfer_into_account', 'pending_transfer', 'wrong_exchange_rate_for_cash_withdrawal', 'unable_to_verify_identity', 'balance_not_updated_after_bank_transfer', 'top_up_by_cash_or_cheque', 'declined_card_payment', 'transfer_fee_charged', 'extra_charge_on_statement', 'cash_withdrawal_not_recognised', 'exchange_via_app', 'pin_blocked', 'lost_or_stolen_phone', 'exchange_charge', 'compromised_card', 'supported_cards_and_currencies', 'declined_transfer', 'apple_pay_or_google_pay', 'card_acceptance', 'transaction_charged_twice', 'verify_my_identity', 'transfer_timing', 'request_refund', 'card_swallowed', 'get_disposable_virtual_card', 'pending_card_payment', 'age_limit', 'edit_personal_details', 'transfer_not_received_by_recipient', 'terminate_account', 'failed_transfer', 'atm_support', 'receiving_money', 'Refund_not_showing_up', 'automatic_top_up', 'card_linking', 'wrong_amount_of_cash_received', 'get_physical_card', 'top_up_limits', 'activate_my_card', 'top_up_by_bank_transfer_charge', 'getting_virtual_card', 'lost_or_stolen_card']\n"
     ]
    }
   ],
   "source": [
    "print(data.known_label_list)"
   ]
  },
  {
   "cell_type": "markdown",
   "id": "bb91e9aa",
   "metadata": {},
   "source": [
    "# DataManager 클래스에서 바로 변수들을 호출하는 방법"
   ]
  },
  {
   "cell_type": "code",
   "execution_count": 293,
   "id": "b59ccf93",
   "metadata": {},
   "outputs": [
    {
     "name": "stdout",
     "output_type": "stream",
     "text": [
      "Could you help my figure out the exchange fee?\n",
      "4\n",
      "tensor([[  101,  1045,  1005,  ...,     0,     0,     0],\n",
      "        [  101,  2129,  2146,  ...,     0,     0,     0],\n",
      "        [  101, 17402,  1045,  ...,     0,     0,     0],\n",
      "        ...,\n",
      "        [  101,  2129,  2146,  ...,     0,     0,     0],\n",
      "        [  101,  7592,  1012,  ...,     0,     0,     0],\n",
      "        [  101,  2003,  2045,  ...,     0,     0,     0]])\n",
      "tensor([[1, 1, 1,  ..., 0, 0, 0],\n",
      "        [1, 1, 1,  ..., 0, 0, 0],\n",
      "        [1, 1, 1,  ..., 0, 0, 0],\n",
      "        ...,\n",
      "        [1, 1, 1,  ..., 0, 0, 0],\n",
      "        [1, 1, 1,  ..., 0, 0, 0],\n",
      "        [1, 1, 1,  ..., 0, 0, 0]])\n",
      "tensor([[0, 0, 0,  ..., 0, 0, 0],\n",
      "        [0, 0, 0,  ..., 0, 0, 0],\n",
      "        [0, 0, 0,  ..., 0, 0, 0],\n",
      "        ...,\n",
      "        [0, 0, 0,  ..., 0, 0, 0],\n",
      "        [0, 0, 0,  ..., 0, 0, 0],\n",
      "        [0, 0, 0,  ..., 0, 0, 0]])\n",
      "tensor([48, 36,  6,  1, 25, 53,  2, 43, 44, 18, 41, 16, 11, 45, 37, 12, 26,  5,\n",
      "         8, 20, 30, 53, 28,  5, 14, 43, 23, 19, 46, 23,  8,  3,  7, 51, 50, 28,\n",
      "         3, 21, 14, 53, 55, 10, 22, 36,  0, 35, 26, 43, 22, 19,  7, 11, 45, 25,\n",
      "        20, 29, 18, 16, 10, 41,  1,  2, 24, 57, 48, 38, 13, 22, 39, 47, 44, 49,\n",
      "        49,  2, 12, 12, 23, 49, 25, 44, 50, 54, 28, 48, 51, 18, 44, 21,  9, 22,\n",
      "        51, 48, 49, 36, 26, 40, 24, 33,  8, 42, 24, 44, 21, 42, 51, 37, 38, 19,\n",
      "        11, 31, 31, 51,  3, 42, 49, 12, 20, 17,  3, 21, 22, 45, 25, 11, 22, 36,\n",
      "        19, 53])\n"
     ]
    }
   ],
   "source": [
    "print(data.dataloader.train_labeled_examples[0].text_a)\n",
    "D_1 = iter(data.dataloader.train_labeled_loader)\n",
    "D = next(D_1)\n",
    "print(len(D))\n",
    "print(D[0])\n",
    "print(D[1])\n",
    "print(D[2])\n",
    "print(D[3])"
   ]
  },
  {
   "cell_type": "markdown",
   "id": "8e0c977e",
   "metadata": {},
   "source": [
    "# Data 처리\n",
    "run.py 에서 보면 \n",
    "```python\n",
    "from dataloaders.base import DataManager\n",
    "``` \n",
    "를 확인할 수 있음.그래서 \n",
    "```Bash \n",
    "open_intent_detection/dataloaders/base.py\n",
    "``` \n",
    "에서 분석 시작"
   ]
  },
  {
   "cell_type": "code",
   "execution_count": 56,
   "id": "76ebd05b",
   "metadata": {},
   "outputs": [],
   "source": [
    "import numpy as np\n",
    "import os   \n",
    "import random\n",
    "import torch\n",
    "import logging\n",
    "\n",
    "\n",
    "def set_seed(seed):\n",
    "    random.seed(seed)\n",
    "    np.random.seed(seed)\n",
    "    torch.manual_seed(seed)\n",
    "    torch.cuda.manual_seed_all(seed)\n",
    "    torch.backends.cudnn.deterministic = True"
   ]
  },
  {
   "cell_type": "markdown",
   "id": "1527f8e8",
   "metadata": {},
   "source": [
    "base.py 에서 아래 코드를 import 하기 때문에 따로 필요한 부분만 여기서 실행을 진행\n",
    "```python\n",
    "from .__init__ import max_seq_lengths, backbone_loader_map, benchmark_labels\n",
    "```\n",
    "### dataloaders/__init__.py\n",
    "\n",
    "- dataloaders.bert 는 아직 분석이 안됨.. 다음으로 미룸"
   ]
  },
  {
   "cell_type": "code",
   "execution_count": 91,
   "id": "73a2536f",
   "metadata": {},
   "outputs": [],
   "source": [
    "from dataloaders.bert_loader import BERT_Loader\n",
    "from dataloaders.bert_loader_neg import BERT_Loader_NEG\n",
    "\n",
    "max_seq_lengths = {'stackoverflow':45, 'banking':55, 'oos':30, 'snips':35 }\n",
    "benchmark_labels = {'banking':  \n",
    "                [\n",
    "                    \"Refund_not_showing_up\", \"activate_my_card\", \"age_limit\", \"apple_pay_or_google_pay\", \"atm_support\", \n",
    "                    \"automatic_top_up\", \"balance_not_updated_after_bank_transfer\", \"balance_not_updated_after_cheque_or_cash_deposit\", \"beneficiary_not_allowed\", \"cancel_transfer\", \n",
    "                    \"card_about_to_expire\", \"card_acceptance\", \"card_arrival\", \"card_delivery_estimate\", \"card_linking\", \n",
    "                    \"card_not_working\", \"card_payment_fee_charged\", \"card_payment_not_recognised\", \"card_payment_wrong_exchange_rate\", \"card_swallowed\", \n",
    "                    \"cash_withdrawal_charge\", \"cash_withdrawal_not_recognised\", \"change_pin\", \"compromised_card\", \"contactless_not_working\", \n",
    "                    \"country_support\", \"declined_card_payment\", \"declined_cash_withdrawal\", \"declined_transfer\", \"direct_debit_payment_not_recognised\", \n",
    "                    \"disposable_card_limits\", \"edit_personal_details\", \"exchange_charge\", \"exchange_rate\", \"exchange_via_app\", \n",
    "                    \"extra_charge_on_statement\", \"failed_transfer\", \"fiat_currency_support\", \"get_disposable_virtual_card\", \"get_physical_card\", \n",
    "                    \"getting_spare_card\", \"getting_virtual_card\", \"lost_or_stolen_card\", \"lost_or_stolen_phone\", \"order_physical_card\", \n",
    "                    \"passcode_forgotten\", \"pending_card_payment\", \"pending_cash_withdrawal\", \"pending_top_up\", \"pending_transfer\", \n",
    "                    \"pin_blocked\", \"receiving_money\", \"request_refund\", \"reverted_card_payment?\", \"supported_cards_and_currencies\", \n",
    "                    \"terminate_account\", \"top_up_by_bank_transfer_charge\", \"top_up_by_card_charge\", \"top_up_by_cash_or_cheque\", \"top_up_failed\", \n",
    "                    \"top_up_limits\", \"top_up_reverted\", \"topping_up_by_card\", \"transaction_charged_twice\", \"transfer_fee_charged\", \n",
    "                    \"transfer_into_account\", \"transfer_not_received_by_recipient\", \"transfer_timing\", \"unable_to_verify_identity\", \"verify_my_identity\", \n",
    "                    \"verify_source_of_funds\", \"verify_top_up\", \"virtual_card_not_working\", \"visa_or_mastercard\", \"why_verify_identity\", \n",
    "                    \"wrong_amount_of_cash_received\", \"wrong_exchange_rate_for_cash_withdrawal\"\n",
    "                ]}\n",
    "\n",
    "backbone_loader_map = {\n",
    "                            'bert': BERT_Loader,\n",
    "                            'bert_doc': BERT_Loader,\n",
    "                            'bert_norm': BERT_Loader,\n",
    "                            'bert_mixup': BERT_Loader_NEG,\n",
    "                            'bert_seg': BERT_Loader,\n",
    "                            'bert_disaware': BERT_Loader\n",
    "                        }"
   ]
  },
  {
   "cell_type": "markdown",
   "id": "52505dab",
   "metadata": {},
   "source": [
    "## Class DataManager:\n",
    "```python \n",
    "class DataManager:\n",
    "def __init__(self, args, logger_name = 'Detection'):\n",
    "```"
   ]
  },
  {
   "cell_type": "markdown",
   "id": "e18a0d4e",
   "metadata": {},
   "source": [
    "### Datamanager 함수:\n",
    "참고 : self 삭제"
   ]
  },
  {
   "cell_type": "code",
   "execution_count": 82,
   "id": "994cf230",
   "metadata": {},
   "outputs": [],
   "source": [
    "def get_labels(dataset):\n",
    "\n",
    "    labels = benchmark_labels[dataset]\n",
    "\n",
    "    return labels\n",
    "\n",
    "def get_loader(args, attrs):\n",
    "\n",
    "    dataloader = backbone_loader_map[args.backbone](args, attrs, args.logger_name)\n",
    "\n",
    "    return dataloader\n",
    "\n",
    "def get_attrs():\n",
    "\n",
    "    attrs = {}\n",
    "    for name, value in vars(self).items():\n",
    "        attrs[name] = value\n",
    "\n",
    "    return attrs"
   ]
  },
  {
   "cell_type": "code",
   "execution_count": 246,
   "id": "b79d14cd",
   "metadata": {},
   "outputs": [
    {
     "name": "stdout",
     "output_type": "stream",
     "text": [
      "5\n"
     ]
    }
   ],
   "source": [
    "print(args.seed)\n",
    "set_seed(args.seed)"
   ]
  },
  {
   "cell_type": "code",
   "execution_count": 33,
   "id": "9607d311",
   "metadata": {},
   "outputs": [
    {
     "name": "stdout",
     "output_type": "stream",
     "text": [
      "banking -> 55\n"
     ]
    }
   ],
   "source": [
    "args.max_seq_length = max_seq_lengths[args.dataset]\n",
    "print(args.dataset, \"->\", args.max_seq_length)"
   ]
  },
  {
   "cell_type": "code",
   "execution_count": 174,
   "id": "deba7e0a",
   "metadata": {},
   "outputs": [
    {
     "name": "stdout",
     "output_type": "stream",
     "text": [
      "/workspace/ADB/TEXTOIR/open_intent_detection/../data || ^0^ || banking\n",
      "/workspace/ADB/TEXTOIR/open_intent_detection/../data/banking\n"
     ]
    }
   ],
   "source": [
    "print(args.data_dir, \"|| ^0^ ||\", args.dataset)\n",
    "data_dir = os.path.join(args.data_dir, args.dataset)\n",
    "print(data_dir)"
   ]
  },
  {
   "cell_type": "code",
   "execution_count": 39,
   "id": "228653cb",
   "metadata": {},
   "outputs": [
    {
     "name": "stdout",
     "output_type": "stream",
     "text": [
      "['Refund_not_showing_up', 'activate_my_card', 'age_limit', 'apple_pay_or_google_pay', 'atm_support'] 77\n"
     ]
    }
   ],
   "source": [
    "all_label_list = get_labels(args.dataset)\n",
    "print(all_label_list[:5], len(all_label_list))"
   ]
  },
  {
   "cell_type": "code",
   "execution_count": 42,
   "id": "74a1d44e",
   "metadata": {},
   "outputs": [
    {
     "name": "stdout",
     "output_type": "stream",
     "text": [
      "0.75\n",
      "58\n"
     ]
    }
   ],
   "source": [
    "print(args.known_cls_ratio)\n",
    "n_known_cls = round(len(all_label_list) * args.known_cls_ratio)\n",
    "print(n_known_cls)"
   ]
  },
  {
   "cell_type": "markdown",
   "id": "8ca2b1ea",
   "metadata": {},
   "source": [
    "### random.seed를 jupyter에서 따로 실행하면 잘 작동하지 않음.. 이유는 모르겠음.\n",
    "but class로 한번에 생성할 때는 잘 됨...ㅠㅠ"
   ]
  },
  {
   "cell_type": "code",
   "execution_count": 276,
   "id": "34967e70",
   "metadata": {},
   "outputs": [
    {
     "name": "stdout",
     "output_type": "stream",
     "text": [
      "['card_arrival' 'edit_personal_details' 'automatic_top_up'\n",
      " 'card_payment_not_recognised' 'why_verify_identity' 'pending_transfer'\n",
      " 'cancel_transfer' 'atm_support' 'pending_card_payment'\n",
      " 'verify_my_identity' 'pending_top_up' 'receiving_money'\n",
      " 'supported_cards_and_currencies'\n",
      " 'balance_not_updated_after_bank_transfer' 'card_linking'\n",
      " 'exchange_charge' 'get_physical_card' 'age_limit' 'order_physical_card'\n",
      " 'change_pin' 'request_refund' 'top_up_failed' 'pending_cash_withdrawal'\n",
      " 'card_not_working' 'apple_pay_or_google_pay' 'activate_my_card'\n",
      " 'card_about_to_expire' 'top_up_by_card_charge' 'verify_top_up'\n",
      " 'transfer_into_account' 'terminate_account' 'unable_to_verify_identity'\n",
      " 'visa_or_mastercard' 'cash_withdrawal_not_recognised'\n",
      " 'card_delivery_estimate' 'top_up_by_bank_transfer_charge'\n",
      " 'getting_virtual_card' 'declined_cash_withdrawal' 'transfer_fee_charged'\n",
      " 'top_up_by_cash_or_cheque' 'direct_debit_payment_not_recognised'\n",
      " 'card_acceptance' 'failed_transfer' 'transfer_not_received_by_recipient'\n",
      " 'top_up_limits' 'lost_or_stolen_card' 'fiat_currency_support'\n",
      " 'topping_up_by_card' 'compromised_card' 'cash_withdrawal_charge'\n",
      " 'get_disposable_virtual_card' 'card_payment_wrong_exchange_rate'\n",
      " 'country_support' 'transfer_timing' 'pin_blocked'\n",
      " 'verify_source_of_funds' 'declined_transfer'\n",
      " 'wrong_exchange_rate_for_cash_withdrawal']\n"
     ]
    }
   ],
   "source": [
    "\n",
    "#random.seed(5)\n",
    "\n",
    "known_label_list = np.random.choice(np.array(all_label_list), n_known_cls, replace=False)\n",
    "print(known_label_list)\n",
    "known_label_list = list(known_label_list)"
   ]
  },
  {
   "cell_type": "code",
   "execution_count": 261,
   "id": "07aad5af",
   "metadata": {},
   "outputs": [
    {
     "name": "stdout",
     "output_type": "stream",
     "text": [
      "/workspace/ADB/TEXTOIR/open_intent_detection/../data  || ^0^ || SQUAD\n",
      "/workspace/ADB/TEXTOIR/open_intent_detection/../data/SQUAD\n"
     ]
    }
   ],
   "source": [
    "print(args.data_dir, \" || ^0^ ||\" ,args.dataset_neg)\n",
    "data_dir_neg = os.path.join(args.data_dir, args.dataset_neg)\n",
    "print(data_dir_neg)"
   ]
  },
  {
   "cell_type": "code",
   "execution_count": 69,
   "id": "fd478bda",
   "metadata": {},
   "outputs": [
    {
     "name": "stdout",
     "output_type": "stream",
     "text": [
      "58\n"
     ]
    }
   ],
   "source": [
    "num_labels = num_labels = len(known_label_list)"
   ]
  },
  {
   "cell_type": "code",
   "execution_count": 72,
   "id": "5569e1ce",
   "metadata": {},
   "outputs": [
    {
     "name": "stdout",
     "output_type": "stream",
     "text": [
      "<UNK>\n"
     ]
    }
   ],
   "source": [
    "if args.dataset == 'oos':\n",
    "    unseen_label = 'oos'\n",
    "else:\n",
    "    unseen_label = '<UNK>'\n",
    "print(unseen_label)"
   ]
  },
  {
   "cell_type": "code",
   "execution_count": 73,
   "id": "7222e5da",
   "metadata": {},
   "outputs": [],
   "source": [
    "args.unseen_label_id = unseen_label_id = num_labels\n",
    "label_list = known_label_list + [unseen_label]"
   ]
  },
  {
   "cell_type": "code",
   "execution_count": 78,
   "id": "d4b9d249",
   "metadata": {},
   "outputs": [
    {
     "data": {
      "text/plain": [
       "(59, '<UNK>', 58)"
      ]
     },
     "execution_count": 78,
     "metadata": {},
     "output_type": "execute_result"
    }
   ],
   "source": [
    "len(label_list), label_list[num_labels], num_labels"
   ]
  },
  {
   "cell_type": "code",
   "execution_count": 90,
   "id": "e67b7178",
   "metadata": {},
   "outputs": [
    {
     "name": "stdout",
     "output_type": "stream",
     "text": [
      "bert\n"
     ]
    },
    {
     "ename": "KeyError",
     "evalue": "'data_dir'",
     "output_type": "error",
     "traceback": [
      "\u001b[0;31m---------------------------------------------------------------------------\u001b[0m",
      "\u001b[0;31mKeyError\u001b[0m                                  Traceback (most recent call last)",
      "Input \u001b[0;32mIn [90]\u001b[0m, in \u001b[0;36m<cell line: 2>\u001b[0;34m()\u001b[0m\n\u001b[1;32m      1\u001b[0m \u001b[38;5;28mprint\u001b[39m(args\u001b[38;5;241m.\u001b[39mbackbone)\n\u001b[0;32m----> 2\u001b[0m dataloader \u001b[38;5;241m=\u001b[39m \u001b[43mget_loader\u001b[49m\u001b[43m(\u001b[49m\u001b[43margs\u001b[49m\u001b[43m,\u001b[49m\u001b[43m \u001b[49m\u001b[43mget_attrs\u001b[49m\u001b[43m(\u001b[49m\u001b[43m)\u001b[49m\u001b[43m)\u001b[49m\n",
      "Input \u001b[0;32mIn [82]\u001b[0m, in \u001b[0;36mget_loader\u001b[0;34m(args, attrs)\u001b[0m\n\u001b[1;32m      7\u001b[0m \u001b[38;5;28;01mdef\u001b[39;00m \u001b[38;5;21mget_loader\u001b[39m(args, attrs):\n\u001b[0;32m----> 9\u001b[0m     dataloader \u001b[38;5;241m=\u001b[39m \u001b[43mbackbone_loader_map\u001b[49m\u001b[43m[\u001b[49m\u001b[43margs\u001b[49m\u001b[38;5;241;43m.\u001b[39;49m\u001b[43mbackbone\u001b[49m\u001b[43m]\u001b[49m\u001b[43m(\u001b[49m\u001b[43margs\u001b[49m\u001b[43m,\u001b[49m\u001b[43m \u001b[49m\u001b[43mattrs\u001b[49m\u001b[43m,\u001b[49m\u001b[43m \u001b[49m\u001b[43margs\u001b[49m\u001b[38;5;241;43m.\u001b[39;49m\u001b[43mlogger_name\u001b[49m\u001b[43m)\u001b[49m\n\u001b[1;32m     11\u001b[0m     \u001b[38;5;28;01mreturn\u001b[39;00m dataloader\n",
      "File \u001b[0;32m/workspace/ADB/TEXTOIR/open_intent_detection/dataloaders/bert_loader.py:14\u001b[0m, in \u001b[0;36mBERT_Loader.__init__\u001b[0;34m(self, args, base_attrs, logger_name)\u001b[0m\n\u001b[1;32m     12\u001b[0m \u001b[38;5;28;01mdef\u001b[39;00m \u001b[38;5;21m__init__\u001b[39m(\u001b[38;5;28mself\u001b[39m, args, base_attrs, logger_name \u001b[38;5;241m=\u001b[39m \u001b[38;5;124m'\u001b[39m\u001b[38;5;124mDetection\u001b[39m\u001b[38;5;124m'\u001b[39m):\n\u001b[1;32m     13\u001b[0m     \u001b[38;5;28mself\u001b[39m\u001b[38;5;241m.\u001b[39mlogger \u001b[38;5;241m=\u001b[39m logging\u001b[38;5;241m.\u001b[39mgetLogger(logger_name)\n\u001b[0;32m---> 14\u001b[0m     \u001b[38;5;28mself\u001b[39m\u001b[38;5;241m.\u001b[39mtrain_examples, \u001b[38;5;28mself\u001b[39m\u001b[38;5;241m.\u001b[39mtrain_labeled_examples, \u001b[38;5;28mself\u001b[39m\u001b[38;5;241m.\u001b[39mtrain_unlabeled_examples  \u001b[38;5;241m=\u001b[39m \u001b[43mget_examples\u001b[49m\u001b[43m(\u001b[49m\u001b[43margs\u001b[49m\u001b[43m,\u001b[49m\u001b[43m \u001b[49m\u001b[43mbase_attrs\u001b[49m\u001b[43m,\u001b[49m\u001b[43m \u001b[49m\u001b[38;5;124;43m'\u001b[39;49m\u001b[38;5;124;43mtrain\u001b[39;49m\u001b[38;5;124;43m'\u001b[39;49m\u001b[43m)\u001b[49m\n\u001b[1;32m     15\u001b[0m     \u001b[38;5;28mself\u001b[39m\u001b[38;5;241m.\u001b[39mlogger\u001b[38;5;241m.\u001b[39minfo(\u001b[38;5;124m\"\u001b[39m\u001b[38;5;124mNumber of labeled training samples = \u001b[39m\u001b[38;5;132;01m%s\u001b[39;00m\u001b[38;5;124m\"\u001b[39m, \u001b[38;5;28mstr\u001b[39m(\u001b[38;5;28mlen\u001b[39m(\u001b[38;5;28mself\u001b[39m\u001b[38;5;241m.\u001b[39mtrain_labeled_examples)))\n\u001b[1;32m     16\u001b[0m     \u001b[38;5;28mself\u001b[39m\u001b[38;5;241m.\u001b[39mlogger\u001b[38;5;241m.\u001b[39minfo(\u001b[38;5;124m\"\u001b[39m\u001b[38;5;124mNumber of unlabeled training samples = \u001b[39m\u001b[38;5;132;01m%s\u001b[39;00m\u001b[38;5;124m\"\u001b[39m, \u001b[38;5;28mstr\u001b[39m(\u001b[38;5;28mlen\u001b[39m(\u001b[38;5;28mself\u001b[39m\u001b[38;5;241m.\u001b[39mtrain_unlabeled_examples)))\n",
      "File \u001b[0;32m/workspace/ADB/TEXTOIR/open_intent_detection/dataloaders/bert_loader.py:37\u001b[0m, in \u001b[0;36mget_examples\u001b[0;34m(args, base_attrs, mode)\u001b[0m\n\u001b[1;32m     34\u001b[0m \u001b[38;5;28;01mdef\u001b[39;00m \u001b[38;5;21mget_examples\u001b[39m(args, base_attrs, mode):\n\u001b[1;32m     36\u001b[0m     processor \u001b[38;5;241m=\u001b[39m DatasetProcessor()\n\u001b[0;32m---> 37\u001b[0m     ori_examples \u001b[38;5;241m=\u001b[39m processor\u001b[38;5;241m.\u001b[39mget_examples(\u001b[43mbase_attrs\u001b[49m\u001b[43m[\u001b[49m\u001b[38;5;124;43m'\u001b[39;49m\u001b[38;5;124;43mdata_dir\u001b[39;49m\u001b[38;5;124;43m'\u001b[39;49m\u001b[43m]\u001b[49m, mode)\n\u001b[1;32m     38\u001b[0m     \u001b[38;5;28;01mif\u001b[39;00m mode \u001b[38;5;241m==\u001b[39m \u001b[38;5;124m'\u001b[39m\u001b[38;5;124mtrain\u001b[39m\u001b[38;5;124m'\u001b[39m:\n\u001b[1;32m     40\u001b[0m         labeled_examples, unlabeled_examples \u001b[38;5;241m=\u001b[39m [], []\n",
      "\u001b[0;31mKeyError\u001b[0m: 'data_dir'"
     ]
    }
   ],
   "source": [
    "print(args.backbone)\n",
    "dataloader = get_loader(args, get_attrs())"
   ]
  },
  {
   "cell_type": "code",
   "execution_count": 240,
   "id": "7a43a4f4",
   "metadata": {},
   "outputs": [
    {
     "data": {
      "text/plain": [
       "<dataloaders.bert_loader.BERT_Loader at 0x7fea50b3daf0>"
      ]
     },
     "execution_count": 240,
     "metadata": {},
     "output_type": "execute_result"
    }
   ],
   "source": [
    "data.dataloader"
   ]
  },
  {
   "cell_type": "markdown",
   "id": "c7d3bcb7",
   "metadata": {},
   "source": [
    "### 위에 에러는 get_attrs() 함수에서 인자를 못받는 문제가 생김, 에러는 BERT_Loader 클래스에서 발생\n",
    "위에 실행했던것들은 클래스의 init으로 실행됨\n",
    "클래스 안의 get_attrs(self)는 self 를 인자로 받아서 \n",
    "```python\n",
    "    def get_attrs(self):\n",
    "\n",
    "        attrs = {}\n",
    "        for name, value in vars(self).items():\n",
    "            attrs[name] = value\n",
    "\n",
    "        return attrs\n",
    "```\n",
    "- self를 사용. 즉, 클래스의 변수를 사용한다.\n",
    "- 그래서 위에서 사용한 방법은 에러가 난다. \n",
    "- 클래스의 변수를 따로 다음 \"bert_loader.py\"의 get_examples에 입력할 것임"
   ]
  },
  {
   "cell_type": "markdown",
   "id": "0c1f638e",
   "metadata": {},
   "source": [
    "```python \n",
    "class BERT_Loader:\n",
    "    def __init__(self, args, base_attrs, logger_name = 'Detection'):\n",
    "    self.logger = logging.getLogger(logger_name)\n",
    "    self.train_examples, self.train_labeled_examples, self.train_unlabeled_examples  = get_examples(args, base_attrs, 'train')\n",
    "```        \n",
    "밑에 3개의 변수들의 역활을 분석하기 위해서는 ```get_examples```을 알아봐야할듯"
   ]
  },
  {
   "cell_type": "code",
   "execution_count": 102,
   "id": "4fa4ba19",
   "metadata": {},
   "outputs": [
    {
     "data": {
      "text/plain": [
       "(9003, 6561, 2442)"
      ]
     },
     "execution_count": 102,
     "metadata": {},
     "output_type": "execute_result"
    }
   ],
   "source": [
    "len(data.dataloader.train_examples), len(data.dataloader.train_labeled_examples), len(data.dataloader.train_unlabeled_examples)"
   ]
  },
  {
   "cell_type": "markdown",
   "id": "d2f6258c",
   "metadata": {},
   "source": [
    "```python \n",
    "def get_examples(args, base_attrs, mode):\n",
    "\n",
    "    processor = DatasetProcessor() <- 이거 봐야할듯 \n",
    "    ori_examples = processor.get_examples(base_attrs['data_dir'], mode)\n",
    "```\n"
   ]
  },
  {
   "cell_type": "markdown",
   "id": "e17747d5",
   "metadata": {},
   "source": [
    "### DatasetProcessor()\n",
    "```python \n",
    "class DatasetProcessor(DataProcessor):\n",
    "    def get_examples(self, data_dir, mode):\n",
    "    if mode == 'train':\n",
    "        return self._create_examples(\n",
    "            self._read_tsv(os.path.join(data_dir, \"train.tsv\")), \"train\")\n",
    "```"
   ]
  },
  {
   "cell_type": "code",
   "execution_count": 196,
   "id": "2959341b",
   "metadata": {},
   "outputs": [
    {
     "name": "stdout",
     "output_type": "stream",
     "text": [
      "/workspace/ADB/TEXTOIR/open_intent_detection/../data/banking/train.tsv\n"
     ]
    }
   ],
   "source": [
    "import csv\n",
    "\n",
    "input_file = os.path.join(data_dir, \"train.tsv\")\n",
    "print(input_file)\n",
    "\n",
    "with open(input_file, \"r\") as f:\n",
    "    reader = csv.reader(f, delimiter=\"\\t\", quotechar=None)\n",
    "    lines = []\n",
    "    for line in reader:\n",
    "        if sys.version_info[0] == 2:\n",
    "            line = list(unicode(cell, 'utf-8') for cell in line)\n",
    "        lines.append(line)"
   ]
  },
  {
   "cell_type": "code",
   "execution_count": 197,
   "id": "133d269f",
   "metadata": {},
   "outputs": [
    {
     "data": {
      "text/plain": [
       "9017"
      ]
     },
     "execution_count": 197,
     "metadata": {},
     "output_type": "execute_result"
    }
   ],
   "source": [
    "len(lines)"
   ]
  },
  {
   "cell_type": "code",
   "execution_count": 188,
   "id": "5d4801ae",
   "metadata": {},
   "outputs": [],
   "source": [
    "class InputExample(object):\n",
    "    \"\"\"A single training/test example for simple sequence classification.\"\"\"\n",
    "\n",
    "    def __init__(self, guid, text_a, text_b=None, label=None):\n",
    "        \"\"\"Constructs a InputExample.\n",
    "\n",
    "        Args:\n",
    "            guid: Unique id for the example.\n",
    "            text_a: string. The untokenized text of the first sequence. For single\n",
    "            sequence tasks, only this sequence must be specified.\n",
    "            text_b: (Optional) string. The untokenized text of the second sequence.\n",
    "            Only must be specified for sequence pair tasks.\n",
    "            label: (Optional) string. The label of the example. This should be\n",
    "            specified for train and dev examples, but not for test examples.\n",
    "        \"\"\"\n",
    "        self.guid = guid\n",
    "        self.text_a = text_a\n",
    "        self.text_b = text_b\n",
    "        self.label = label"
   ]
  },
  {
   "cell_type": "code",
   "execution_count": 189,
   "id": "f17428da",
   "metadata": {},
   "outputs": [],
   "source": [
    "def _create_examples(lines, set_type):\n",
    "    \"\"\"Creates examples for the training and dev sets.\"\"\"\n",
    "    examples = []\n",
    "    for (i, line) in enumerate(lines):\n",
    "        if i == 0:\n",
    "            continue\n",
    "        if len(line) != 2:\n",
    "            continue\n",
    "        guid = \"%s-%s\" % (set_type, i)\n",
    "        text_a = line[0]\n",
    "        label = line[1]\n",
    "\n",
    "        examples.append(\n",
    "            InputExample(guid=guid, text_a=text_a, text_b=None, label=label))\n",
    "    return examples"
   ]
  },
  {
   "cell_type": "code",
   "execution_count": 198,
   "id": "a60c29b7",
   "metadata": {},
   "outputs": [],
   "source": [
    "ori_examples = _create_examples(lines, \"train\")"
   ]
  },
  {
   "cell_type": "code",
   "execution_count": 204,
   "id": "0d51e2f7",
   "metadata": {},
   "outputs": [
    {
     "data": {
      "text/plain": [
       "('train-1',\n",
       " 'Could you help my figure out the exchange fee?',\n",
       " None,\n",
       " 'exchange_charge')"
      ]
     },
     "execution_count": 204,
     "metadata": {},
     "output_type": "execute_result"
    }
   ],
   "source": [
    "ori_examples[0].guid, ori_examples[0].text_a, ori_examples[0].text_b, ori_examples[0].label"
   ]
  },
  {
   "cell_type": "code",
   "execution_count": 207,
   "id": "72254c9b",
   "metadata": {},
   "outputs": [],
   "source": [
    "labeled_examples, unlabeled_examples = [], []\n",
    "for example in ori_examples:\n",
    "    if (example.label in known_label_list) and (np.random.uniform(0, 1) <= args.labeled_ratio):\n",
    "        labeled_examples.append(example)\n",
    "    else:\n",
    "        example.label = unseen_label\n",
    "        unlabeled_examples.append(example)"
   ]
  },
  {
   "cell_type": "markdown",
   "id": "bf981ae4",
   "metadata": {},
   "source": [
    "```ori_examples = data.dataloader.train_examples, ```\n",
    "\n",
    "```labeled_examples = data.dataloader.train_labeled_examples, ```\n",
    "\n",
    "```unlabeled_examples = data.dataloader.train_unlabeled_examples```"
   ]
  },
  {
   "cell_type": "markdown",
   "id": "7f5ba578",
   "metadata": {},
   "source": [
    "# 다시 BERT_Loader 클래스로 돌아와서\n",
    "- 여기 밑에 두개는 똑같이 get_examples임. eval, test를 위한\n",
    "- base_attrs 는 class DataManager 저장\n",
    "\n",
    "\n",
    "```python \n",
    "self.eval_examples = get_examples(args, base_attrs, 'eval')\n",
    "self.test_examples = get_examples(args, base_attrs, 'test')\n",
    "\n",
    "self.base_attrs = base_attrs\n",
    "self.init_loader(args)\n",
    "\n",
    "```\n",
    "### init_loader 를 살펴보자"
   ]
  },
  {
   "cell_type": "markdown",
   "id": "6b136d22",
   "metadata": {},
   "source": [
    "```python\n",
    "def init_loader(self, args):\n",
    "        \n",
    "        self.train_labeled_loader = get_loader(self.train_labeled_examples, args, self.base_attrs['label_list'], 'train_labeled', sampler_mode = 'random')\n",
    "        self.train_unlabeled_loader = get_loader(self.train_unlabeled_examples, args, self.base_attrs['label_list'], 'train_unlabeled', sampler_mode = 'sequential')\n",
    "        self.eval_loader = get_loader(self.eval_examples, args, self.base_attrs['label_list'], 'eval', sampler_mode = 'sequential')\n",
    "        self.test_loader = get_loader(self.test_examples, args, self.base_attrs['label_list'], 'test', sampler_mode = 'sequential')\n",
    "        self.num_train_examples = len(self.train_labeled_examples)\n",
    "```\n",
    "\n",
    "### ```get_loader```를 봐야겠음"
   ]
  },
  {
   "cell_type": "code",
   "execution_count": 209,
   "id": "09dbfceb",
   "metadata": {},
   "outputs": [],
   "source": [
    "from transformers import BertTokenizer\n",
    "\n",
    "tokenizer = BertTokenizer.from_pretrained('bert-base-uncased', do_lower_case=True)"
   ]
  },
  {
   "cell_type": "markdown",
   "id": "3a802b10",
   "metadata": {},
   "source": [
    "```python \n",
    "features = convert_examples_to_features(examples, label_list, args.max_seq_length, tokenizer)\n",
    "```\n",
    "\n",
    "- tokenizer를 불러와서 ```convert_examples_to_features``` 실행 "
   ]
  },
  {
   "cell_type": "code",
   "execution_count": 223,
   "id": "780b27e8",
   "metadata": {
    "scrolled": true
   },
   "outputs": [
    {
     "name": "stdout",
     "output_type": "stream",
     "text": [
      "['wrong_amount_of_cash_received', 'order_physical_card', 'change_pin', 'card_delivery_estimate', 'extra_charge_on_statement'] train_labeled\n"
     ]
    }
   ],
   "source": [
    "print(label_list[:5], 'train_labeled')\n",
    "examples = labeled_examples"
   ]
  },
  {
   "cell_type": "markdown",
   "id": "6f47c677",
   "metadata": {},
   "source": [
    "### convert_examples_to_features"
   ]
  },
  {
   "cell_type": "code",
   "execution_count": 218,
   "id": "9b6fb61e",
   "metadata": {},
   "outputs": [],
   "source": [
    "# label_map을 dictionary로 저장\n",
    "label_map = {}\n",
    "if label_list is not None:\n",
    "    for i, label in enumerate(label_list):\n",
    "        label_map[label] = i"
   ]
  },
  {
   "cell_type": "code",
   "execution_count": 227,
   "id": "83ca0359",
   "metadata": {},
   "outputs": [
    {
     "data": {
      "text/plain": [
       "('Could you help my figure out the exchange fee?',\n",
       " 'exchange_charge',\n",
       " None,\n",
       " 'train-1')"
      ]
     },
     "execution_count": 227,
     "metadata": {},
     "output_type": "execute_result"
    }
   ],
   "source": [
    "examples[0].text_a, examples[0].label, examples[0].text_b, examples[0].guid"
   ]
  },
  {
   "cell_type": "code",
   "execution_count": 229,
   "id": "79f00dda",
   "metadata": {},
   "outputs": [
    {
     "name": "stdout",
     "output_type": "stream",
     "text": [
      "55\n"
     ]
    }
   ],
   "source": [
    "max_seq_length = args.max_seq_length\n",
    "print(max_seq_length)\n",
    "features = []\n",
    "for (ex_index, example) in enumerate(examples):\n",
    "    tokens_a = tokenizer.tokenize(example.text_a)\n",
    "    \n",
    "    # 앞뒤로 \"[CLS]\"] + tokens_a + [\"[SEP]\"] 를 해주기 위해서 - 2\n",
    "    if len(tokens_a) > max_seq_length - 2:\n",
    "        tokens_a = tokens_a[:(max_seq_length - 2)]"
   ]
  },
  {
   "cell_type": "code",
   "execution_count": 217,
   "id": "3bd85350",
   "metadata": {},
   "outputs": [
    {
     "data": {
      "text/plain": [
       "{'wrong_amount_of_cash_received': 0,\n",
       " 'order_physical_card': 1,\n",
       " 'change_pin': 2,\n",
       " 'card_delivery_estimate': 3,\n",
       " 'extra_charge_on_statement': 4,\n",
       " 'transaction_charged_twice': 5,\n",
       " 'apple_pay_or_google_pay': 6,\n",
       " 'top_up_limits': 7,\n",
       " 'compromised_card': 8,\n",
       " 'cash_withdrawal_not_recognised': 9,\n",
       " 'cash_withdrawal_charge': 10,\n",
       " 'visa_or_mastercard': 11,\n",
       " 'virtual_card_not_working': 12,\n",
       " 'getting_virtual_card': 13,\n",
       " 'beneficiary_not_allowed': 14,\n",
       " 'card_linking': 15,\n",
       " 'activate_my_card': 16,\n",
       " 'request_refund': 17,\n",
       " 'declined_transfer': 18,\n",
       " 'country_support': 19,\n",
       " 'automatic_top_up': 20,\n",
       " 'transfer_not_received_by_recipient': 21,\n",
       " 'get_physical_card': 22,\n",
       " 'top_up_failed': 23,\n",
       " 'passcode_forgotten': 24,\n",
       " 'verify_top_up': 25,\n",
       " 'pending_transfer': 26,\n",
       " 'exchange_rate': 27,\n",
       " 'getting_spare_card': 28,\n",
       " 'terminate_account': 29,\n",
       " 'unable_to_verify_identity': 30,\n",
       " 'card_swallowed': 31,\n",
       " 'exchange_charge': 32,\n",
       " 'age_limit': 33,\n",
       " 'card_acceptance': 34,\n",
       " 'declined_cash_withdrawal': 35,\n",
       " 'verify_source_of_funds': 36,\n",
       " 'topping_up_by_card': 37,\n",
       " 'pending_top_up': 38,\n",
       " 'edit_personal_details': 39,\n",
       " 'wrong_exchange_rate_for_cash_withdrawal': 40,\n",
       " 'card_payment_not_recognised': 41,\n",
       " 'atm_support': 42,\n",
       " 'declined_card_payment': 43,\n",
       " 'balance_not_updated_after_bank_transfer': 44,\n",
       " 'transfer_timing': 45,\n",
       " 'Refund_not_showing_up': 46,\n",
       " 'card_not_working': 47,\n",
       " 'failed_transfer': 48,\n",
       " 'contactless_not_working': 49,\n",
       " 'reverted_card_payment?': 50,\n",
       " 'receiving_money': 51,\n",
       " 'direct_debit_payment_not_recognised': 52,\n",
       " 'pending_cash_withdrawal': 53,\n",
       " 'why_verify_identity': 54,\n",
       " 'balance_not_updated_after_cheque_or_cash_deposit': 55,\n",
       " 'card_arrival': 56,\n",
       " 'top_up_by_bank_transfer_charge': 57,\n",
       " '<UNK>': 58}"
      ]
     },
     "execution_count": 217,
     "metadata": {},
     "output_type": "execute_result"
    }
   ],
   "source": [
    "label_map"
   ]
  },
  {
   "cell_type": "code",
   "execution_count": 228,
   "id": "e66d20df",
   "metadata": {},
   "outputs": [],
   "source": [
    "if example.text_b:\n",
    "    print(\":s\")"
   ]
  },
  {
   "cell_type": "markdown",
   "id": "5a8dc2fc",
   "metadata": {},
   "source": [
    "# Model 분석"
   ]
  },
  {
   "cell_type": "code",
   "execution_count": 163,
   "id": "3a5a454a",
   "metadata": {},
   "outputs": [],
   "source": [
    "class Example():\n",
    "    def met1(self, v=1):\n",
    "        self.v=v\n",
    "    \n",
    "    @classmethod\n",
    "    def met2(self, v):\n",
    "        self.v = v"
   ]
  },
  {
   "cell_type": "code",
   "execution_count": 164,
   "id": "0b7d97e5",
   "metadata": {},
   "outputs": [
    {
     "name": "stdout",
     "output_type": "stream",
     "text": [
      "2\n",
      "3\n"
     ]
    }
   ],
   "source": [
    "a = Example()\n",
    "b = Example()\n",
    "\n",
    "a.met1(2)\n",
    "a.met2(3)\n",
    "\n",
    "print(a.v)\n",
    "print(b.v)"
   ]
  },
  {
   "cell_type": "code",
   "execution_count": null,
   "id": "3a3bcf5b",
   "metadata": {},
   "outputs": [],
   "source": []
  },
  {
   "cell_type": "code",
   "execution_count": 4,
   "id": "5118606e",
   "metadata": {},
   "outputs": [
    {
     "data": {
      "text/plain": [
       "(dataloaders.base.DataManager, <backbones.base.ModelManager at 0x7fea502d7e20>)"
      ]
     },
     "execution_count": 4,
     "metadata": {},
     "output_type": "execute_result"
    }
   ],
   "source": [
    "type(data), model"
   ]
  },
  {
   "cell_type": "code",
   "execution_count": 255,
   "id": "cb886d4d",
   "metadata": {},
   "outputs": [],
   "source": [
    "class Example():\n",
    "    cls_v = 12\n",
    "    def met1(self, v=1):\n",
    "        self.v = v\n",
    "    \n",
    "    @classmethod \n",
    "    def met2(self, v):\n",
    "        self.v = v"
   ]
  },
  {
   "cell_type": "code",
   "execution_count": 258,
   "id": "9ae79340",
   "metadata": {},
   "outputs": [
    {
     "name": "stdout",
     "output_type": "stream",
     "text": [
      "3\n",
      "3\n"
     ]
    }
   ],
   "source": [
    "a=Example()\n",
    "b=Example()\n",
    "\n",
    "a.met2(2)\n",
    "a.met2(3)\n",
    "\n",
    "print(a.v)\n",
    "print(b.v)"
   ]
  },
  {
   "cell_type": "code",
   "execution_count": 5,
   "id": "5c221d4f",
   "metadata": {},
   "outputs": [],
   "source": [
    "train_dataloader = data.dataloader.train_labeled_loader"
   ]
  },
  {
   "cell_type": "code",
   "execution_count": 6,
   "id": "ea825a32",
   "metadata": {},
   "outputs": [
    {
     "data": {
      "text/plain": [
       "torch.utils.data.dataloader.DataLoader"
      ]
     },
     "execution_count": 6,
     "metadata": {},
     "output_type": "execute_result"
    }
   ],
   "source": [
    "type(train_dataloader)"
   ]
  },
  {
   "cell_type": "code",
   "execution_count": 7,
   "id": "ce042729",
   "metadata": {
    "scrolled": true
   },
   "outputs": [
    {
     "name": "stdout",
     "output_type": "stream",
     "text": [
      "0 torch.Size([128, 55])\n",
      "1 torch.Size([128, 55])\n",
      "2 torch.Size([128, 55])\n",
      "3 torch.Size([128, 55])\n",
      "4 torch.Size([128, 55])\n",
      "5 torch.Size([128, 55])\n",
      "6 torch.Size([128, 55])\n",
      "7 torch.Size([128, 55])\n",
      "8 torch.Size([128, 55])\n",
      "9 torch.Size([128, 55])\n",
      "10 torch.Size([128, 55])\n",
      "11 torch.Size([128, 55])\n",
      "12 torch.Size([128, 55])\n",
      "13 torch.Size([128, 55])\n",
      "14 torch.Size([128, 55])\n",
      "15 torch.Size([128, 55])\n",
      "16 torch.Size([128, 55])\n",
      "17 torch.Size([128, 55])\n",
      "18 torch.Size([128, 55])\n",
      "19 torch.Size([128, 55])\n",
      "20 torch.Size([128, 55])\n",
      "21 torch.Size([128, 55])\n",
      "22 torch.Size([128, 55])\n",
      "23 torch.Size([128, 55])\n",
      "24 torch.Size([128, 55])\n",
      "25 torch.Size([128, 55])\n",
      "26 torch.Size([128, 55])\n",
      "27 torch.Size([128, 55])\n",
      "28 torch.Size([128, 55])\n",
      "29 torch.Size([128, 55])\n",
      "30 torch.Size([128, 55])\n",
      "31 torch.Size([128, 55])\n",
      "32 torch.Size([128, 55])\n",
      "33 torch.Size([128, 55])\n",
      "34 torch.Size([128, 55])\n",
      "35 torch.Size([128, 55])\n",
      "36 torch.Size([128, 55])\n",
      "37 torch.Size([128, 55])\n",
      "38 torch.Size([128, 55])\n",
      "39 torch.Size([128, 55])\n",
      "40 torch.Size([128, 55])\n",
      "41 torch.Size([128, 55])\n",
      "42 torch.Size([128, 55])\n",
      "43 torch.Size([128, 55])\n",
      "44 torch.Size([128, 55])\n",
      "45 torch.Size([128, 55])\n",
      "46 torch.Size([128, 55])\n",
      "47 torch.Size([128, 55])\n",
      "48 torch.Size([128, 55])\n",
      "49 torch.Size([128, 55])\n",
      "50 torch.Size([128, 55])\n",
      "51 torch.Size([33, 55])\n"
     ]
    }
   ],
   "source": [
    "import tqdm\n",
    "\n",
    "for step, batch in enumerate(train_dataloader):\n",
    "    print(step, batch[0].shape)"
   ]
  },
  {
   "cell_type": "code",
   "execution_count": 9,
   "id": "48b0e51e",
   "metadata": {},
   "outputs": [],
   "source": [
    "input_ids, input_mask, segment_ids, label_ids = batch"
   ]
  },
  {
   "cell_type": "code",
   "execution_count": 11,
   "id": "41890cc6",
   "metadata": {},
   "outputs": [
    {
     "data": {
      "text/plain": [
       "(torch.Size([33, 55]),\n",
       " torch.Size([33, 55]),\n",
       " torch.Size([33, 55]),\n",
       " torch.Size([33]))"
      ]
     },
     "execution_count": 11,
     "metadata": {},
     "output_type": "execute_result"
    }
   ],
   "source": [
    "input_ids.shape, input_mask.shape, segment_ids.shape, label_ids.shape"
   ]
  },
  {
   "cell_type": "code",
   "execution_count": null,
   "id": "29f21afa",
   "metadata": {},
   "outputs": [],
   "source": []
  },
  {
   "cell_type": "code",
   "execution_count": null,
   "id": "6906536d",
   "metadata": {},
   "outputs": [],
   "source": []
  },
  {
   "cell_type": "code",
   "execution_count": 4,
   "id": "8691a194",
   "metadata": {},
   "outputs": [
    {
     "name": "stdout",
     "output_type": "stream",
     "text": [
      "LibMR not installed or libmr.so not found\n",
      "Install libmr: cd libMR/; ./compile.sh\n",
      "ADB\n"
     ]
    }
   ],
   "source": [
    "from methods import method_map\n",
    "\n",
    "print(args.method)\n",
    "\n",
    "method_manager = method_map[args.method]"
   ]
  },
  {
   "cell_type": "code",
   "execution_count": 5,
   "id": "4f4279fe",
   "metadata": {
    "scrolled": true
   },
   "outputs": [
    {
     "name": "stderr",
     "output_type": "stream",
     "text": [
      "Epoch:   0%|                                                                                                                                                                       | 0/100 [00:00<?, ?it/s]\n",
      "Iteration:   0%|                                                                                                                                                                    | 0/52 [00:00<?, ?it/s]\u001b[A\n",
      "Iteration:   4%|██████                                                                                                                                                      | 2/52 [00:00<00:04, 11.89it/s]\u001b[A"
     ]
    },
    {
     "name": "stdout",
     "output_type": "stream",
     "text": [
      "ADB init\n",
      "pretrainManage\n",
      "pretrainmanager init if\n",
      "pretrainmanager init else bert_disaware\n"
     ]
    },
    {
     "name": "stderr",
     "output_type": "stream",
     "text": [
      "\n",
      "Iteration:   8%|████████████                                                                                                                                                | 4/52 [00:00<00:04, 10.73it/s]\u001b[A\n",
      "Iteration:  12%|██████████████████                                                                                                                                          | 6/52 [00:00<00:04, 11.37it/s]\u001b[A\n",
      "Iteration:  15%|████████████████████████                                                                                                                                    | 8/52 [00:00<00:03, 11.86it/s]\u001b[A\n",
      "Iteration:  19%|█████████████████████████████▊                                                                                                                             | 10/52 [00:00<00:03, 12.24it/s]\u001b[A\n",
      "Iteration:  23%|███████████████████████████████████▊                                                                                                                       | 12/52 [00:01<00:03, 12.51it/s]\u001b[A\n",
      "Iteration:  27%|█████████████████████████████████████████▋                                                                                                                 | 14/52 [00:01<00:02, 12.72it/s]\u001b[A\n",
      "Iteration:  31%|███████████████████████████████████████████████▋                                                                                                           | 16/52 [00:01<00:02, 12.81it/s]\u001b[A\n",
      "Iteration:  35%|█████████████████████████████████████████████████████▋                                                                                                     | 18/52 [00:01<00:02, 12.92it/s]\u001b[A\n",
      "Iteration:  38%|███████████████████████████████████████████████████████████▌                                                                                               | 20/52 [00:01<00:02, 13.00it/s]\u001b[A\n",
      "Iteration:  42%|█████████████████████████████████████████████████████████████████▌                                                                                         | 22/52 [00:01<00:02, 13.04it/s]\u001b[A\n",
      "Iteration:  46%|███████████████████████████████████████████████████████████████████████▌                                                                                   | 24/52 [00:01<00:02, 13.09it/s]\u001b[A\n",
      "Iteration:  50%|█████████████████████████████████████████████████████████████████████████████▌                                                                             | 26/52 [00:02<00:01, 13.11it/s]\u001b[A\n",
      "Iteration:  54%|███████████████████████████████████████████████████████████████████████████████████▍                                                                       | 28/52 [00:02<00:01, 13.16it/s]\u001b[A\n",
      "Iteration:  58%|█████████████████████████████████████████████████████████████████████████████████████████▍                                                                 | 30/52 [00:02<00:01, 13.17it/s]\u001b[A\n",
      "Iteration:  62%|███████████████████████████████████████████████████████████████████████████████████████████████▍                                                           | 32/52 [00:02<00:01, 13.19it/s]\u001b[A\n",
      "Iteration:  65%|█████████████████████████████████████████████████████████████████████████████████████████████████████▎                                                     | 34/52 [00:02<00:01, 13.20it/s]\u001b[A\n",
      "Iteration:  69%|███████████████████████████████████████████████████████████████████████████████████████████████████████████▎                                               | 36/52 [00:02<00:01, 13.21it/s]\u001b[A\n",
      "Iteration:  73%|█████████████████████████████████████████████████████████████████████████████████████████████████████████████████▎                                         | 38/52 [00:02<00:01, 13.23it/s]\u001b[A\n",
      "Iteration:  77%|███████████████████████████████████████████████████████████████████████████████████████████████████████████████████████▏                                   | 40/52 [00:03<00:00, 13.24it/s]\u001b[A\n",
      "Iteration:  81%|█████████████████████████████████████████████████████████████████████████████████████████████████████████████████████████████▏                             | 42/52 [00:03<00:00, 13.19it/s]\u001b[A\n",
      "Iteration:  85%|███████████████████████████████████████████████████████████████████████████████████████████████████████████████████████████████████▏                       | 44/52 [00:03<00:00, 13.21it/s]\u001b[A\n",
      "Iteration:  88%|█████████████████████████████████████████████████████████████████████████████████████████████████████████████████████████████████████████                  | 46/52 [00:03<00:00, 13.21it/s]\u001b[A\n",
      "Iteration:  92%|███████████████████████████████████████████████████████████████████████████████████████████████████████████████████████████████████████████████            | 48/52 [00:03<00:00, 13.22it/s]\u001b[A\n",
      "Iteration:  96%|█████████████████████████████████████████████████████████████████████████████████████████████████████████████████████████████████████████████████████      | 50/52 [00:03<00:00, 13.23it/s]\u001b[A\n",
      "Iteration: 100%|███████████████████████████████████████████████████████████████████████████████████████████████████████████████████████████████████████████████████████████| 52/52 [00:03<00:00, 13.04it/s]\u001b[A\n",
      "\n",
      "Iteration:   0%|                                                                                                                                                                    | 0/12 [00:00<?, ?it/s]\u001b[A\n",
      "Iteration:  33%|████████████████████████████████████████████████████                                                                                                        | 4/12 [00:00<00:00, 36.72it/s]\u001b[A\n",
      "Iteration:  67%|████████████████████████████████████████████████████████████████████████████████████████████████████████                                                    | 8/12 [00:00<00:00, 34.65it/s]\u001b[A\n",
      "Iteration: 100%|███████████████████████████████████████████████████████████████████████████████████████████████████████████████████████████████████████████████████████████| 12/12 [00:00<00:00, 31.84it/s]\u001b[A\n",
      "Epoch:   1%|█▌                                                                                                                                                             | 1/100 [00:04<07:14,  4.39s/it]\n",
      "Iteration:   0%|                                                                                                                                                                    | 0/52 [00:00<?, ?it/s]\u001b[A\n",
      "Iteration:   4%|██████                                                                                                                                                      | 2/52 [00:00<00:03, 13.50it/s]\u001b[A\n",
      "Iteration:   8%|████████████                                                                                                                                                | 4/52 [00:00<00:03, 13.41it/s]\u001b[A\n",
      "Iteration:  12%|██████████████████                                                                                                                                          | 6/52 [00:00<00:03, 13.37it/s]\u001b[A\n",
      "Iteration:  15%|████████████████████████                                                                                                                                    | 8/52 [00:00<00:03, 13.35it/s]\u001b[A\n",
      "Iteration:  19%|█████████████████████████████▊                                                                                                                             | 10/52 [00:00<00:03, 13.33it/s]\u001b[A\n",
      "Iteration:  23%|███████████████████████████████████▊                                                                                                                       | 12/52 [00:00<00:03, 13.30it/s]\u001b[A\n",
      "Iteration:  27%|█████████████████████████████████████████▋                                                                                                                 | 14/52 [00:01<00:02, 13.27it/s]\u001b[A\n",
      "Iteration:  31%|███████████████████████████████████████████████▋                                                                                                           | 16/52 [00:01<00:02, 13.26it/s]\u001b[A\n"
     ]
    },
    {
     "name": "stderr",
     "output_type": "stream",
     "text": [
      "Iteration:  35%|█████████████████████████████████████████████████████▋                                                                                                     | 18/52 [00:01<00:02, 13.26it/s]\u001b[A\n",
      "Iteration:  38%|███████████████████████████████████████████████████████████▌                                                                                               | 20/52 [00:01<00:02, 13.26it/s]\u001b[A\n",
      "Iteration:  42%|█████████████████████████████████████████████████████████████████▌                                                                                         | 22/52 [00:01<00:02, 13.28it/s]\u001b[A\n",
      "Iteration:  46%|███████████████████████████████████████████████████████████████████████▌                                                                                   | 24/52 [00:01<00:02, 13.29it/s]\u001b[A\n",
      "Iteration:  50%|█████████████████████████████████████████████████████████████████████████████▌                                                                             | 26/52 [00:01<00:01, 13.28it/s]\u001b[A\n",
      "Iteration:  54%|███████████████████████████████████████████████████████████████████████████████████▍                                                                       | 28/52 [00:02<00:01, 13.24it/s]\u001b[A\n",
      "Iteration:  58%|█████████████████████████████████████████████████████████████████████████████████████████▍                                                                 | 30/52 [00:02<00:01, 13.23it/s]\u001b[A\n",
      "Iteration:  62%|███████████████████████████████████████████████████████████████████████████████████████████████▍                                                           | 32/52 [00:02<00:01, 13.23it/s]\u001b[A\n",
      "Iteration:  65%|█████████████████████████████████████████████████████████████████████████████████████████████████████▎                                                     | 34/52 [00:02<00:01, 13.22it/s]\u001b[A\n",
      "Iteration:  69%|███████████████████████████████████████████████████████████████████████████████████████████████████████████▎                                               | 36/52 [00:02<00:01, 13.24it/s]\u001b[A\n",
      "Iteration:  73%|█████████████████████████████████████████████████████████████████████████████████████████████████████████████████▎                                         | 38/52 [00:02<00:01, 13.22it/s]\u001b[A\n",
      "Iteration:  77%|███████████████████████████████████████████████████████████████████████████████████████████████████████████████████████▏                                   | 40/52 [00:03<00:00, 13.20it/s]\u001b[A\n",
      "Iteration:  81%|█████████████████████████████████████████████████████████████████████████████████████████████████████████████████████████████▏                             | 42/52 [00:03<00:00, 13.20it/s]\u001b[A\n",
      "Iteration:  85%|███████████████████████████████████████████████████████████████████████████████████████████████████████████████████████████████████▏                       | 44/52 [00:03<00:00, 13.19it/s]\u001b[A\n",
      "Iteration:  88%|█████████████████████████████████████████████████████████████████████████████████████████████████████████████████████████████████████████                  | 46/52 [00:03<00:00, 13.20it/s]\u001b[A\n",
      "Iteration:  92%|███████████████████████████████████████████████████████████████████████████████████████████████████████████████████████████████████████████████            | 48/52 [00:03<00:00, 13.21it/s]\u001b[A\n",
      "Iteration:  96%|█████████████████████████████████████████████████████████████████████████████████████████████████████████████████████████████████████████████████████      | 50/52 [00:03<00:00, 13.22it/s]\u001b[A\n",
      "Iteration: 100%|███████████████████████████████████████████████████████████████████████████████████████████████████████████████████████████████████████████████████████████| 52/52 [00:03<00:00, 13.39it/s]\u001b[A\n",
      "\n",
      "Iteration:   0%|                                                                                                                                                                    | 0/12 [00:00<?, ?it/s]\u001b[A\n",
      "Iteration:  33%|████████████████████████████████████████████████████                                                                                                        | 4/12 [00:00<00:00, 37.27it/s]\u001b[A\n",
      "Iteration:  58%|███████████████████████████████████████████████████████████████████████████████████████████                                                                 | 7/12 [00:00<00:00, 34.66it/s]\u001b[A\n",
      "Iteration: 100%|███████████████████████████████████████████████████████████████████████████████████████████████████████████████████████████████████████████████████████████| 12/12 [00:00<00:00, 31.89it/s]\u001b[A\n",
      "Epoch:   2%|███▏                                                                                                                                                           | 2/100 [00:08<07:07,  4.36s/it]\n",
      "Iteration:   0%|                                                                                                                                                                    | 0/52 [00:00<?, ?it/s]\u001b[A\n",
      "Iteration:   4%|██████                                                                                                                                                      | 2/52 [00:00<00:03, 13.47it/s]\u001b[A\n",
      "Iteration:   8%|████████████                                                                                                                                                | 4/52 [00:00<00:03, 13.37it/s]\u001b[A\n",
      "Iteration:  12%|██████████████████                                                                                                                                          | 6/52 [00:00<00:03, 13.30it/s]\u001b[A\n",
      "Iteration:  15%|████████████████████████                                                                                                                                    | 8/52 [00:00<00:03, 13.28it/s]\u001b[A\n",
      "Iteration:  19%|█████████████████████████████▊                                                                                                                             | 10/52 [00:00<00:03, 13.24it/s]\u001b[A\n",
      "Iteration:  23%|███████████████████████████████████▊                                                                                                                       | 12/52 [00:00<00:03, 13.20it/s]\u001b[A\n",
      "Iteration:  27%|█████████████████████████████████████████▋                                                                                                                 | 14/52 [00:01<00:02, 13.15it/s]\u001b[A\n",
      "Iteration:  31%|███████████████████████████████████████████████▋                                                                                                           | 16/52 [00:01<00:02, 13.15it/s]\u001b[A\n",
      "Iteration:  35%|█████████████████████████████████████████████████████▋                                                                                                     | 18/52 [00:01<00:02, 13.16it/s]\u001b[A\n",
      "Iteration:  38%|███████████████████████████████████████████████████████████▌                                                                                               | 20/52 [00:01<00:02, 13.16it/s]\u001b[A\n",
      "Iteration:  42%|█████████████████████████████████████████████████████████████████▌                                                                                         | 22/52 [00:01<00:02, 13.16it/s]\u001b[A\n",
      "Iteration:  46%|███████████████████████████████████████████████████████████████████████▌                                                                                   | 24/52 [00:01<00:02, 13.16it/s]\u001b[A\n",
      "Iteration:  50%|█████████████████████████████████████████████████████████████████████████████▌                                                                             | 26/52 [00:01<00:01, 13.14it/s]\u001b[A\n",
      "Iteration:  54%|███████████████████████████████████████████████████████████████████████████████████▍                                                                       | 28/52 [00:02<00:01, 13.13it/s]\u001b[A\n",
      "Iteration:  58%|█████████████████████████████████████████████████████████████████████████████████████████▍                                                                 | 30/52 [00:02<00:01, 13.14it/s]\u001b[A\n"
     ]
    },
    {
     "name": "stderr",
     "output_type": "stream",
     "text": [
      "Iteration:  62%|███████████████████████████████████████████████████████████████████████████████████████████████▍                                                           | 32/52 [00:02<00:01, 13.15it/s]\u001b[A\n",
      "Iteration:  65%|█████████████████████████████████████████████████████████████████████████████████████████████████████▎                                                     | 34/52 [00:02<00:01, 13.16it/s]\u001b[A\n",
      "Iteration:  69%|███████████████████████████████████████████████████████████████████████████████████████████████████████████▎                                               | 36/52 [00:02<00:01, 13.15it/s]\u001b[A\n",
      "Iteration:  73%|█████████████████████████████████████████████████████████████████████████████████████████████████████████████████▎                                         | 38/52 [00:02<00:01, 13.15it/s]\u001b[A\n",
      "Iteration:  77%|███████████████████████████████████████████████████████████████████████████████████████████████████████████████████████▏                                   | 40/52 [00:03<00:00, 13.14it/s]\u001b[A\n",
      "Iteration:  81%|█████████████████████████████████████████████████████████████████████████████████████████████████████████████████████████████▏                             | 42/52 [00:03<00:00, 13.13it/s]\u001b[A\n",
      "Iteration:  85%|███████████████████████████████████████████████████████████████████████████████████████████████████████████████████████████████████▏                       | 44/52 [00:03<00:00, 13.14it/s]\u001b[A\n",
      "Iteration:  88%|█████████████████████████████████████████████████████████████████████████████████████████████████████████████████████████████████████████                  | 46/52 [00:03<00:00, 13.15it/s]\u001b[A\n",
      "Iteration:  92%|███████████████████████████████████████████████████████████████████████████████████████████████████████████████████████████████████████████████            | 48/52 [00:03<00:00, 13.15it/s]\u001b[A\n",
      "Iteration:  96%|█████████████████████████████████████████████████████████████████████████████████████████████████████████████████████████████████████████████████████      | 50/52 [00:03<00:00, 13.14it/s]\u001b[A\n",
      "Iteration: 100%|███████████████████████████████████████████████████████████████████████████████████████████████████████████████████████████████████████████████████████████| 52/52 [00:03<00:00, 13.31it/s]\u001b[A\n",
      "\n",
      "Iteration:   0%|                                                                                                                                                                    | 0/12 [00:00<?, ?it/s]\u001b[A\n",
      "Iteration:  33%|████████████████████████████████████████████████████                                                                                                        | 4/12 [00:00<00:00, 36.96it/s]\u001b[A\n",
      "Iteration:  58%|███████████████████████████████████████████████████████████████████████████████████████████                                                                 | 7/12 [00:00<00:00, 34.43it/s]\u001b[A\n",
      "Iteration: 100%|███████████████████████████████████████████████████████████████████████████████████████████████████████████████████████████████████████████████████████████| 12/12 [00:00<00:00, 31.81it/s]\u001b[A\n",
      "Epoch:   3%|████▊                                                                                                                                                          | 3/100 [00:12<07:01,  4.35s/it]\n",
      "Iteration:   0%|                                                                                                                                                                    | 0/52 [00:00<?, ?it/s]\u001b[A\n",
      "Iteration:   4%|██████                                                                                                                                                      | 2/52 [00:00<00:03, 13.40it/s]\u001b[A\n",
      "Iteration:   8%|████████████                                                                                                                                                | 4/52 [00:00<00:03, 13.34it/s]\u001b[A\n",
      "Iteration:  12%|██████████████████                                                                                                                                          | 6/52 [00:00<00:03, 13.29it/s]\u001b[A\n",
      "Iteration:  15%|████████████████████████                                                                                                                                    | 8/52 [00:00<00:03, 13.25it/s]\u001b[A\n",
      "Iteration:  19%|█████████████████████████████▊                                                                                                                             | 10/52 [00:00<00:03, 13.21it/s]\u001b[A\n",
      "Iteration:  23%|███████████████████████████████████▊                                                                                                                       | 12/52 [00:00<00:03, 13.17it/s]\u001b[A\n",
      "Iteration:  27%|█████████████████████████████████████████▋                                                                                                                 | 14/52 [00:01<00:02, 13.12it/s]\u001b[A\n",
      "Iteration:  31%|███████████████████████████████████████████████▋                                                                                                           | 16/52 [00:01<00:02, 13.12it/s]\u001b[A\n",
      "Iteration:  35%|█████████████████████████████████████████████████████▋                                                                                                     | 18/52 [00:01<00:02, 13.14it/s]\u001b[A\n",
      "Iteration:  38%|███████████████████████████████████████████████████████████▌                                                                                               | 20/52 [00:01<00:02, 13.14it/s]\u001b[A\n",
      "Iteration:  42%|█████████████████████████████████████████████████████████████████▌                                                                                         | 22/52 [00:01<00:02, 13.16it/s]\u001b[A\n",
      "Iteration:  46%|███████████████████████████████████████████████████████████████████████▌                                                                                   | 24/52 [00:01<00:02, 13.15it/s]\u001b[A\n",
      "Iteration:  50%|█████████████████████████████████████████████████████████████████████████████▌                                                                             | 26/52 [00:01<00:01, 13.12it/s]\u001b[A\n",
      "Iteration:  54%|███████████████████████████████████████████████████████████████████████████████████▍                                                                       | 28/52 [00:02<00:01, 13.12it/s]\u001b[A\n",
      "Iteration:  58%|█████████████████████████████████████████████████████████████████████████████████████████▍                                                                 | 30/52 [00:02<00:01, 13.12it/s]\u001b[A\n",
      "Iteration:  62%|███████████████████████████████████████████████████████████████████████████████████████████████▍                                                           | 32/52 [00:02<00:01, 13.14it/s]\u001b[A\n",
      "Iteration:  65%|█████████████████████████████████████████████████████████████████████████████████████████████████████▎                                                     | 34/52 [00:02<00:01, 13.15it/s]\u001b[A\n",
      "Iteration:  69%|███████████████████████████████████████████████████████████████████████████████████████████████████████████▎                                               | 36/52 [00:02<00:01, 13.15it/s]\u001b[A\n",
      "Iteration:  73%|█████████████████████████████████████████████████████████████████████████████████████████████████████████████████▎                                         | 38/52 [00:02<00:01, 13.13it/s]\u001b[A\n",
      "Iteration:  77%|███████████████████████████████████████████████████████████████████████████████████████████████████████████████████████▏                                   | 40/52 [00:03<00:00, 13.11it/s]\u001b[A\n",
      "Iteration:  81%|█████████████████████████████████████████████████████████████████████████████████████████████████████████████████████████████▏                             | 42/52 [00:03<00:00, 13.12it/s]\u001b[A\n",
      "Iteration:  85%|███████████████████████████████████████████████████████████████████████████████████████████████████████████████████████████████████▏                       | 44/52 [00:03<00:00, 13.11it/s]\u001b[A\n"
     ]
    },
    {
     "name": "stderr",
     "output_type": "stream",
     "text": [
      "Iteration:  88%|█████████████████████████████████████████████████████████████████████████████████████████████████████████████████████████████████████████                  | 46/52 [00:03<00:00, 13.11it/s]\u001b[A\n",
      "Iteration:  92%|███████████████████████████████████████████████████████████████████████████████████████████████████████████████████████████████████████████████            | 48/52 [00:03<00:00, 13.12it/s]\u001b[A\n",
      "Iteration:  96%|█████████████████████████████████████████████████████████████████████████████████████████████████████████████████████████████████████████████████████      | 50/52 [00:03<00:00, 13.08it/s]\u001b[A\n",
      "Iteration: 100%|███████████████████████████████████████████████████████████████████████████████████████████████████████████████████████████████████████████████████████████| 52/52 [00:03<00:00, 13.28it/s]\u001b[A\n",
      "\n",
      "Iteration:   0%|                                                                                                                                                                    | 0/12 [00:00<?, ?it/s]\u001b[A\n",
      "Iteration:  33%|████████████████████████████████████████████████████                                                                                                        | 4/12 [00:00<00:00, 37.21it/s]\u001b[A\n",
      "Iteration:  58%|███████████████████████████████████████████████████████████████████████████████████████████                                                                 | 7/12 [00:00<00:00, 34.48it/s]\u001b[A\n",
      "Iteration: 100%|███████████████████████████████████████████████████████████████████████████████████████████████████████████████████████████████████████████████████████████| 12/12 [00:00<00:00, 31.71it/s]\u001b[A\n",
      "Epoch:   4%|██████▎                                                                                                                                                        | 4/100 [00:17<06:56,  4.34s/it]\n",
      "Iteration:   0%|                                                                                                                                                                    | 0/52 [00:00<?, ?it/s]\u001b[A\n",
      "Iteration:   4%|██████                                                                                                                                                      | 2/52 [00:00<00:03, 13.42it/s]\u001b[A\n",
      "Iteration:   8%|████████████                                                                                                                                                | 4/52 [00:00<00:03, 13.33it/s]\u001b[A\n",
      "Iteration:  12%|██████████████████                                                                                                                                          | 6/52 [00:00<00:03, 13.25it/s]\u001b[A\n",
      "Iteration:  15%|████████████████████████                                                                                                                                    | 8/52 [00:00<00:03, 13.21it/s]\u001b[A\n",
      "Iteration:  19%|█████████████████████████████▊                                                                                                                             | 10/52 [00:00<00:03, 13.18it/s]\u001b[A\n",
      "Iteration:  23%|███████████████████████████████████▊                                                                                                                       | 12/52 [00:00<00:03, 13.16it/s]\u001b[A\n",
      "Iteration:  27%|█████████████████████████████████████████▋                                                                                                                 | 14/52 [00:01<00:02, 13.13it/s]\u001b[A\n",
      "Iteration:  31%|███████████████████████████████████████████████▋                                                                                                           | 16/52 [00:01<00:02, 13.12it/s]\u001b[A\n",
      "Iteration:  35%|█████████████████████████████████████████████████████▋                                                                                                     | 18/52 [00:01<00:02, 13.11it/s]\u001b[A\n",
      "Iteration:  38%|███████████████████████████████████████████████████████████▌                                                                                               | 20/52 [00:01<00:02, 13.11it/s]\u001b[A\n",
      "Iteration:  42%|█████████████████████████████████████████████████████████████████▌                                                                                         | 22/52 [00:01<00:02, 13.12it/s]\u001b[A\n",
      "Iteration:  46%|███████████████████████████████████████████████████████████████████████▌                                                                                   | 24/52 [00:01<00:02, 13.13it/s]\u001b[A\n",
      "Iteration:  50%|█████████████████████████████████████████████████████████████████████████████▌                                                                             | 26/52 [00:01<00:01, 13.12it/s]\u001b[A\n",
      "Iteration:  54%|███████████████████████████████████████████████████████████████████████████████████▍                                                                       | 28/52 [00:02<00:01, 13.11it/s]\u001b[A\n",
      "Iteration:  58%|█████████████████████████████████████████████████████████████████████████████████████████▍                                                                 | 30/52 [00:02<00:01, 13.11it/s]\u001b[A\n",
      "Iteration:  62%|███████████████████████████████████████████████████████████████████████████████████████████████▍                                                           | 32/52 [00:02<00:01, 13.10it/s]\u001b[A\n",
      "Iteration:  65%|█████████████████████████████████████████████████████████████████████████████████████████████████████▎                                                     | 34/52 [00:02<00:01, 13.10it/s]\u001b[A\n",
      "Iteration:  69%|███████████████████████████████████████████████████████████████████████████████████████████████████████████▎                                               | 36/52 [00:02<00:01, 13.10it/s]\u001b[A\n",
      "Iteration:  73%|█████████████████████████████████████████████████████████████████████████████████████████████████████████████████▎                                         | 38/52 [00:02<00:01, 13.10it/s]\u001b[A\n",
      "Iteration:  77%|███████████████████████████████████████████████████████████████████████████████████████████████████████████████████████▏                                   | 40/52 [00:03<00:00, 13.09it/s]\u001b[A\n",
      "Iteration:  81%|█████████████████████████████████████████████████████████████████████████████████████████████████████████████████████████████▏                             | 42/52 [00:03<00:00, 13.09it/s]\u001b[A\n",
      "Iteration:  85%|███████████████████████████████████████████████████████████████████████████████████████████████████████████████████████████████████▏                       | 44/52 [00:03<00:00, 13.08it/s]\u001b[A\n",
      "Iteration:  88%|█████████████████████████████████████████████████████████████████████████████████████████████████████████████████████████████████████████                  | 46/52 [00:03<00:00, 13.09it/s]\u001b[A\n",
      "Iteration:  92%|███████████████████████████████████████████████████████████████████████████████████████████████████████████████████████████████████████████████            | 48/52 [00:03<00:00, 13.09it/s]\u001b[A\n",
      "Iteration:  96%|█████████████████████████████████████████████████████████████████████████████████████████████████████████████████████████████████████████████████████      | 50/52 [00:03<00:00, 13.08it/s]\u001b[A\n",
      "Iteration: 100%|███████████████████████████████████████████████████████████████████████████████████████████████████████████████████████████████████████████████████████████| 52/52 [00:03<00:00, 13.26it/s]\u001b[A\n",
      "\n",
      "Iteration:   0%|                                                                                                                                                                    | 0/12 [00:00<?, ?it/s]\u001b[A\n",
      "Iteration:  33%|████████████████████████████████████████████████████                                                                                                        | 4/12 [00:00<00:00, 36.66it/s]\u001b[A\n",
      "Iteration:  58%|███████████████████████████████████████████████████████████████████████████████████████████                                                                 | 7/12 [00:00<00:00, 34.30it/s]\u001b[A\n"
     ]
    },
    {
     "name": "stderr",
     "output_type": "stream",
     "text": [
      "Iteration: 100%|███████████████████████████████████████████████████████████████████████████████████████████████████████████████████████████████████████████████████████████| 12/12 [00:00<00:00, 31.75it/s]\u001b[A\n",
      "Epoch:   5%|███████▉                                                                                                                                                       | 5/100 [00:21<06:51,  4.34s/it]\n",
      "Iteration:   0%|                                                                                                                                                                    | 0/52 [00:00<?, ?it/s]\u001b[A\n",
      "Iteration:   4%|██████                                                                                                                                                      | 2/52 [00:00<00:03, 13.32it/s]\u001b[A\n",
      "Iteration:   8%|████████████                                                                                                                                                | 4/52 [00:00<00:03, 13.26it/s]\u001b[A\n",
      "Iteration:  12%|██████████████████                                                                                                                                          | 6/52 [00:00<00:03, 13.21it/s]\u001b[A\n",
      "Iteration:  15%|████████████████████████                                                                                                                                    | 8/52 [00:00<00:03, 13.18it/s]\u001b[A\n",
      "Iteration:  19%|█████████████████████████████▊                                                                                                                             | 10/52 [00:00<00:03, 13.16it/s]\u001b[A\n",
      "Iteration:  23%|███████████████████████████████████▊                                                                                                                       | 12/52 [00:00<00:03, 13.12it/s]\u001b[A\n",
      "Iteration:  27%|█████████████████████████████████████████▋                                                                                                                 | 14/52 [00:01<00:02, 13.06it/s]\u001b[A\n",
      "Iteration:  31%|███████████████████████████████████████████████▋                                                                                                           | 16/52 [00:01<00:02, 13.05it/s]\u001b[A\n",
      "Iteration:  35%|█████████████████████████████████████████████████████▋                                                                                                     | 18/52 [00:01<00:02, 13.07it/s]\u001b[A\n",
      "Iteration:  38%|███████████████████████████████████████████████████████████▌                                                                                               | 20/52 [00:01<00:02, 13.08it/s]\u001b[A\n",
      "Iteration:  42%|█████████████████████████████████████████████████████████████████▌                                                                                         | 22/52 [00:01<00:02, 13.10it/s]\u001b[A\n",
      "Iteration:  46%|███████████████████████████████████████████████████████████████████████▌                                                                                   | 24/52 [00:01<00:02, 13.10it/s]\u001b[A\n",
      "Iteration:  50%|█████████████████████████████████████████████████████████████████████████████▌                                                                             | 26/52 [00:01<00:01, 13.07it/s]\u001b[A\n",
      "Iteration:  54%|███████████████████████████████████████████████████████████████████████████████████▍                                                                       | 28/52 [00:02<00:01, 13.04it/s]\u001b[A\n",
      "Iteration:  58%|█████████████████████████████████████████████████████████████████████████████████████████▍                                                                 | 30/52 [00:02<00:01, 13.06it/s]\u001b[A\n",
      "Iteration:  62%|███████████████████████████████████████████████████████████████████████████████████████████████▍                                                           | 32/52 [00:02<00:01, 13.08it/s]\u001b[A\n",
      "Iteration:  65%|█████████████████████████████████████████████████████████████████████████████████████████████████████▎                                                     | 34/52 [00:02<00:01, 13.09it/s]\u001b[A\n",
      "Iteration:  69%|███████████████████████████████████████████████████████████████████████████████████████████████████████████▎                                               | 36/52 [00:02<00:01, 13.09it/s]\u001b[A\n",
      "Iteration:  73%|█████████████████████████████████████████████████████████████████████████████████████████████████████████████████▎                                         | 38/52 [00:02<00:01, 13.10it/s]\u001b[A\n",
      "Iteration:  77%|███████████████████████████████████████████████████████████████████████████████████████████████████████████████████████▏                                   | 40/52 [00:03<00:00, 13.07it/s]\u001b[A\n",
      "Iteration:  81%|█████████████████████████████████████████████████████████████████████████████████████████████████████████████████████████████▏                             | 42/52 [00:03<00:00, 13.06it/s]\u001b[A\n",
      "Iteration:  85%|███████████████████████████████████████████████████████████████████████████████████████████████████████████████████████████████████▏                       | 44/52 [00:03<00:00, 13.09it/s]\u001b[A\n",
      "Iteration:  88%|█████████████████████████████████████████████████████████████████████████████████████████████████████████████████████████████████████████                  | 46/52 [00:03<00:00, 13.11it/s]\u001b[A\n",
      "Iteration:  92%|███████████████████████████████████████████████████████████████████████████████████████████████████████████████████████████████████████████████            | 48/52 [00:03<00:00, 13.11it/s]\u001b[A\n",
      "Iteration:  96%|█████████████████████████████████████████████████████████████████████████████████████████████████████████████████████████████████████████████████████      | 50/52 [00:03<00:00, 13.11it/s]\u001b[A\n",
      "Iteration: 100%|███████████████████████████████████████████████████████████████████████████████████████████████████████████████████████████████████████████████████████████| 52/52 [00:03<00:00, 13.25it/s]\u001b[A\n",
      "\n",
      "Iteration:   0%|                                                                                                                                                                    | 0/12 [00:00<?, ?it/s]\u001b[A\n",
      "Iteration:  33%|████████████████████████████████████████████████████                                                                                                        | 4/12 [00:00<00:00, 36.97it/s]\u001b[A\n",
      "Iteration:  58%|███████████████████████████████████████████████████████████████████████████████████████████                                                                 | 7/12 [00:00<00:00, 34.20it/s]\u001b[A\n",
      "Iteration: 100%|███████████████████████████████████████████████████████████████████████████████████████████████████████████████████████████████████████████████████████████| 12/12 [00:00<00:00, 31.60it/s]\u001b[A\n",
      "Epoch:   6%|█████████▌                                                                                                                                                     | 6/100 [00:25<06:47,  4.34s/it]\n",
      "Iteration:   0%|                                                                                                                                                                    | 0/52 [00:00<?, ?it/s]\u001b[A\n",
      "Iteration:   4%|██████                                                                                                                                                      | 2/52 [00:00<00:03, 13.34it/s]\u001b[A\n",
      "Iteration:   8%|████████████                                                                                                                                                | 4/52 [00:00<00:03, 13.25it/s]\u001b[A\n",
      "Iteration:  12%|██████████████████                                                                                                                                          | 6/52 [00:00<00:03, 13.21it/s]\u001b[A\n",
      "Iteration:  15%|████████████████████████                                                                                                                                    | 8/52 [00:00<00:03, 13.18it/s]\u001b[A\n"
     ]
    },
    {
     "name": "stderr",
     "output_type": "stream",
     "text": [
      "Iteration:  19%|█████████████████████████████▊                                                                                                                             | 10/52 [00:00<00:03, 13.16it/s]\u001b[A\n",
      "Iteration:  23%|███████████████████████████████████▊                                                                                                                       | 12/52 [00:00<00:03, 13.12it/s]\u001b[A\n",
      "Iteration:  27%|█████████████████████████████████████████▋                                                                                                                 | 14/52 [00:01<00:02, 13.05it/s]\u001b[A\n",
      "Iteration:  31%|███████████████████████████████████████████████▋                                                                                                           | 16/52 [00:01<00:02, 13.04it/s]\u001b[A\n",
      "Iteration:  35%|█████████████████████████████████████████████████████▋                                                                                                     | 18/52 [00:01<00:02, 13.04it/s]\u001b[A\n",
      "Iteration:  38%|███████████████████████████████████████████████████████████▌                                                                                               | 20/52 [00:01<00:02, 13.04it/s]\u001b[A\n",
      "Iteration:  42%|█████████████████████████████████████████████████████████████████▌                                                                                         | 22/52 [00:01<00:02, 13.05it/s]\u001b[A\n",
      "Iteration:  46%|███████████████████████████████████████████████████████████████████████▌                                                                                   | 24/52 [00:01<00:02, 13.07it/s]\u001b[A\n",
      "Iteration:  50%|█████████████████████████████████████████████████████████████████████████████▌                                                                             | 26/52 [00:01<00:01, 13.05it/s]\u001b[A\n",
      "Iteration:  54%|███████████████████████████████████████████████████████████████████████████████████▍                                                                       | 28/52 [00:02<00:01, 13.02it/s]\u001b[A\n",
      "Iteration:  58%|█████████████████████████████████████████████████████████████████████████████████████████▍                                                                 | 30/52 [00:02<00:01, 13.03it/s]\u001b[A\n",
      "Iteration:  62%|███████████████████████████████████████████████████████████████████████████████████████████████▍                                                           | 32/52 [00:02<00:01, 13.03it/s]\u001b[A\n",
      "Iteration:  65%|█████████████████████████████████████████████████████████████████████████████████████████████████████▎                                                     | 34/52 [00:02<00:01, 13.03it/s]\u001b[A\n",
      "Iteration:  69%|███████████████████████████████████████████████████████████████████████████████████████████████████████████▎                                               | 36/52 [00:02<00:01, 13.05it/s]\u001b[A\n",
      "Iteration:  73%|█████████████████████████████████████████████████████████████████████████████████████████████████████████████████▎                                         | 38/52 [00:02<00:01, 13.03it/s]\u001b[A\n",
      "Iteration:  77%|███████████████████████████████████████████████████████████████████████████████████████████████████████████████████████▏                                   | 40/52 [00:03<00:00, 13.04it/s]\u001b[A\n",
      "Iteration:  81%|█████████████████████████████████████████████████████████████████████████████████████████████████████████████████████████████▏                             | 42/52 [00:03<00:00, 13.06it/s]\u001b[A\n",
      "Iteration:  85%|███████████████████████████████████████████████████████████████████████████████████████████████████████████████████████████████████▏                       | 44/52 [00:03<00:00, 13.05it/s]\u001b[A\n",
      "Iteration:  88%|█████████████████████████████████████████████████████████████████████████████████████████████████████████████████████████████████████████                  | 46/52 [00:03<00:00, 13.04it/s]\u001b[A\n",
      "Iteration:  92%|███████████████████████████████████████████████████████████████████████████████████████████████████████████████████████████████████████████████            | 48/52 [00:03<00:00, 13.04it/s]\u001b[A\n",
      "Iteration:  96%|█████████████████████████████████████████████████████████████████████████████████████████████████████████████████████████████████████████████████████      | 50/52 [00:03<00:00, 13.04it/s]\u001b[A\n",
      "Iteration: 100%|███████████████████████████████████████████████████████████████████████████████████████████████████████████████████████████████████████████████████████████| 52/52 [00:03<00:00, 13.21it/s]\u001b[A\n",
      "\n",
      "Iteration:   0%|                                                                                                                                                                    | 0/12 [00:00<?, ?it/s]\u001b[A\n",
      "Iteration:  33%|████████████████████████████████████████████████████                                                                                                        | 4/12 [00:00<00:00, 36.94it/s]\u001b[A\n",
      "Iteration:  58%|███████████████████████████████████████████████████████████████████████████████████████████                                                                 | 7/12 [00:00<00:00, 34.51it/s]\u001b[A\n",
      "Iteration: 100%|███████████████████████████████████████████████████████████████████████████████████████████████████████████████████████████████████████████████████████████| 12/12 [00:00<00:00, 31.64it/s]\u001b[A\n",
      "Epoch:   7%|███████████▏                                                                                                                                                   | 7/100 [00:30<06:43,  4.34s/it]\n",
      "Iteration:   0%|                                                                                                                                                                    | 0/52 [00:00<?, ?it/s]\u001b[A\n",
      "Iteration:   4%|██████                                                                                                                                                      | 2/52 [00:00<00:03, 13.28it/s]\u001b[A\n",
      "Iteration:   8%|████████████                                                                                                                                                | 4/52 [00:00<00:03, 13.21it/s]\u001b[A\n",
      "Iteration:  12%|██████████████████                                                                                                                                          | 6/52 [00:00<00:03, 13.16it/s]\u001b[A\n",
      "Iteration:  15%|████████████████████████                                                                                                                                    | 8/52 [00:00<00:03, 13.12it/s]\u001b[A\n",
      "Iteration:  19%|█████████████████████████████▊                                                                                                                             | 10/52 [00:00<00:03, 13.11it/s]\u001b[A\n",
      "Iteration:  23%|███████████████████████████████████▊                                                                                                                       | 12/52 [00:00<00:03, 13.09it/s]\u001b[A\n",
      "Iteration:  27%|█████████████████████████████████████████▋                                                                                                                 | 14/52 [00:01<00:02, 13.08it/s]\u001b[A\n",
      "Iteration:  31%|███████████████████████████████████████████████▋                                                                                                           | 16/52 [00:01<00:02, 13.07it/s]\u001b[A\n",
      "Iteration:  35%|█████████████████████████████████████████████████████▋                                                                                                     | 18/52 [00:01<00:02, 13.06it/s]\u001b[A\n",
      "Iteration:  38%|███████████████████████████████████████████████████████████▌                                                                                               | 20/52 [00:01<00:02, 13.06it/s]\u001b[A\n",
      "Iteration:  42%|█████████████████████████████████████████████████████████████████▌                                                                                         | 22/52 [00:01<00:02, 13.07it/s]\u001b[A\n"
     ]
    },
    {
     "name": "stderr",
     "output_type": "stream",
     "text": [
      "Iteration:  46%|███████████████████████████████████████████████████████████████████████▌                                                                                   | 24/52 [00:01<00:02, 13.06it/s]\u001b[A\n",
      "Iteration:  50%|█████████████████████████████████████████████████████████████████████████████▌                                                                             | 26/52 [00:01<00:01, 13.05it/s]\u001b[A\n",
      "Iteration:  54%|███████████████████████████████████████████████████████████████████████████████████▍                                                                       | 28/52 [00:02<00:01, 13.05it/s]\u001b[A\n",
      "Iteration:  58%|█████████████████████████████████████████████████████████████████████████████████████████▍                                                                 | 30/52 [00:02<00:01, 13.04it/s]\u001b[A\n",
      "Iteration:  62%|███████████████████████████████████████████████████████████████████████████████████████████████▍                                                           | 32/52 [00:02<00:01, 13.06it/s]\u001b[A\n",
      "Iteration:  65%|█████████████████████████████████████████████████████████████████████████████████████████████████████▎                                                     | 34/52 [00:02<00:01, 13.06it/s]\u001b[A\n",
      "Iteration:  69%|███████████████████████████████████████████████████████████████████████████████████████████████████████████▎                                               | 36/52 [00:02<00:01, 13.07it/s]\u001b[A\n",
      "Iteration:  73%|█████████████████████████████████████████████████████████████████████████████████████████████████████████████████▎                                         | 38/52 [00:02<00:01, 13.05it/s]\u001b[A\n",
      "Iteration:  77%|███████████████████████████████████████████████████████████████████████████████████████████████████████████████████████▏                                   | 40/52 [00:03<00:00, 13.03it/s]\u001b[A\n",
      "Iteration:  81%|█████████████████████████████████████████████████████████████████████████████████████████████████████████████████████████████▏                             | 42/52 [00:03<00:00, 13.03it/s]\u001b[A\n",
      "Iteration:  85%|███████████████████████████████████████████████████████████████████████████████████████████████████████████████████████████████████▏                       | 44/52 [00:03<00:00, 13.02it/s]\u001b[A\n",
      "Iteration:  88%|█████████████████████████████████████████████████████████████████████████████████████████████████████████████████████████████████████████                  | 46/52 [00:03<00:00, 13.02it/s]\u001b[A\n",
      "Iteration:  92%|███████████████████████████████████████████████████████████████████████████████████████████████████████████████████████████████████████████████            | 48/52 [00:03<00:00, 13.04it/s]\u001b[A\n",
      "Iteration:  96%|█████████████████████████████████████████████████████████████████████████████████████████████████████████████████████████████████████████████████████      | 50/52 [00:03<00:00, 13.05it/s]\u001b[A\n",
      "Iteration: 100%|███████████████████████████████████████████████████████████████████████████████████████████████████████████████████████████████████████████████████████████| 52/52 [00:03<00:00, 13.21it/s]\u001b[A\n",
      "\n",
      "Iteration:   0%|                                                                                                                                                                    | 0/12 [00:00<?, ?it/s]\u001b[A\n",
      "Iteration:  33%|████████████████████████████████████████████████████                                                                                                        | 4/12 [00:00<00:00, 36.98it/s]\u001b[A\n",
      "Iteration:  58%|███████████████████████████████████████████████████████████████████████████████████████████                                                                 | 7/12 [00:00<00:00, 34.40it/s]\u001b[A\n",
      "Iteration: 100%|███████████████████████████████████████████████████████████████████████████████████████████████████████████████████████████████████████████████████████████| 12/12 [00:00<00:00, 31.63it/s]\u001b[A\n",
      "Epoch:   8%|████████████▋                                                                                                                                                  | 8/100 [00:34<06:39,  4.34s/it]\n",
      "Iteration:   0%|                                                                                                                                                                    | 0/52 [00:00<?, ?it/s]\u001b[A\n",
      "Iteration:   4%|██████                                                                                                                                                      | 2/52 [00:00<00:03, 13.28it/s]\u001b[A\n",
      "Iteration:   8%|████████████                                                                                                                                                | 4/52 [00:00<00:03, 13.21it/s]\u001b[A\n",
      "Iteration:  12%|██████████████████                                                                                                                                          | 6/52 [00:00<00:03, 13.17it/s]\u001b[A\n",
      "Iteration:  15%|████████████████████████                                                                                                                                    | 8/52 [00:00<00:03, 13.13it/s]\u001b[A\n",
      "Iteration:  19%|█████████████████████████████▊                                                                                                                             | 10/52 [00:00<00:03, 13.10it/s]\u001b[A\n",
      "Iteration:  23%|███████████████████████████████████▊                                                                                                                       | 12/52 [00:00<00:03, 13.05it/s]\u001b[A\n",
      "Iteration:  27%|█████████████████████████████████████████▋                                                                                                                 | 14/52 [00:01<00:02, 13.00it/s]\u001b[A\n",
      "Iteration:  31%|███████████████████████████████████████████████▋                                                                                                           | 16/52 [00:01<00:02, 13.00it/s]\u001b[A\n",
      "Iteration:  35%|█████████████████████████████████████████████████████▋                                                                                                     | 18/52 [00:01<00:02, 13.01it/s]\u001b[A\n",
      "Iteration:  38%|███████████████████████████████████████████████████████████▌                                                                                               | 20/52 [00:01<00:02, 13.01it/s]\u001b[A\n",
      "Iteration:  42%|█████████████████████████████████████████████████████████████████▌                                                                                         | 22/52 [00:01<00:02, 13.01it/s]\u001b[A\n",
      "Iteration:  46%|███████████████████████████████████████████████████████████████████████▌                                                                                   | 24/52 [00:01<00:02, 13.01it/s]\u001b[A\n",
      "Iteration:  50%|█████████████████████████████████████████████████████████████████████████████▌                                                                             | 26/52 [00:01<00:02, 12.99it/s]\u001b[A\n",
      "Iteration:  54%|███████████████████████████████████████████████████████████████████████████████████▍                                                                       | 28/52 [00:02<00:01, 12.98it/s]\u001b[A\n",
      "Iteration:  58%|█████████████████████████████████████████████████████████████████████████████████████████▍                                                                 | 30/52 [00:02<00:01, 12.99it/s]\u001b[A\n",
      "Iteration:  62%|███████████████████████████████████████████████████████████████████████████████████████████████▍                                                           | 32/52 [00:02<00:01, 12.99it/s]\u001b[A\n",
      "Iteration:  65%|█████████████████████████████████████████████████████████████████████████████████████████████████████▎                                                     | 34/52 [00:02<00:01, 13.00it/s]\u001b[A\n",
      "Iteration:  69%|███████████████████████████████████████████████████████████████████████████████████████████████████████████▎                                               | 36/52 [00:02<00:01, 13.00it/s]\u001b[A\n"
     ]
    },
    {
     "name": "stderr",
     "output_type": "stream",
     "text": [
      "Iteration:  73%|█████████████████████████████████████████████████████████████████████████████████████████████████████████████████▎                                         | 38/52 [00:02<00:01, 12.99it/s]\u001b[A\n",
      "Iteration:  77%|███████████████████████████████████████████████████████████████████████████████████████████████████████████████████████▏                                   | 40/52 [00:03<00:00, 12.98it/s]\u001b[A\n",
      "Iteration:  81%|█████████████████████████████████████████████████████████████████████████████████████████████████████████████████████████████▏                             | 42/52 [00:03<00:00, 12.99it/s]\u001b[A\n",
      "Iteration:  85%|███████████████████████████████████████████████████████████████████████████████████████████████████████████████████████████████████▏                       | 44/52 [00:03<00:00, 13.00it/s]\u001b[A\n",
      "Iteration:  88%|█████████████████████████████████████████████████████████████████████████████████████████████████████████████████████████████████████████                  | 46/52 [00:03<00:00, 12.99it/s]\u001b[A\n",
      "Iteration:  92%|███████████████████████████████████████████████████████████████████████████████████████████████████████████████████████████████████████████████            | 48/52 [00:03<00:00, 12.99it/s]\u001b[A\n",
      "Iteration:  96%|█████████████████████████████████████████████████████████████████████████████████████████████████████████████████████████████████████████████████████      | 50/52 [00:03<00:00, 12.99it/s]\u001b[A\n",
      "Iteration: 100%|███████████████████████████████████████████████████████████████████████████████████████████████████████████████████████████████████████████████████████████| 52/52 [00:03<00:00, 13.16it/s]\u001b[A\n",
      "\n",
      "Iteration:   0%|                                                                                                                                                                    | 0/12 [00:00<?, ?it/s]\u001b[A\n",
      "Iteration:  33%|████████████████████████████████████████████████████                                                                                                        | 4/12 [00:00<00:00, 36.73it/s]\u001b[A\n",
      "Iteration:  58%|███████████████████████████████████████████████████████████████████████████████████████████                                                                 | 7/12 [00:00<00:00, 34.14it/s]\u001b[A\n",
      "Iteration: 100%|███████████████████████████████████████████████████████████████████████████████████████████████████████████████████████████████████████████████████████████| 12/12 [00:00<00:00, 31.46it/s]\u001b[A\n",
      "Epoch:   9%|██████████████▎                                                                                                                                                | 9/100 [00:39<06:35,  4.35s/it]\n",
      "Iteration:   0%|                                                                                                                                                                    | 0/52 [00:00<?, ?it/s]\u001b[A\n",
      "Iteration:   4%|██████                                                                                                                                                      | 2/52 [00:00<00:03, 13.31it/s]\u001b[A\n",
      "Iteration:   8%|████████████                                                                                                                                                | 4/52 [00:00<00:03, 13.23it/s]\u001b[A\n",
      "Iteration:  12%|██████████████████                                                                                                                                          | 6/52 [00:00<00:03, 13.17it/s]\u001b[A\n",
      "Iteration:  15%|████████████████████████                                                                                                                                    | 8/52 [00:00<00:03, 13.13it/s]\u001b[A\n",
      "Iteration:  19%|█████████████████████████████▊                                                                                                                             | 10/52 [00:00<00:03, 13.11it/s]\u001b[A\n",
      "Iteration:  23%|███████████████████████████████████▊                                                                                                                       | 12/52 [00:00<00:03, 13.07it/s]\u001b[A\n",
      "Iteration:  27%|█████████████████████████████████████████▋                                                                                                                 | 14/52 [00:01<00:02, 13.02it/s]\u001b[A\n",
      "Iteration:  31%|███████████████████████████████████████████████▋                                                                                                           | 16/52 [00:01<00:02, 13.02it/s]\u001b[A\n",
      "Iteration:  35%|█████████████████████████████████████████████████████▋                                                                                                     | 18/52 [00:01<00:02, 13.02it/s]\u001b[A\n",
      "Iteration:  38%|███████████████████████████████████████████████████████████▌                                                                                               | 20/52 [00:01<00:02, 13.03it/s]\u001b[A\n",
      "Iteration:  42%|█████████████████████████████████████████████████████████████████▌                                                                                         | 22/52 [00:01<00:02, 13.02it/s]\u001b[A\n",
      "Iteration:  46%|███████████████████████████████████████████████████████████████████████▌                                                                                   | 24/52 [00:01<00:02, 13.01it/s]\u001b[A\n",
      "Iteration:  50%|█████████████████████████████████████████████████████████████████████████████▌                                                                             | 26/52 [00:01<00:02, 12.97it/s]\u001b[A\n",
      "Iteration:  54%|███████████████████████████████████████████████████████████████████████████████████▍                                                                       | 28/52 [00:02<00:01, 12.96it/s]\u001b[A\n",
      "Iteration:  58%|█████████████████████████████████████████████████████████████████████████████████████████▍                                                                 | 30/52 [00:02<00:01, 12.97it/s]\u001b[A\n",
      "Iteration:  62%|███████████████████████████████████████████████████████████████████████████████████████████████▍                                                           | 32/52 [00:02<00:01, 12.98it/s]\u001b[A\n",
      "Iteration:  65%|█████████████████████████████████████████████████████████████████████████████████████████████████████▎                                                     | 34/52 [00:02<00:01, 12.99it/s]\u001b[A\n",
      "Iteration:  69%|███████████████████████████████████████████████████████████████████████████████████████████████████████████▎                                               | 36/52 [00:02<00:01, 13.00it/s]\u001b[A\n",
      "Iteration:  73%|█████████████████████████████████████████████████████████████████████████████████████████████████████████████████▎                                         | 38/52 [00:02<00:01, 12.97it/s]\u001b[A\n",
      "Iteration:  77%|███████████████████████████████████████████████████████████████████████████████████████████████████████████████████████▏                                   | 40/52 [00:03<00:00, 12.96it/s]\u001b[A\n",
      "Iteration:  81%|█████████████████████████████████████████████████████████████████████████████████████████████████████████████████████████████▏                             | 42/52 [00:03<00:00, 12.95it/s]\u001b[A\n",
      "Iteration:  85%|███████████████████████████████████████████████████████████████████████████████████████████████████████████████████████████████████▏                       | 44/52 [00:03<00:00, 12.97it/s]\u001b[A\n",
      "Iteration:  88%|█████████████████████████████████████████████████████████████████████████████████████████████████████████████████████████████████████████                  | 46/52 [00:03<00:00, 12.98it/s]\u001b[A\n",
      "Iteration:  92%|███████████████████████████████████████████████████████████████████████████████████████████████████████████████████████████████████████████████            | 48/52 [00:03<00:00, 12.99it/s]\u001b[A\n",
      "Iteration:  96%|█████████████████████████████████████████████████████████████████████████████████████████████████████████████████████████████████████████████████████      | 50/52 [00:03<00:00, 12.97it/s]\u001b[A\n"
     ]
    },
    {
     "name": "stderr",
     "output_type": "stream",
     "text": [
      "Iteration: 100%|███████████████████████████████████████████████████████████████████████████████████████████████████████████████████████████████████████████████████████████| 52/52 [00:03<00:00, 13.15it/s]\u001b[A\n",
      "\n",
      "Iteration:   0%|                                                                                                                                                                    | 0/12 [00:00<?, ?it/s]\u001b[A\n",
      "Iteration:  33%|████████████████████████████████████████████████████                                                                                                        | 4/12 [00:00<00:00, 36.20it/s]\u001b[A\n",
      "Iteration:  58%|███████████████████████████████████████████████████████████████████████████████████████████                                                                 | 7/12 [00:00<00:00, 33.81it/s]\u001b[A\n",
      "Iteration: 100%|███████████████████████████████████████████████████████████████████████████████████████████████████████████████████████████████████████████████████████████| 12/12 [00:00<00:00, 31.25it/s]\u001b[A\n",
      "Epoch:  10%|███████████████▊                                                                                                                                              | 10/100 [00:43<06:31,  4.35s/it]\n",
      "Iteration:   0%|                                                                                                                                                                    | 0/52 [00:00<?, ?it/s]\u001b[A\n",
      "Iteration:   4%|██████                                                                                                                                                      | 2/52 [00:00<00:03, 13.26it/s]\u001b[A\n",
      "Iteration:   8%|████████████                                                                                                                                                | 4/52 [00:00<00:03, 13.19it/s]\u001b[A\n",
      "Iteration:  12%|██████████████████                                                                                                                                          | 6/52 [00:00<00:03, 13.14it/s]\u001b[A\n",
      "Iteration:  15%|████████████████████████                                                                                                                                    | 8/52 [00:00<00:03, 13.11it/s]\u001b[A\n",
      "Iteration:  19%|█████████████████████████████▊                                                                                                                             | 10/52 [00:00<00:03, 13.07it/s]\u001b[A\n",
      "Iteration:  23%|███████████████████████████████████▊                                                                                                                       | 12/52 [00:01<00:03, 11.00it/s]\u001b[A\n",
      "Iteration:  27%|█████████████████████████████████████████▋                                                                                                                 | 14/52 [00:01<00:03, 11.53it/s]\u001b[A\n",
      "Iteration:  31%|███████████████████████████████████████████████▋                                                                                                           | 16/52 [00:01<00:03, 11.93it/s]\u001b[A\n",
      "Iteration:  35%|█████████████████████████████████████████████████████▋                                                                                                     | 18/52 [00:01<00:02, 12.22it/s]\u001b[A\n",
      "Iteration:  38%|███████████████████████████████████████████████████████████▌                                                                                               | 20/52 [00:01<00:02, 12.43it/s]\u001b[A\n",
      "Iteration:  42%|█████████████████████████████████████████████████████████████████▌                                                                                         | 22/52 [00:01<00:02, 12.59it/s]\u001b[A\n",
      "Iteration:  46%|███████████████████████████████████████████████████████████████████████▌                                                                                   | 24/52 [00:01<00:02, 12.69it/s]\u001b[A\n",
      "Iteration:  50%|█████████████████████████████████████████████████████████████████████████████▌                                                                             | 26/52 [00:02<00:02, 12.76it/s]\u001b[A\n",
      "Iteration:  54%|███████████████████████████████████████████████████████████████████████████████████▍                                                                       | 28/52 [00:02<00:01, 12.83it/s]\u001b[A\n",
      "Iteration:  58%|█████████████████████████████████████████████████████████████████████████████████████████▍                                                                 | 30/52 [00:02<00:01, 12.87it/s]\u001b[A\n",
      "Iteration:  62%|███████████████████████████████████████████████████████████████████████████████████████████████▍                                                           | 32/52 [00:02<00:01, 12.90it/s]\u001b[A\n",
      "Iteration:  65%|█████████████████████████████████████████████████████████████████████████████████████████████████████▎                                                     | 34/52 [00:02<00:01, 12.92it/s]\u001b[A\n",
      "Iteration:  69%|███████████████████████████████████████████████████████████████████████████████████████████████████████████▎                                               | 36/52 [00:02<00:01, 12.93it/s]\u001b[A\n",
      "Iteration:  73%|█████████████████████████████████████████████████████████████████████████████████████████████████████████████████▎                                         | 38/52 [00:03<00:01, 12.94it/s]\u001b[A\n",
      "Iteration:  77%|███████████████████████████████████████████████████████████████████████████████████████████████████████████████████████▏                                   | 40/52 [00:03<00:00, 12.94it/s]\u001b[A\n",
      "Iteration:  81%|█████████████████████████████████████████████████████████████████████████████████████████████████████████████████████████████▏                             | 42/52 [00:03<00:00, 12.95it/s]\u001b[A\n",
      "Iteration:  85%|███████████████████████████████████████████████████████████████████████████████████████████████████████████████████████████████████▏                       | 44/52 [00:03<00:00, 12.96it/s]\u001b[A\n",
      "Iteration:  88%|█████████████████████████████████████████████████████████████████████████████████████████████████████████████████████████████████████████                  | 46/52 [00:03<00:00, 12.96it/s]\u001b[A\n",
      "Iteration:  92%|███████████████████████████████████████████████████████████████████████████████████████████████████████████████████████████████████████████████            | 48/52 [00:03<00:00, 12.96it/s]\u001b[A\n",
      "Iteration:  96%|█████████████████████████████████████████████████████████████████████████████████████████████████████████████████████████████████████████████████████      | 50/52 [00:03<00:00, 12.96it/s]\u001b[A\n",
      "Iteration: 100%|███████████████████████████████████████████████████████████████████████████████████████████████████████████████████████████████████████████████████████████| 52/52 [00:04<00:00, 12.83it/s]\u001b[A\n",
      "\n",
      "Iteration:   0%|                                                                                                                                                                    | 0/12 [00:00<?, ?it/s]\u001b[A\n",
      "Iteration:  33%|████████████████████████████████████████████████████                                                                                                        | 4/12 [00:00<00:00, 36.59it/s]\u001b[A\n",
      "Iteration:  58%|███████████████████████████████████████████████████████████████████████████████████████████                                                                 | 7/12 [00:00<00:00, 34.08it/s]\u001b[A\n",
      "Iteration: 100%|███████████████████████████████████████████████████████████████████████████████████████████████████████████████████████████████████████████████████████████| 12/12 [00:00<00:00, 31.46it/s]\u001b[A\n",
      "Epoch:  11%|█████████████████▍                                                                                                                                            | 11/100 [00:47<06:30,  4.39s/it]\n",
      "Iteration:   0%|                                                                                                                                                                    | 0/52 [00:00<?, ?it/s]\u001b[A\n"
     ]
    },
    {
     "name": "stderr",
     "output_type": "stream",
     "text": [
      "Iteration:   4%|██████                                                                                                                                                      | 2/52 [00:00<00:03, 13.24it/s]\u001b[A\n",
      "Iteration:   8%|████████████                                                                                                                                                | 4/52 [00:00<00:03, 13.15it/s]\u001b[A\n",
      "Iteration:  12%|██████████████████                                                                                                                                          | 6/52 [00:00<00:03, 13.10it/s]\u001b[A\n",
      "Iteration:  15%|████████████████████████                                                                                                                                    | 8/52 [00:00<00:03, 13.06it/s]\u001b[A\n",
      "Iteration:  19%|█████████████████████████████▊                                                                                                                             | 10/52 [00:00<00:03, 13.05it/s]\u001b[A\n",
      "Iteration:  23%|███████████████████████████████████▊                                                                                                                       | 12/52 [00:00<00:03, 13.02it/s]\u001b[A\n",
      "Iteration:  27%|█████████████████████████████████████████▋                                                                                                                 | 14/52 [00:01<00:02, 12.98it/s]\u001b[A\n",
      "Iteration:  31%|███████████████████████████████████████████████▋                                                                                                           | 16/52 [00:01<00:02, 12.97it/s]\u001b[A\n",
      "Iteration:  35%|█████████████████████████████████████████████████████▋                                                                                                     | 18/52 [00:01<00:02, 12.98it/s]\u001b[A\n",
      "Iteration:  38%|███████████████████████████████████████████████████████████▌                                                                                               | 20/52 [00:01<00:02, 12.97it/s]\u001b[A\n",
      "Iteration:  42%|█████████████████████████████████████████████████████████████████▌                                                                                         | 22/52 [00:01<00:02, 12.96it/s]\u001b[A\n",
      "Iteration:  46%|███████████████████████████████████████████████████████████████████████▌                                                                                   | 24/52 [00:01<00:02, 12.96it/s]\u001b[A\n",
      "Iteration:  50%|█████████████████████████████████████████████████████████████████████████████▌                                                                             | 26/52 [00:02<00:02, 12.96it/s]\u001b[A\n",
      "Iteration:  54%|███████████████████████████████████████████████████████████████████████████████████▍                                                                       | 28/52 [00:02<00:01, 12.94it/s]\u001b[A\n",
      "Iteration:  58%|█████████████████████████████████████████████████████████████████████████████████████████▍                                                                 | 30/52 [00:02<00:01, 12.96it/s]\u001b[A\n",
      "Iteration:  62%|███████████████████████████████████████████████████████████████████████████████████████████████▍                                                           | 32/52 [00:02<00:01, 12.97it/s]\u001b[A\n",
      "Iteration:  65%|█████████████████████████████████████████████████████████████████████████████████████████████████████▎                                                     | 34/52 [00:02<00:01, 12.97it/s]\u001b[A\n",
      "Iteration:  69%|███████████████████████████████████████████████████████████████████████████████████████████████████████████▎                                               | 36/52 [00:02<00:01, 12.96it/s]\u001b[A\n",
      "Iteration:  73%|█████████████████████████████████████████████████████████████████████████████████████████████████████████████████▎                                         | 38/52 [00:02<00:01, 12.96it/s]\u001b[A\n",
      "Iteration:  77%|███████████████████████████████████████████████████████████████████████████████████████████████████████████████████████▏                                   | 40/52 [00:03<00:00, 12.95it/s]\u001b[A\n",
      "Iteration:  81%|█████████████████████████████████████████████████████████████████████████████████████████████████████████████████████████████▏                             | 42/52 [00:03<00:00, 12.94it/s]\u001b[A\n",
      "Iteration:  85%|███████████████████████████████████████████████████████████████████████████████████████████████████████████████████████████████████▏                       | 44/52 [00:03<00:00, 12.95it/s]\u001b[A\n",
      "Iteration:  88%|█████████████████████████████████████████████████████████████████████████████████████████████████████████████████████████████████████████                  | 46/52 [00:03<00:00, 12.97it/s]\u001b[A\n",
      "Iteration:  92%|███████████████████████████████████████████████████████████████████████████████████████████████████████████████████████████████████████████████            | 48/52 [00:03<00:00, 12.96it/s]\u001b[A\n",
      "Iteration:  96%|█████████████████████████████████████████████████████████████████████████████████████████████████████████████████████████████████████████████████████      | 50/52 [00:03<00:00, 12.95it/s]\u001b[A\n",
      "Iteration: 100%|███████████████████████████████████████████████████████████████████████████████████████████████████████████████████████████████████████████████████████████| 52/52 [00:03<00:00, 13.12it/s]\u001b[A\n",
      "\n",
      "Iteration:   0%|                                                                                                                                                                    | 0/12 [00:00<?, ?it/s]\u001b[A\n",
      "Iteration:  33%|████████████████████████████████████████████████████                                                                                                        | 4/12 [00:00<00:00, 36.68it/s]\u001b[A\n",
      "Iteration:  58%|███████████████████████████████████████████████████████████████████████████████████████████                                                                 | 7/12 [00:00<00:00, 34.21it/s]\u001b[A\n",
      "Iteration: 100%|███████████████████████████████████████████████████████████████████████████████████████████████████████████████████████████████████████████████████████████| 12/12 [00:00<00:00, 31.40it/s]\u001b[A\n",
      "Epoch:  12%|██████████████████▉                                                                                                                                           | 12/100 [00:52<06:25,  4.38s/it]\n",
      "Iteration:   0%|                                                                                                                                                                    | 0/52 [00:00<?, ?it/s]\u001b[A\n",
      "Iteration:   4%|██████                                                                                                                                                      | 2/52 [00:00<00:03, 13.23it/s]\u001b[A\n",
      "Iteration:   8%|████████████                                                                                                                                                | 4/52 [00:00<00:03, 13.16it/s]\u001b[A\n",
      "Iteration:  12%|██████████████████                                                                                                                                          | 6/52 [00:00<00:03, 13.12it/s]\u001b[A\n",
      "Iteration:  15%|████████████████████████                                                                                                                                    | 8/52 [00:00<00:03, 13.04it/s]\u001b[A\n",
      "Iteration:  19%|█████████████████████████████▊                                                                                                                             | 10/52 [00:00<00:03, 13.03it/s]\u001b[A\n",
      "Iteration:  23%|███████████████████████████████████▊                                                                                                                       | 12/52 [00:00<00:03, 12.99it/s]\u001b[A\n",
      "Iteration:  27%|█████████████████████████████████████████▋                                                                                                                 | 14/52 [00:01<00:02, 12.94it/s]\u001b[A\n"
     ]
    },
    {
     "name": "stderr",
     "output_type": "stream",
     "text": [
      "Iteration:  31%|███████████████████████████████████████████████▋                                                                                                           | 16/52 [00:01<00:02, 12.95it/s]\u001b[A\n",
      "Iteration:  35%|█████████████████████████████████████████████████████▋                                                                                                     | 18/52 [00:01<00:02, 12.97it/s]\u001b[A\n",
      "Iteration:  38%|███████████████████████████████████████████████████████████▌                                                                                               | 20/52 [00:01<00:02, 12.97it/s]\u001b[A\n",
      "Iteration:  42%|█████████████████████████████████████████████████████████████████▌                                                                                         | 22/52 [00:01<00:02, 12.98it/s]\u001b[A\n",
      "Iteration:  46%|███████████████████████████████████████████████████████████████████████▌                                                                                   | 24/52 [00:01<00:02, 12.97it/s]\u001b[A\n",
      "Iteration:  50%|█████████████████████████████████████████████████████████████████████████████▌                                                                             | 26/52 [00:02<00:02, 12.95it/s]\u001b[A\n",
      "Iteration:  54%|███████████████████████████████████████████████████████████████████████████████████▍                                                                       | 28/52 [00:02<00:01, 12.95it/s]\u001b[A\n",
      "Iteration:  58%|█████████████████████████████████████████████████████████████████████████████████████████▍                                                                 | 30/52 [00:02<00:01, 12.96it/s]\u001b[A\n",
      "Iteration:  62%|███████████████████████████████████████████████████████████████████████████████████████████████▍                                                           | 32/52 [00:02<00:01, 12.98it/s]\u001b[A\n",
      "Iteration:  65%|█████████████████████████████████████████████████████████████████████████████████████████████████████▎                                                     | 34/52 [00:02<00:01, 12.99it/s]\u001b[A\n",
      "Iteration:  69%|███████████████████████████████████████████████████████████████████████████████████████████████████████████▎                                               | 36/52 [00:02<00:01, 12.99it/s]\u001b[A\n",
      "Iteration:  73%|█████████████████████████████████████████████████████████████████████████████████████████████████████████████████▎                                         | 38/52 [00:02<00:01, 12.99it/s]\u001b[A\n",
      "Iteration:  77%|███████████████████████████████████████████████████████████████████████████████████████████████████████████████████████▏                                   | 40/52 [00:03<00:00, 12.99it/s]\u001b[A\n",
      "Iteration:  81%|█████████████████████████████████████████████████████████████████████████████████████████████████████████████████████████████▏                             | 42/52 [00:03<00:00, 12.98it/s]\u001b[A\n",
      "Iteration:  85%|███████████████████████████████████████████████████████████████████████████████████████████████████████████████████████████████████▏                       | 44/52 [00:03<00:00, 12.99it/s]\u001b[A\n",
      "Iteration:  88%|█████████████████████████████████████████████████████████████████████████████████████████████████████████████████████████████████████████                  | 46/52 [00:03<00:00, 13.00it/s]\u001b[A\n",
      "Iteration:  92%|███████████████████████████████████████████████████████████████████████████████████████████████████████████████████████████████████████████████            | 48/52 [00:03<00:00, 12.98it/s]\u001b[A\n",
      "Iteration:  96%|█████████████████████████████████████████████████████████████████████████████████████████████████████████████████████████████████████████████████████      | 50/52 [00:03<00:00, 12.96it/s]\u001b[A\n",
      "Iteration: 100%|███████████████████████████████████████████████████████████████████████████████████████████████████████████████████████████████████████████████████████████| 52/52 [00:03<00:00, 13.13it/s]\u001b[A\n",
      "\n",
      "Iteration:   0%|                                                                                                                                                                    | 0/12 [00:00<?, ?it/s]\u001b[A\n",
      "Iteration:  33%|████████████████████████████████████████████████████                                                                                                        | 4/12 [00:00<00:00, 36.66it/s]\u001b[A\n",
      "Iteration:  58%|███████████████████████████████████████████████████████████████████████████████████████████                                                                 | 7/12 [00:00<00:00, 34.17it/s]\u001b[A\n",
      "Iteration: 100%|███████████████████████████████████████████████████████████████████████████████████████████████████████████████████████████████████████████████████████████| 12/12 [00:00<00:00, 31.42it/s]\u001b[A\n",
      "Epoch:  13%|████████████████████▌                                                                                                                                         | 13/100 [00:56<06:21,  4.38s/it]\n",
      "Iteration:   0%|                                                                                                                                                                    | 0/52 [00:00<?, ?it/s]\u001b[A\n",
      "Iteration:   4%|██████                                                                                                                                                      | 2/52 [00:00<00:03, 13.27it/s]\u001b[A\n",
      "Iteration:   8%|████████████                                                                                                                                                | 4/52 [00:00<00:03, 13.19it/s]\u001b[A\n",
      "Iteration:  12%|██████████████████                                                                                                                                          | 6/52 [00:00<00:03, 13.14it/s]\u001b[A\n",
      "Iteration:  15%|████████████████████████                                                                                                                                    | 8/52 [00:00<00:03, 13.09it/s]\u001b[A\n",
      "Iteration:  19%|█████████████████████████████▊                                                                                                                             | 10/52 [00:00<00:03, 13.07it/s]\u001b[A\n",
      "Iteration:  23%|███████████████████████████████████▊                                                                                                                       | 12/52 [00:00<00:03, 13.04it/s]\u001b[A\n",
      "Iteration:  27%|█████████████████████████████████████████▋                                                                                                                 | 14/52 [00:01<00:02, 13.01it/s]\u001b[A\n",
      "Iteration:  31%|███████████████████████████████████████████████▋                                                                                                           | 16/52 [00:01<00:02, 12.99it/s]\u001b[A\n",
      "Iteration:  35%|█████████████████████████████████████████████████████▋                                                                                                     | 18/52 [00:01<00:02, 12.98it/s]\u001b[A\n",
      "Iteration:  38%|███████████████████████████████████████████████████████████▌                                                                                               | 20/52 [00:01<00:02, 12.99it/s]\u001b[A\n",
      "Iteration:  42%|█████████████████████████████████████████████████████████████████▌                                                                                         | 22/52 [00:01<00:02, 12.99it/s]\u001b[A\n",
      "Iteration:  46%|███████████████████████████████████████████████████████████████████████▌                                                                                   | 24/52 [00:01<00:02, 12.98it/s]\u001b[A\n",
      "Iteration:  50%|█████████████████████████████████████████████████████████████████████████████▌                                                                             | 26/52 [00:02<00:02, 12.95it/s]\u001b[A\n",
      "Iteration:  54%|███████████████████████████████████████████████████████████████████████████████████▍                                                                       | 28/52 [00:02<00:01, 12.95it/s]\u001b[A\n"
     ]
    },
    {
     "name": "stderr",
     "output_type": "stream",
     "text": [
      "Iteration:  58%|█████████████████████████████████████████████████████████████████████████████████████████▍                                                                 | 30/52 [00:02<00:01, 12.95it/s]\u001b[A\n",
      "Iteration:  62%|███████████████████████████████████████████████████████████████████████████████████████████████▍                                                           | 32/52 [00:02<00:01, 12.95it/s]\u001b[A\n",
      "Iteration:  65%|█████████████████████████████████████████████████████████████████████████████████████████████████████▎                                                     | 34/52 [00:02<00:01, 12.96it/s]\u001b[A\n",
      "Iteration:  69%|███████████████████████████████████████████████████████████████████████████████████████████████████████████▎                                               | 36/52 [00:02<00:01, 12.97it/s]\u001b[A\n",
      "Iteration:  73%|█████████████████████████████████████████████████████████████████████████████████████████████████████████████████▎                                         | 38/52 [00:02<00:01, 12.95it/s]\u001b[A\n",
      "Iteration:  77%|███████████████████████████████████████████████████████████████████████████████████████████████████████████████████████▏                                   | 40/52 [00:03<00:00, 12.93it/s]\u001b[A\n",
      "Iteration:  81%|█████████████████████████████████████████████████████████████████████████████████████████████████████████████████████████████▏                             | 42/52 [00:03<00:00, 12.93it/s]\u001b[A\n",
      "Iteration:  85%|███████████████████████████████████████████████████████████████████████████████████████████████████████████████████████████████████▏                       | 44/52 [00:03<00:00, 12.95it/s]\u001b[A\n",
      "Iteration:  88%|█████████████████████████████████████████████████████████████████████████████████████████████████████████████████████████████████████████                  | 46/52 [00:03<00:00, 12.95it/s]\u001b[A\n",
      "Iteration:  92%|███████████████████████████████████████████████████████████████████████████████████████████████████████████████████████████████████████████████            | 48/52 [00:03<00:00, 12.96it/s]\u001b[A\n",
      "Iteration:  96%|█████████████████████████████████████████████████████████████████████████████████████████████████████████████████████████████████████████████████████      | 50/52 [00:03<00:00, 12.96it/s]\u001b[A\n",
      "Iteration: 100%|███████████████████████████████████████████████████████████████████████████████████████████████████████████████████████████████████████████████████████████| 52/52 [00:03<00:00, 13.12it/s]\u001b[A\n",
      "\n",
      "Iteration:   0%|                                                                                                                                                                    | 0/12 [00:00<?, ?it/s]\u001b[A\n",
      "Iteration:  33%|████████████████████████████████████████████████████                                                                                                        | 4/12 [00:00<00:00, 36.49it/s]\u001b[A\n",
      "Iteration:  58%|███████████████████████████████████████████████████████████████████████████████████████████                                                                 | 7/12 [00:00<00:00, 33.95it/s]\u001b[A\n",
      "Iteration: 100%|███████████████████████████████████████████████████████████████████████████████████████████████████████████████████████████████████████████████████████████| 12/12 [00:00<00:00, 31.28it/s]\u001b[A\n",
      "Epoch:  14%|██████████████████████                                                                                                                                        | 14/100 [01:00<06:16,  4.38s/it]\n",
      "Iteration:   0%|                                                                                                                                                                    | 0/52 [00:00<?, ?it/s]\u001b[A\n",
      "Iteration:   4%|██████                                                                                                                                                      | 2/52 [00:00<00:03, 13.18it/s]\u001b[A\n",
      "Iteration:   8%|████████████                                                                                                                                                | 4/52 [00:00<00:03, 13.10it/s]\u001b[A\n",
      "Iteration:  12%|██████████████████                                                                                                                                          | 6/52 [00:00<00:03, 13.06it/s]\u001b[A\n",
      "Iteration:  15%|████████████████████████                                                                                                                                    | 8/52 [00:00<00:03, 13.03it/s]\u001b[A\n",
      "Iteration:  19%|█████████████████████████████▊                                                                                                                             | 10/52 [00:00<00:03, 13.00it/s]\u001b[A\n",
      "Iteration:  23%|███████████████████████████████████▊                                                                                                                       | 12/52 [00:00<00:03, 12.97it/s]\u001b[A\n",
      "Iteration:  27%|█████████████████████████████████████████▋                                                                                                                 | 14/52 [00:01<00:02, 12.92it/s]\u001b[A\n",
      "Iteration:  31%|███████████████████████████████████████████████▋                                                                                                           | 16/52 [00:01<00:02, 12.92it/s]\u001b[A\n",
      "Iteration:  35%|█████████████████████████████████████████████████████▋                                                                                                     | 18/52 [00:01<00:02, 12.93it/s]\u001b[A\n",
      "Iteration:  38%|███████████████████████████████████████████████████████████▌                                                                                               | 20/52 [00:01<00:02, 12.93it/s]\u001b[A\n",
      "Iteration:  42%|█████████████████████████████████████████████████████████████████▌                                                                                         | 22/52 [00:01<00:02, 12.94it/s]\u001b[A\n",
      "Iteration:  46%|███████████████████████████████████████████████████████████████████████▌                                                                                   | 24/52 [00:01<00:02, 12.93it/s]\u001b[A\n",
      "Iteration:  50%|█████████████████████████████████████████████████████████████████████████████▌                                                                             | 26/52 [00:02<00:02, 12.91it/s]\u001b[A\n",
      "Iteration:  54%|███████████████████████████████████████████████████████████████████████████████████▍                                                                       | 28/52 [00:02<00:01, 12.89it/s]\u001b[A\n",
      "Iteration:  58%|█████████████████████████████████████████████████████████████████████████████████████████▍                                                                 | 30/52 [00:02<00:01, 12.89it/s]\u001b[A\n",
      "Iteration:  62%|███████████████████████████████████████████████████████████████████████████████████████████████▍                                                           | 32/52 [00:02<00:01, 12.90it/s]\u001b[A\n",
      "Iteration:  65%|█████████████████████████████████████████████████████████████████████████████████████████████████████▎                                                     | 34/52 [00:02<00:01, 12.91it/s]\u001b[A\n",
      "Iteration:  69%|███████████████████████████████████████████████████████████████████████████████████████████████████████████▎                                               | 36/52 [00:02<00:01, 12.92it/s]\u001b[A\n",
      "Iteration:  73%|█████████████████████████████████████████████████████████████████████████████████████████████████████████████████▎                                         | 38/52 [00:02<00:01, 12.90it/s]\u001b[A\n",
      "Iteration:  77%|███████████████████████████████████████████████████████████████████████████████████████████████████████████████████████▏                                   | 40/52 [00:03<00:00, 12.89it/s]\u001b[A\n",
      "Iteration:  81%|█████████████████████████████████████████████████████████████████████████████████████████████████████████████████████████████▏                             | 42/52 [00:03<00:00, 12.89it/s]\u001b[A\n"
     ]
    },
    {
     "name": "stderr",
     "output_type": "stream",
     "text": [
      "Iteration:  85%|███████████████████████████████████████████████████████████████████████████████████████████████████████████████████████████████████▏                       | 44/52 [00:03<00:00, 12.90it/s]\u001b[A\n",
      "Iteration:  88%|█████████████████████████████████████████████████████████████████████████████████████████████████████████████████████████████████████████                  | 46/52 [00:03<00:00, 12.91it/s]\u001b[A\n",
      "Iteration:  92%|███████████████████████████████████████████████████████████████████████████████████████████████████████████████████████████████████████████████            | 48/52 [00:03<00:00, 12.91it/s]\u001b[A\n",
      "Iteration:  96%|█████████████████████████████████████████████████████████████████████████████████████████████████████████████████████████████████████████████████████      | 50/52 [00:03<00:00, 12.91it/s]\u001b[A\n",
      "Iteration: 100%|███████████████████████████████████████████████████████████████████████████████████████████████████████████████████████████████████████████████████████████| 52/52 [00:03<00:00, 13.07it/s]\u001b[A\n",
      "\n",
      "Iteration:   0%|                                                                                                                                                                    | 0/12 [00:00<?, ?it/s]\u001b[A\n",
      "Iteration:  33%|████████████████████████████████████████████████████                                                                                                        | 4/12 [00:00<00:00, 36.44it/s]\u001b[A\n",
      "Iteration:  58%|███████████████████████████████████████████████████████████████████████████████████████████                                                                 | 7/12 [00:00<00:00, 33.88it/s]\u001b[A\n",
      "Iteration: 100%|███████████████████████████████████████████████████████████████████████████████████████████████████████████████████████████████████████████████████████████| 12/12 [00:00<00:00, 31.17it/s]\u001b[A\n",
      "Epoch:  15%|███████████████████████▋                                                                                                                                      | 15/100 [01:05<06:12,  4.38s/it]\n",
      "Iteration:   0%|                                                                                                                                                                    | 0/52 [00:00<?, ?it/s]\u001b[A\n",
      "Iteration:   4%|██████                                                                                                                                                      | 2/52 [00:00<00:03, 13.08it/s]\u001b[A\n",
      "Iteration:   8%|████████████                                                                                                                                                | 4/52 [00:00<00:03, 13.05it/s]\u001b[A\n",
      "Iteration:  12%|██████████████████                                                                                                                                          | 6/52 [00:00<00:03, 13.02it/s]\u001b[A\n",
      "Iteration:  15%|████████████████████████                                                                                                                                    | 8/52 [00:00<00:03, 12.99it/s]\u001b[A\n",
      "Iteration:  19%|█████████████████████████████▊                                                                                                                             | 10/52 [00:00<00:03, 12.96it/s]\u001b[A\n",
      "Iteration:  23%|███████████████████████████████████▊                                                                                                                       | 12/52 [00:00<00:03, 12.92it/s]\u001b[A\n",
      "Iteration:  27%|█████████████████████████████████████████▋                                                                                                                 | 14/52 [00:01<00:02, 12.89it/s]\u001b[A\n",
      "Iteration:  31%|███████████████████████████████████████████████▋                                                                                                           | 16/52 [00:01<00:02, 12.90it/s]\u001b[A\n",
      "Iteration:  35%|█████████████████████████████████████████████████████▋                                                                                                     | 18/52 [00:01<00:02, 12.91it/s]\u001b[A\n",
      "Iteration:  38%|███████████████████████████████████████████████████████████▌                                                                                               | 20/52 [00:01<00:02, 12.92it/s]\u001b[A\n",
      "Iteration:  42%|█████████████████████████████████████████████████████████████████▌                                                                                         | 22/52 [00:01<00:02, 12.92it/s]\u001b[A\n",
      "Iteration:  46%|███████████████████████████████████████████████████████████████████████▌                                                                                   | 24/52 [00:01<00:02, 12.91it/s]\u001b[A\n",
      "Iteration:  50%|█████████████████████████████████████████████████████████████████████████████▌                                                                             | 26/52 [00:02<00:02, 12.88it/s]\u001b[A\n",
      "Iteration:  54%|███████████████████████████████████████████████████████████████████████████████████▍                                                                       | 28/52 [00:02<00:01, 12.89it/s]\u001b[A\n",
      "Iteration:  58%|█████████████████████████████████████████████████████████████████████████████████████████▍                                                                 | 30/52 [00:02<00:01, 12.90it/s]\u001b[A\n",
      "Iteration:  62%|███████████████████████████████████████████████████████████████████████████████████████████████▍                                                           | 32/52 [00:02<00:01, 12.91it/s]\u001b[A\n",
      "Iteration:  65%|█████████████████████████████████████████████████████████████████████████████████████████████████████▎                                                     | 34/52 [00:02<00:01, 12.91it/s]\u001b[A\n",
      "Iteration:  69%|███████████████████████████████████████████████████████████████████████████████████████████████████████████▎                                               | 36/52 [00:02<00:01, 12.91it/s]\u001b[A\n",
      "Iteration:  73%|█████████████████████████████████████████████████████████████████████████████████████████████████████████████████▎                                         | 38/52 [00:02<00:01, 12.88it/s]\u001b[A\n",
      "Iteration:  77%|███████████████████████████████████████████████████████████████████████████████████████████████████████████████████████▏                                   | 40/52 [00:03<00:00, 12.87it/s]\u001b[A\n",
      "Iteration:  81%|█████████████████████████████████████████████████████████████████████████████████████████████████████████████████████████████▏                             | 42/52 [00:03<00:00, 12.89it/s]\u001b[A\n",
      "Iteration:  85%|███████████████████████████████████████████████████████████████████████████████████████████████████████████████████████████████████▏                       | 44/52 [00:03<00:00, 12.90it/s]\u001b[A\n",
      "Iteration:  88%|█████████████████████████████████████████████████████████████████████████████████████████████████████████████████████████████████████████                  | 46/52 [00:03<00:00, 12.91it/s]\u001b[A\n",
      "Iteration:  92%|███████████████████████████████████████████████████████████████████████████████████████████████████████████████████████████████████████████████            | 48/52 [00:03<00:00, 12.91it/s]\u001b[A\n",
      "Iteration:  96%|█████████████████████████████████████████████████████████████████████████████████████████████████████████████████████████████████████████████████████      | 50/52 [00:03<00:00, 12.90it/s]\u001b[A\n",
      "Iteration: 100%|███████████████████████████████████████████████████████████████████████████████████████████████████████████████████████████████████████████████████████████| 52/52 [00:03<00:00, 13.06it/s]\u001b[A\n",
      "\n",
      "Iteration:   0%|                                                                                                                                                                    | 0/12 [00:00<?, ?it/s]\u001b[A\n",
      "Iteration:  33%|████████████████████████████████████████████████████                                                                                                        | 4/12 [00:00<00:00, 36.31it/s]\u001b[A\n"
     ]
    },
    {
     "name": "stderr",
     "output_type": "stream",
     "text": [
      "Iteration:  58%|███████████████████████████████████████████████████████████████████████████████████████████                                                                 | 7/12 [00:00<00:00, 33.80it/s]\u001b[A\n",
      "Iteration: 100%|███████████████████████████████████████████████████████████████████████████████████████████████████████████████████████████████████████████████████████████| 12/12 [00:00<00:00, 31.17it/s]\u001b[A\n",
      "Epoch:  16%|█████████████████████████▎                                                                                                                                    | 16/100 [01:09<06:08,  4.38s/it]\n",
      "Iteration:   0%|                                                                                                                                                                    | 0/52 [00:00<?, ?it/s]\u001b[A\n",
      "Iteration:   4%|██████                                                                                                                                                      | 2/52 [00:00<00:03, 13.12it/s]\u001b[A\n",
      "Iteration:   8%|████████████                                                                                                                                                | 4/52 [00:00<00:03, 13.06it/s]\u001b[A\n",
      "Iteration:  12%|██████████████████                                                                                                                                          | 6/52 [00:00<00:03, 12.99it/s]\u001b[A\n",
      "Iteration:  15%|████████████████████████                                                                                                                                    | 8/52 [00:00<00:03, 12.98it/s]\u001b[A\n",
      "Iteration:  19%|█████████████████████████████▊                                                                                                                             | 10/52 [00:00<00:03, 12.95it/s]\u001b[A\n",
      "Iteration:  23%|███████████████████████████████████▊                                                                                                                       | 12/52 [00:00<00:03, 12.90it/s]\u001b[A\n",
      "Iteration:  27%|█████████████████████████████████████████▋                                                                                                                 | 14/52 [00:01<00:02, 12.87it/s]\u001b[A\n",
      "Iteration:  31%|███████████████████████████████████████████████▋                                                                                                           | 16/52 [00:01<00:02, 12.86it/s]\u001b[A\n",
      "Iteration:  35%|█████████████████████████████████████████████████████▋                                                                                                     | 18/52 [00:01<00:02, 12.87it/s]\u001b[A\n",
      "Iteration:  38%|███████████████████████████████████████████████████████████▌                                                                                               | 20/52 [00:01<00:02, 12.89it/s]\u001b[A\n",
      "Iteration:  42%|█████████████████████████████████████████████████████████████████▌                                                                                         | 22/52 [00:01<00:02, 12.90it/s]\u001b[A\n",
      "Iteration:  46%|███████████████████████████████████████████████████████████████████████▌                                                                                   | 24/52 [00:01<00:02, 12.90it/s]\u001b[A\n",
      "Iteration:  50%|█████████████████████████████████████████████████████████████████████████████▌                                                                             | 26/52 [00:02<00:02, 12.86it/s]\u001b[A\n",
      "Iteration:  54%|███████████████████████████████████████████████████████████████████████████████████▍                                                                       | 28/52 [00:02<00:01, 12.85it/s]\u001b[A\n",
      "Iteration:  58%|█████████████████████████████████████████████████████████████████████████████████████████▍                                                                 | 30/52 [00:02<00:01, 12.87it/s]\u001b[A\n",
      "Iteration:  62%|███████████████████████████████████████████████████████████████████████████████████████████████▍                                                           | 32/52 [00:02<00:01, 12.89it/s]\u001b[A\n",
      "Iteration:  65%|█████████████████████████████████████████████████████████████████████████████████████████████████████▎                                                     | 34/52 [00:02<00:01, 12.90it/s]\u001b[A\n",
      "Iteration:  69%|███████████████████████████████████████████████████████████████████████████████████████████████████████████▎                                               | 36/52 [00:02<00:01, 12.89it/s]\u001b[A\n",
      "Iteration:  73%|█████████████████████████████████████████████████████████████████████████████████████████████████████████████████▎                                         | 38/52 [00:02<00:01, 12.87it/s]\u001b[A\n",
      "Iteration:  77%|███████████████████████████████████████████████████████████████████████████████████████████████████████████████████████▏                                   | 40/52 [00:03<00:00, 12.85it/s]\u001b[A\n",
      "Iteration:  81%|█████████████████████████████████████████████████████████████████████████████████████████████████████████████████████████████▏                             | 42/52 [00:03<00:00, 12.85it/s]\u001b[A\n",
      "Iteration:  85%|███████████████████████████████████████████████████████████████████████████████████████████████████████████████████████████████████▏                       | 44/52 [00:03<00:00, 12.86it/s]\u001b[A\n",
      "Iteration:  88%|█████████████████████████████████████████████████████████████████████████████████████████████████████████████████████████████████████████                  | 46/52 [00:03<00:00, 12.88it/s]\u001b[A\n",
      "Iteration:  92%|███████████████████████████████████████████████████████████████████████████████████████████████████████████████████████████████████████████████            | 48/52 [00:03<00:00, 12.89it/s]\u001b[A\n",
      "Iteration:  96%|█████████████████████████████████████████████████████████████████████████████████████████████████████████████████████████████████████████████████████      | 50/52 [00:03<00:00, 12.89it/s]\u001b[A\n",
      "Iteration: 100%|███████████████████████████████████████████████████████████████████████████████████████████████████████████████████████████████████████████████████████████| 52/52 [00:03<00:00, 13.03it/s]\u001b[A\n",
      "\n",
      "Iteration:   0%|                                                                                                                                                                    | 0/12 [00:00<?, ?it/s]\u001b[A\n",
      "Iteration:  33%|████████████████████████████████████████████████████                                                                                                        | 4/12 [00:00<00:00, 35.51it/s]\u001b[A\n",
      "Iteration:  58%|███████████████████████████████████████████████████████████████████████████████████████████                                                                 | 7/12 [00:00<00:00, 33.35it/s]\u001b[A\n",
      "Iteration: 100%|███████████████████████████████████████████████████████████████████████████████████████████████████████████████████████████████████████████████████████████| 12/12 [00:00<00:00, 30.98it/s]\u001b[A\n",
      "Epoch:  17%|██████████████████████████▊                                                                                                                                   | 17/100 [01:14<06:04,  4.39s/it]\n",
      "Iteration:   0%|                                                                                                                                                                    | 0/52 [00:00<?, ?it/s]\u001b[A\n",
      "Iteration:   4%|██████                                                                                                                                                      | 2/52 [00:00<00:03, 13.18it/s]\u001b[A\n",
      "Iteration:   8%|████████████                                                                                                                                                | 4/52 [00:00<00:03, 13.11it/s]\u001b[A\n",
      "Iteration:  12%|██████████████████                                                                                                                                          | 6/52 [00:00<00:03, 13.07it/s]\u001b[A\n"
     ]
    },
    {
     "name": "stderr",
     "output_type": "stream",
     "text": [
      "Iteration:  15%|████████████████████████                                                                                                                                    | 8/52 [00:00<00:03, 13.01it/s]\u001b[A\n",
      "Iteration:  19%|█████████████████████████████▊                                                                                                                             | 10/52 [00:00<00:03, 12.97it/s]\u001b[A\n",
      "Iteration:  23%|███████████████████████████████████▊                                                                                                                       | 12/52 [00:00<00:03, 12.91it/s]\u001b[A\n",
      "Iteration:  27%|█████████████████████████████████████████▋                                                                                                                 | 14/52 [00:01<00:02, 12.86it/s]\u001b[A\n",
      "Iteration:  31%|███████████████████████████████████████████████▋                                                                                                           | 16/52 [00:01<00:02, 12.87it/s]\u001b[A\n",
      "Iteration:  35%|█████████████████████████████████████████████████████▋                                                                                                     | 18/52 [00:01<00:02, 12.89it/s]\u001b[A\n",
      "Iteration:  38%|███████████████████████████████████████████████████████████▌                                                                                               | 20/52 [00:01<00:02, 12.89it/s]\u001b[A\n",
      "Iteration:  42%|█████████████████████████████████████████████████████████████████▌                                                                                         | 22/52 [00:01<00:02, 12.90it/s]\u001b[A\n",
      "Iteration:  46%|███████████████████████████████████████████████████████████████████████▌                                                                                   | 24/52 [00:01<00:02, 12.91it/s]\u001b[A\n",
      "Iteration:  50%|█████████████████████████████████████████████████████████████████████████████▌                                                                             | 26/52 [00:02<00:02, 12.90it/s]\u001b[A\n",
      "Iteration:  54%|███████████████████████████████████████████████████████████████████████████████████▍                                                                       | 28/52 [00:02<00:01, 12.89it/s]\u001b[A\n",
      "Iteration:  58%|█████████████████████████████████████████████████████████████████████████████████████████▍                                                                 | 30/52 [00:02<00:01, 12.90it/s]\u001b[A\n",
      "Iteration:  62%|███████████████████████████████████████████████████████████████████████████████████████████████▍                                                           | 32/52 [00:02<00:01, 12.90it/s]\u001b[A\n",
      "Iteration:  65%|█████████████████████████████████████████████████████████████████████████████████████████████████████▎                                                     | 34/52 [00:02<00:01, 12.91it/s]\u001b[A\n",
      "Iteration:  69%|███████████████████████████████████████████████████████████████████████████████████████████████████████████▎                                               | 36/52 [00:02<00:01, 12.91it/s]\u001b[A\n",
      "Iteration:  73%|█████████████████████████████████████████████████████████████████████████████████████████████████████████████████▎                                         | 38/52 [00:02<00:01, 12.91it/s]\u001b[A\n",
      "Iteration:  77%|███████████████████████████████████████████████████████████████████████████████████████████████████████████████████████▏                                   | 40/52 [00:03<00:00, 12.89it/s]\u001b[A\n",
      "Iteration:  81%|█████████████████████████████████████████████████████████████████████████████████████████████████████████████████████████████▏                             | 42/52 [00:03<00:00, 12.89it/s]\u001b[A\n",
      "Iteration:  85%|███████████████████████████████████████████████████████████████████████████████████████████████████████████████████████████████████▏                       | 44/52 [00:03<00:00, 12.89it/s]\u001b[A\n",
      "Iteration:  88%|█████████████████████████████████████████████████████████████████████████████████████████████████████████████████████████████████████████                  | 46/52 [00:03<00:00, 12.89it/s]\u001b[A\n",
      "Iteration:  92%|███████████████████████████████████████████████████████████████████████████████████████████████████████████████████████████████████████████████            | 48/52 [00:03<00:00, 12.90it/s]\u001b[A\n",
      "Iteration:  96%|█████████████████████████████████████████████████████████████████████████████████████████████████████████████████████████████████████████████████████      | 50/52 [00:03<00:00, 12.91it/s]\u001b[A\n",
      "Iteration: 100%|███████████████████████████████████████████████████████████████████████████████████████████████████████████████████████████████████████████████████████████| 52/52 [00:03<00:00, 13.06it/s]\u001b[A\n",
      "\n",
      "Iteration:   0%|                                                                                                                                                                    | 0/12 [00:00<?, ?it/s]\u001b[A\n",
      "Iteration:  33%|████████████████████████████████████████████████████                                                                                                        | 4/12 [00:00<00:00, 36.16it/s]\u001b[A\n",
      "Iteration:  58%|███████████████████████████████████████████████████████████████████████████████████████████                                                                 | 7/12 [00:00<00:00, 33.72it/s]\u001b[A\n",
      "Iteration: 100%|███████████████████████████████████████████████████████████████████████████████████████████████████████████████████████████████████████████████████████████| 12/12 [00:00<00:00, 31.23it/s]\u001b[A\n",
      "Epoch:  18%|████████████████████████████▍                                                                                                                                 | 18/100 [01:18<06:00,  4.39s/it]\n",
      "Iteration:   0%|                                                                                                                                                                    | 0/52 [00:00<?, ?it/s]\u001b[A\n",
      "Iteration:   4%|██████                                                                                                                                                      | 2/52 [00:00<00:03, 13.18it/s]\u001b[A\n",
      "Iteration:   8%|████████████                                                                                                                                                | 4/52 [00:00<00:03, 13.10it/s]\u001b[A\n",
      "Iteration:  12%|██████████████████                                                                                                                                          | 6/52 [00:00<00:03, 13.06it/s]\u001b[A\n",
      "Iteration:  15%|████████████████████████                                                                                                                                    | 8/52 [00:00<00:03, 13.01it/s]\u001b[A\n",
      "Iteration:  19%|█████████████████████████████▊                                                                                                                             | 10/52 [00:00<00:03, 12.98it/s]\u001b[A\n",
      "Iteration:  23%|███████████████████████████████████▊                                                                                                                       | 12/52 [00:00<00:03, 12.93it/s]\u001b[A\n",
      "Iteration:  27%|█████████████████████████████████████████▋                                                                                                                 | 14/52 [00:01<00:02, 12.88it/s]\u001b[A\n",
      "Iteration:  31%|███████████████████████████████████████████████▋                                                                                                           | 16/52 [00:01<00:02, 12.89it/s]\u001b[A\n",
      "Iteration:  35%|█████████████████████████████████████████████████████▋                                                                                                     | 18/52 [00:01<00:02, 12.90it/s]\u001b[A\n",
      "Iteration:  38%|███████████████████████████████████████████████████████████▌                                                                                               | 20/52 [00:01<00:02, 12.91it/s]\u001b[A\n"
     ]
    },
    {
     "name": "stderr",
     "output_type": "stream",
     "text": [
      "Iteration:  42%|█████████████████████████████████████████████████████████████████▌                                                                                         | 22/52 [00:01<00:02, 12.91it/s]\u001b[A\n",
      "Iteration:  46%|███████████████████████████████████████████████████████████████████████▌                                                                                   | 24/52 [00:01<00:02, 12.90it/s]\u001b[A\n",
      "Iteration:  50%|█████████████████████████████████████████████████████████████████████████████▌                                                                             | 26/52 [00:02<00:02, 12.87it/s]\u001b[A\n",
      "Iteration:  54%|███████████████████████████████████████████████████████████████████████████████████▍                                                                       | 28/52 [00:02<00:01, 12.86it/s]\u001b[A\n",
      "Iteration:  58%|█████████████████████████████████████████████████████████████████████████████████████████▍                                                                 | 30/52 [00:02<00:01, 12.88it/s]\u001b[A\n",
      "Iteration:  62%|███████████████████████████████████████████████████████████████████████████████████████████████▍                                                           | 32/52 [00:02<00:01, 12.89it/s]\u001b[A\n",
      "Iteration:  65%|█████████████████████████████████████████████████████████████████████████████████████████████████████▎                                                     | 34/52 [00:02<00:01, 12.90it/s]\u001b[A\n",
      "Iteration:  69%|███████████████████████████████████████████████████████████████████████████████████████████████████████████▎                                               | 36/52 [00:02<00:01, 12.91it/s]\u001b[A\n",
      "Iteration:  73%|█████████████████████████████████████████████████████████████████████████████████████████████████████████████████▎                                         | 38/52 [00:02<00:01, 12.89it/s]\u001b[A\n",
      "Iteration:  77%|███████████████████████████████████████████████████████████████████████████████████████████████████████████████████████▏                                   | 40/52 [00:03<00:00, 12.88it/s]\u001b[A\n",
      "Iteration:  81%|█████████████████████████████████████████████████████████████████████████████████████████████████████████████████████████████▏                             | 42/52 [00:03<00:00, 12.88it/s]\u001b[A\n",
      "Iteration:  85%|███████████████████████████████████████████████████████████████████████████████████████████████████████████████████████████████████▏                       | 44/52 [00:03<00:00, 12.88it/s]\u001b[A\n",
      "Iteration:  88%|█████████████████████████████████████████████████████████████████████████████████████████████████████████████████████████████████████████                  | 46/52 [00:03<00:00, 12.89it/s]\u001b[A\n",
      "Iteration:  94%|██████████████████████████████████████████████████████████████████████████████████████████████████████████████████████████████████████████████████         | 49/52 [00:03<00:00, 12.87it/s]\u001b[A\n",
      "Epoch:  18%|████████████████████████████▍                                                                                                                                 | 18/100 [01:22<06:15,  4.58s/it]\n",
      "/workspace/ADB/TEXTOIR/open_intent_detection/backbones/bert.py:136: SyntaxWarning: \"is not\" with a literal. Did you mean \"!=\"?\n",
      "  if mode is not 'test':\n",
      "/workspace/ADB/TEXTOIR/open_intent_detection/backbones/bert.py:136: SyntaxWarning: \"is not\" with a literal. Did you mean \"!=\"?\n",
      "  if mode is not 'test':\n"
     ]
    },
    {
     "ename": "KeyboardInterrupt",
     "evalue": "",
     "output_type": "error",
     "traceback": [
      "\u001b[0;31m---------------------------------------------------------------------------\u001b[0m",
      "\u001b[0;31mKeyboardInterrupt\u001b[0m                         Traceback (most recent call last)",
      "Input \u001b[0;32mIn [5]\u001b[0m, in \u001b[0;36m<cell line: 1>\u001b[0;34m()\u001b[0m\n\u001b[0;32m----> 1\u001b[0m method \u001b[38;5;241m=\u001b[39m \u001b[43mmethod_manager\u001b[49m\u001b[43m(\u001b[49m\u001b[43margs\u001b[49m\u001b[43m,\u001b[49m\u001b[43m \u001b[49m\u001b[43mdata\u001b[49m\u001b[43m,\u001b[49m\u001b[43m \u001b[49m\u001b[43mmodel\u001b[49m\u001b[43m,\u001b[49m\u001b[43m \u001b[49m\u001b[43mlogger_name\u001b[49m\u001b[43m \u001b[49m\u001b[38;5;241;43m=\u001b[39;49m\u001b[43m \u001b[49m\u001b[43margs\u001b[49m\u001b[38;5;241;43m.\u001b[39;49m\u001b[43mlogger_name\u001b[49m\u001b[43m)\u001b[49m\n",
      "File \u001b[0;32m/workspace/ADB/TEXTOIR/open_intent_detection/methods/ADB/manager.py:21\u001b[0m, in \u001b[0;36mADBManager.__init__\u001b[0;34m(self, args, data, model, logger_name)\u001b[0m\n\u001b[1;32m     18\u001b[0m \u001b[38;5;28mprint\u001b[39m(\u001b[38;5;124m\"\u001b[39m\u001b[38;5;124mADB init\u001b[39m\u001b[38;5;124m\"\u001b[39m)\n\u001b[1;32m     19\u001b[0m \u001b[38;5;28mself\u001b[39m\u001b[38;5;241m.\u001b[39mlogger \u001b[38;5;241m=\u001b[39m logging\u001b[38;5;241m.\u001b[39mgetLogger(logger_name)\n\u001b[0;32m---> 21\u001b[0m pretrain_model \u001b[38;5;241m=\u001b[39m \u001b[43mPretrainManager\u001b[49m\u001b[43m(\u001b[49m\u001b[43margs\u001b[49m\u001b[43m,\u001b[49m\u001b[43m \u001b[49m\u001b[43mdata\u001b[49m\u001b[43m,\u001b[49m\u001b[43m \u001b[49m\u001b[43mmodel\u001b[49m\u001b[43m)\u001b[49m\n\u001b[1;32m     22\u001b[0m \u001b[38;5;28mself\u001b[39m\u001b[38;5;241m.\u001b[39mmodel \u001b[38;5;241m=\u001b[39m pretrain_model\u001b[38;5;241m.\u001b[39mmodel\n\u001b[1;32m     23\u001b[0m \u001b[38;5;28mself\u001b[39m\u001b[38;5;241m.\u001b[39mcentroids \u001b[38;5;241m=\u001b[39m pretrain_model\u001b[38;5;241m.\u001b[39mcentroids\n",
      "File \u001b[0;32m/workspace/ADB/TEXTOIR/open_intent_detection/methods/ADB/pretrain.py:42\u001b[0m, in \u001b[0;36mPretrainManager.__init__\u001b[0;34m(self, args, data, model, logger_name)\u001b[0m\n\u001b[1;32m     40\u001b[0m     \u001b[38;5;28;01melse\u001b[39;00m:\n\u001b[1;32m     41\u001b[0m         \u001b[38;5;28mprint\u001b[39m(\u001b[38;5;124m\"\u001b[39m\u001b[38;5;124mpretrainmanager init else bert_disaware\u001b[39m\u001b[38;5;124m\"\u001b[39m)\n\u001b[0;32m---> 42\u001b[0m         \u001b[38;5;28;43mself\u001b[39;49m\u001b[38;5;241;43m.\u001b[39;49m\u001b[43mtrain_plain\u001b[49m\u001b[43m(\u001b[49m\u001b[43margs\u001b[49m\u001b[43m,\u001b[49m\u001b[43m \u001b[49m\u001b[43mdata\u001b[49m\u001b[43m)\u001b[49m\n\u001b[1;32m     44\u001b[0m     \u001b[38;5;28mself\u001b[39m\u001b[38;5;241m.\u001b[39mlogger\u001b[38;5;241m.\u001b[39minfo(\u001b[38;5;124m'\u001b[39m\u001b[38;5;124mPre-training finished...\u001b[39m\u001b[38;5;124m'\u001b[39m)\n\u001b[1;32m     46\u001b[0m \u001b[38;5;28;01melse\u001b[39;00m:\n",
      "File \u001b[0;32m/workspace/ADB/TEXTOIR/open_intent_detection/methods/ADB/pretrain.py:65\u001b[0m, in \u001b[0;36mPretrainManager.train_plain\u001b[0;34m(self, args, data)\u001b[0m\n\u001b[1;32m     63\u001b[0m input_ids, input_mask, segment_ids, label_ids \u001b[38;5;241m=\u001b[39m batch\n\u001b[1;32m     64\u001b[0m \u001b[38;5;28;01mwith\u001b[39;00m torch\u001b[38;5;241m.\u001b[39mset_grad_enabled(\u001b[38;5;28;01mTrue\u001b[39;00m):\n\u001b[0;32m---> 65\u001b[0m     loss \u001b[38;5;241m=\u001b[39m \u001b[38;5;28;43mself\u001b[39;49m\u001b[38;5;241;43m.\u001b[39;49m\u001b[43mmodel\u001b[49m\u001b[43m(\u001b[49m\u001b[43minput_ids\u001b[49m\u001b[43m,\u001b[49m\u001b[43m \u001b[49m\u001b[43msegment_ids\u001b[49m\u001b[43m,\u001b[49m\u001b[43m \u001b[49m\u001b[43minput_mask\u001b[49m\u001b[43m,\u001b[49m\u001b[43m \u001b[49m\u001b[43mlabel_ids\u001b[49m\u001b[43m,\u001b[49m\u001b[43m \u001b[49m\u001b[43mmode\u001b[49m\u001b[43m \u001b[49m\u001b[38;5;241;43m=\u001b[39;49m\u001b[43m \u001b[49m\u001b[38;5;124;43m\"\u001b[39;49m\u001b[38;5;124;43mtrain\u001b[39;49m\u001b[38;5;124;43m\"\u001b[39;49m\u001b[43m,\u001b[49m\u001b[43m \u001b[49m\u001b[43mloss_fct\u001b[49m\u001b[43m \u001b[49m\u001b[38;5;241;43m=\u001b[39;49m\u001b[43m \u001b[49m\u001b[38;5;28;43mself\u001b[39;49m\u001b[38;5;241;43m.\u001b[39;49m\u001b[43mloss_fct\u001b[49m\u001b[43m)\u001b[49m\n\u001b[1;32m     66\u001b[0m     \u001b[38;5;28mself\u001b[39m\u001b[38;5;241m.\u001b[39moptimizer\u001b[38;5;241m.\u001b[39mzero_grad()\n\u001b[1;32m     68\u001b[0m     loss\u001b[38;5;241m.\u001b[39mbackward()\n",
      "File \u001b[0;32m/opt/conda/lib/python3.9/site-packages/torch/nn/modules/module.py:1051\u001b[0m, in \u001b[0;36mModule._call_impl\u001b[0;34m(self, *input, **kwargs)\u001b[0m\n\u001b[1;32m   1047\u001b[0m \u001b[38;5;66;03m# If we don't have any hooks, we want to skip the rest of the logic in\u001b[39;00m\n\u001b[1;32m   1048\u001b[0m \u001b[38;5;66;03m# this function, and just call forward.\u001b[39;00m\n\u001b[1;32m   1049\u001b[0m \u001b[38;5;28;01mif\u001b[39;00m \u001b[38;5;129;01mnot\u001b[39;00m (\u001b[38;5;28mself\u001b[39m\u001b[38;5;241m.\u001b[39m_backward_hooks \u001b[38;5;129;01mor\u001b[39;00m \u001b[38;5;28mself\u001b[39m\u001b[38;5;241m.\u001b[39m_forward_hooks \u001b[38;5;129;01mor\u001b[39;00m \u001b[38;5;28mself\u001b[39m\u001b[38;5;241m.\u001b[39m_forward_pre_hooks \u001b[38;5;129;01mor\u001b[39;00m _global_backward_hooks\n\u001b[1;32m   1050\u001b[0m         \u001b[38;5;129;01mor\u001b[39;00m _global_forward_hooks \u001b[38;5;129;01mor\u001b[39;00m _global_forward_pre_hooks):\n\u001b[0;32m-> 1051\u001b[0m     \u001b[38;5;28;01mreturn\u001b[39;00m \u001b[43mforward_call\u001b[49m\u001b[43m(\u001b[49m\u001b[38;5;241;43m*\u001b[39;49m\u001b[38;5;28;43minput\u001b[39;49m\u001b[43m,\u001b[49m\u001b[43m \u001b[49m\u001b[38;5;241;43m*\u001b[39;49m\u001b[38;5;241;43m*\u001b[39;49m\u001b[43mkwargs\u001b[49m\u001b[43m)\u001b[49m\n\u001b[1;32m   1052\u001b[0m \u001b[38;5;66;03m# Do not call functions when jit is used\u001b[39;00m\n\u001b[1;32m   1053\u001b[0m full_backward_hooks, non_full_backward_hooks \u001b[38;5;241m=\u001b[39m [], []\n",
      "File \u001b[0;32m/workspace/ADB/TEXTOIR/open_intent_detection/backbones/bert.py:62\u001b[0m, in \u001b[0;36mBERT.forward\u001b[0;34m(self, input_ids, token_type_ids, attention_mask, labels, feature_ext, mode, loss_fct, centroids)\u001b[0m\n\u001b[1;32m     60\u001b[0m \u001b[38;5;28;01mdef\u001b[39;00m \u001b[38;5;21mforward\u001b[39m(\u001b[38;5;28mself\u001b[39m, input_ids\u001b[38;5;241m=\u001b[39m\u001b[38;5;28;01mNone\u001b[39;00m, token_type_ids\u001b[38;5;241m=\u001b[39m\u001b[38;5;28;01mNone\u001b[39;00m, attention_mask\u001b[38;5;241m=\u001b[39m\u001b[38;5;28;01mNone\u001b[39;00m, labels\u001b[38;5;241m=\u001b[39m\u001b[38;5;28;01mNone\u001b[39;00m,\n\u001b[1;32m     61\u001b[0m             feature_ext\u001b[38;5;241m=\u001b[39m\u001b[38;5;28;01mFalse\u001b[39;00m, mode\u001b[38;5;241m=\u001b[39m\u001b[38;5;28;01mNone\u001b[39;00m, loss_fct\u001b[38;5;241m=\u001b[39m\u001b[38;5;28;01mNone\u001b[39;00m, centroids \u001b[38;5;241m=\u001b[39m \u001b[38;5;28;01mNone\u001b[39;00m):\n\u001b[0;32m---> 62\u001b[0m     outputs \u001b[38;5;241m=\u001b[39m \u001b[38;5;28;43mself\u001b[39;49m\u001b[38;5;241;43m.\u001b[39;49m\u001b[43mbert\u001b[49m\u001b[43m(\u001b[49m\n\u001b[1;32m     63\u001b[0m \u001b[43m        \u001b[49m\u001b[43minput_ids\u001b[49m\u001b[43m,\u001b[49m\u001b[43m \u001b[49m\u001b[43mtoken_type_ids\u001b[49m\u001b[38;5;241;43m=\u001b[39;49m\u001b[43mtoken_type_ids\u001b[49m\u001b[43m,\u001b[49m\u001b[43m \u001b[49m\u001b[43mattention_mask\u001b[49m\u001b[38;5;241;43m=\u001b[39;49m\u001b[43mattention_mask\u001b[49m\u001b[43m,\u001b[49m\u001b[43m \u001b[49m\u001b[43moutput_hidden_states\u001b[49m\u001b[38;5;241;43m=\u001b[39;49m\u001b[38;5;28;43;01mTrue\u001b[39;49;00m\u001b[43m)\u001b[49m\n\u001b[1;32m     64\u001b[0m     encoded_layer_12 \u001b[38;5;241m=\u001b[39m outputs\u001b[38;5;241m.\u001b[39mhidden_states\n\u001b[1;32m     65\u001b[0m     pooled_output \u001b[38;5;241m=\u001b[39m outputs\u001b[38;5;241m.\u001b[39mpooler_output\n",
      "File \u001b[0;32m/opt/conda/lib/python3.9/site-packages/torch/nn/modules/module.py:1051\u001b[0m, in \u001b[0;36mModule._call_impl\u001b[0;34m(self, *input, **kwargs)\u001b[0m\n\u001b[1;32m   1047\u001b[0m \u001b[38;5;66;03m# If we don't have any hooks, we want to skip the rest of the logic in\u001b[39;00m\n\u001b[1;32m   1048\u001b[0m \u001b[38;5;66;03m# this function, and just call forward.\u001b[39;00m\n\u001b[1;32m   1049\u001b[0m \u001b[38;5;28;01mif\u001b[39;00m \u001b[38;5;129;01mnot\u001b[39;00m (\u001b[38;5;28mself\u001b[39m\u001b[38;5;241m.\u001b[39m_backward_hooks \u001b[38;5;129;01mor\u001b[39;00m \u001b[38;5;28mself\u001b[39m\u001b[38;5;241m.\u001b[39m_forward_hooks \u001b[38;5;129;01mor\u001b[39;00m \u001b[38;5;28mself\u001b[39m\u001b[38;5;241m.\u001b[39m_forward_pre_hooks \u001b[38;5;129;01mor\u001b[39;00m _global_backward_hooks\n\u001b[1;32m   1050\u001b[0m         \u001b[38;5;129;01mor\u001b[39;00m _global_forward_hooks \u001b[38;5;129;01mor\u001b[39;00m _global_forward_pre_hooks):\n\u001b[0;32m-> 1051\u001b[0m     \u001b[38;5;28;01mreturn\u001b[39;00m \u001b[43mforward_call\u001b[49m\u001b[43m(\u001b[49m\u001b[38;5;241;43m*\u001b[39;49m\u001b[38;5;28;43minput\u001b[39;49m\u001b[43m,\u001b[49m\u001b[43m \u001b[49m\u001b[38;5;241;43m*\u001b[39;49m\u001b[38;5;241;43m*\u001b[39;49m\u001b[43mkwargs\u001b[49m\u001b[43m)\u001b[49m\n\u001b[1;32m   1052\u001b[0m \u001b[38;5;66;03m# Do not call functions when jit is used\u001b[39;00m\n\u001b[1;32m   1053\u001b[0m full_backward_hooks, non_full_backward_hooks \u001b[38;5;241m=\u001b[39m [], []\n",
      "File \u001b[0;32m/workspace/Diffusion-LM/transformers/src/transformers/models/bert/modeling_bert.py:997\u001b[0m, in \u001b[0;36mBertModel.forward\u001b[0;34m(self, input_ids, attention_mask, token_type_ids, position_ids, head_mask, inputs_embeds, encoder_hidden_states, encoder_attention_mask, past_key_values, use_cache, output_attentions, output_hidden_states, return_dict)\u001b[0m\n\u001b[1;32m    988\u001b[0m head_mask \u001b[38;5;241m=\u001b[39m \u001b[38;5;28mself\u001b[39m\u001b[38;5;241m.\u001b[39mget_head_mask(head_mask, \u001b[38;5;28mself\u001b[39m\u001b[38;5;241m.\u001b[39mconfig\u001b[38;5;241m.\u001b[39mnum_hidden_layers)\n\u001b[1;32m    990\u001b[0m embedding_output \u001b[38;5;241m=\u001b[39m \u001b[38;5;28mself\u001b[39m\u001b[38;5;241m.\u001b[39membeddings(\n\u001b[1;32m    991\u001b[0m     input_ids\u001b[38;5;241m=\u001b[39minput_ids,\n\u001b[1;32m    992\u001b[0m     position_ids\u001b[38;5;241m=\u001b[39mposition_ids,\n\u001b[0;32m   (...)\u001b[0m\n\u001b[1;32m    995\u001b[0m     past_key_values_length\u001b[38;5;241m=\u001b[39mpast_key_values_length,\n\u001b[1;32m    996\u001b[0m )\n\u001b[0;32m--> 997\u001b[0m encoder_outputs \u001b[38;5;241m=\u001b[39m \u001b[38;5;28;43mself\u001b[39;49m\u001b[38;5;241;43m.\u001b[39;49m\u001b[43mencoder\u001b[49m\u001b[43m(\u001b[49m\n\u001b[1;32m    998\u001b[0m \u001b[43m    \u001b[49m\u001b[43membedding_output\u001b[49m\u001b[43m,\u001b[49m\n\u001b[1;32m    999\u001b[0m \u001b[43m    \u001b[49m\u001b[43mattention_mask\u001b[49m\u001b[38;5;241;43m=\u001b[39;49m\u001b[43mextended_attention_mask\u001b[49m\u001b[43m,\u001b[49m\n\u001b[1;32m   1000\u001b[0m \u001b[43m    \u001b[49m\u001b[43mhead_mask\u001b[49m\u001b[38;5;241;43m=\u001b[39;49m\u001b[43mhead_mask\u001b[49m\u001b[43m,\u001b[49m\n\u001b[1;32m   1001\u001b[0m \u001b[43m    \u001b[49m\u001b[43mencoder_hidden_states\u001b[49m\u001b[38;5;241;43m=\u001b[39;49m\u001b[43mencoder_hidden_states\u001b[49m\u001b[43m,\u001b[49m\n\u001b[1;32m   1002\u001b[0m \u001b[43m    \u001b[49m\u001b[43mencoder_attention_mask\u001b[49m\u001b[38;5;241;43m=\u001b[39;49m\u001b[43mencoder_extended_attention_mask\u001b[49m\u001b[43m,\u001b[49m\n\u001b[1;32m   1003\u001b[0m \u001b[43m    \u001b[49m\u001b[43mpast_key_values\u001b[49m\u001b[38;5;241;43m=\u001b[39;49m\u001b[43mpast_key_values\u001b[49m\u001b[43m,\u001b[49m\n\u001b[1;32m   1004\u001b[0m \u001b[43m    \u001b[49m\u001b[43muse_cache\u001b[49m\u001b[38;5;241;43m=\u001b[39;49m\u001b[43muse_cache\u001b[49m\u001b[43m,\u001b[49m\n\u001b[1;32m   1005\u001b[0m \u001b[43m    \u001b[49m\u001b[43moutput_attentions\u001b[49m\u001b[38;5;241;43m=\u001b[39;49m\u001b[43moutput_attentions\u001b[49m\u001b[43m,\u001b[49m\n\u001b[1;32m   1006\u001b[0m \u001b[43m    \u001b[49m\u001b[43moutput_hidden_states\u001b[49m\u001b[38;5;241;43m=\u001b[39;49m\u001b[43moutput_hidden_states\u001b[49m\u001b[43m,\u001b[49m\n\u001b[1;32m   1007\u001b[0m \u001b[43m    \u001b[49m\u001b[43mreturn_dict\u001b[49m\u001b[38;5;241;43m=\u001b[39;49m\u001b[43mreturn_dict\u001b[49m\u001b[43m,\u001b[49m\n\u001b[1;32m   1008\u001b[0m \u001b[43m\u001b[49m\u001b[43m)\u001b[49m\n\u001b[1;32m   1009\u001b[0m sequence_output \u001b[38;5;241m=\u001b[39m encoder_outputs[\u001b[38;5;241m0\u001b[39m]\n\u001b[1;32m   1010\u001b[0m pooled_output \u001b[38;5;241m=\u001b[39m \u001b[38;5;28mself\u001b[39m\u001b[38;5;241m.\u001b[39mpooler(sequence_output) \u001b[38;5;28;01mif\u001b[39;00m \u001b[38;5;28mself\u001b[39m\u001b[38;5;241m.\u001b[39mpooler \u001b[38;5;129;01mis\u001b[39;00m \u001b[38;5;129;01mnot\u001b[39;00m \u001b[38;5;28;01mNone\u001b[39;00m \u001b[38;5;28;01melse\u001b[39;00m \u001b[38;5;28;01mNone\u001b[39;00m\n",
      "File \u001b[0;32m/opt/conda/lib/python3.9/site-packages/torch/nn/modules/module.py:1051\u001b[0m, in \u001b[0;36mModule._call_impl\u001b[0;34m(self, *input, **kwargs)\u001b[0m\n\u001b[1;32m   1047\u001b[0m \u001b[38;5;66;03m# If we don't have any hooks, we want to skip the rest of the logic in\u001b[39;00m\n\u001b[1;32m   1048\u001b[0m \u001b[38;5;66;03m# this function, and just call forward.\u001b[39;00m\n\u001b[1;32m   1049\u001b[0m \u001b[38;5;28;01mif\u001b[39;00m \u001b[38;5;129;01mnot\u001b[39;00m (\u001b[38;5;28mself\u001b[39m\u001b[38;5;241m.\u001b[39m_backward_hooks \u001b[38;5;129;01mor\u001b[39;00m \u001b[38;5;28mself\u001b[39m\u001b[38;5;241m.\u001b[39m_forward_hooks \u001b[38;5;129;01mor\u001b[39;00m \u001b[38;5;28mself\u001b[39m\u001b[38;5;241m.\u001b[39m_forward_pre_hooks \u001b[38;5;129;01mor\u001b[39;00m _global_backward_hooks\n\u001b[1;32m   1050\u001b[0m         \u001b[38;5;129;01mor\u001b[39;00m _global_forward_hooks \u001b[38;5;129;01mor\u001b[39;00m _global_forward_pre_hooks):\n\u001b[0;32m-> 1051\u001b[0m     \u001b[38;5;28;01mreturn\u001b[39;00m \u001b[43mforward_call\u001b[49m\u001b[43m(\u001b[49m\u001b[38;5;241;43m*\u001b[39;49m\u001b[38;5;28;43minput\u001b[39;49m\u001b[43m,\u001b[49m\u001b[43m \u001b[49m\u001b[38;5;241;43m*\u001b[39;49m\u001b[38;5;241;43m*\u001b[39;49m\u001b[43mkwargs\u001b[49m\u001b[43m)\u001b[49m\n\u001b[1;32m   1052\u001b[0m \u001b[38;5;66;03m# Do not call functions when jit is used\u001b[39;00m\n\u001b[1;32m   1053\u001b[0m full_backward_hooks, non_full_backward_hooks \u001b[38;5;241m=\u001b[39m [], []\n",
      "File \u001b[0;32m/workspace/Diffusion-LM/transformers/src/transformers/models/bert/modeling_bert.py:586\u001b[0m, in \u001b[0;36mBertEncoder.forward\u001b[0;34m(self, hidden_states, attention_mask, head_mask, encoder_hidden_states, encoder_attention_mask, past_key_values, use_cache, output_attentions, output_hidden_states, return_dict)\u001b[0m\n\u001b[1;32m    577\u001b[0m     layer_outputs \u001b[38;5;241m=\u001b[39m torch\u001b[38;5;241m.\u001b[39mutils\u001b[38;5;241m.\u001b[39mcheckpoint\u001b[38;5;241m.\u001b[39mcheckpoint(\n\u001b[1;32m    578\u001b[0m         create_custom_forward(layer_module),\n\u001b[1;32m    579\u001b[0m         hidden_states,\n\u001b[0;32m   (...)\u001b[0m\n\u001b[1;32m    583\u001b[0m         encoder_attention_mask,\n\u001b[1;32m    584\u001b[0m     )\n\u001b[1;32m    585\u001b[0m \u001b[38;5;28;01melse\u001b[39;00m:\n\u001b[0;32m--> 586\u001b[0m     layer_outputs \u001b[38;5;241m=\u001b[39m \u001b[43mlayer_module\u001b[49m\u001b[43m(\u001b[49m\n\u001b[1;32m    587\u001b[0m \u001b[43m        \u001b[49m\u001b[43mhidden_states\u001b[49m\u001b[43m,\u001b[49m\n\u001b[1;32m    588\u001b[0m \u001b[43m        \u001b[49m\u001b[43mattention_mask\u001b[49m\u001b[43m,\u001b[49m\n\u001b[1;32m    589\u001b[0m \u001b[43m        \u001b[49m\u001b[43mlayer_head_mask\u001b[49m\u001b[43m,\u001b[49m\n\u001b[1;32m    590\u001b[0m \u001b[43m        \u001b[49m\u001b[43mencoder_hidden_states\u001b[49m\u001b[43m,\u001b[49m\n\u001b[1;32m    591\u001b[0m \u001b[43m        \u001b[49m\u001b[43mencoder_attention_mask\u001b[49m\u001b[43m,\u001b[49m\n\u001b[1;32m    592\u001b[0m \u001b[43m        \u001b[49m\u001b[43mpast_key_value\u001b[49m\u001b[43m,\u001b[49m\n\u001b[1;32m    593\u001b[0m \u001b[43m        \u001b[49m\u001b[43moutput_attentions\u001b[49m\u001b[43m,\u001b[49m\n\u001b[1;32m    594\u001b[0m \u001b[43m    \u001b[49m\u001b[43m)\u001b[49m\n\u001b[1;32m    596\u001b[0m hidden_states \u001b[38;5;241m=\u001b[39m layer_outputs[\u001b[38;5;241m0\u001b[39m]\n\u001b[1;32m    597\u001b[0m \u001b[38;5;28;01mif\u001b[39;00m use_cache:\n",
      "File \u001b[0;32m/opt/conda/lib/python3.9/site-packages/torch/nn/modules/module.py:1051\u001b[0m, in \u001b[0;36mModule._call_impl\u001b[0;34m(self, *input, **kwargs)\u001b[0m\n\u001b[1;32m   1047\u001b[0m \u001b[38;5;66;03m# If we don't have any hooks, we want to skip the rest of the logic in\u001b[39;00m\n\u001b[1;32m   1048\u001b[0m \u001b[38;5;66;03m# this function, and just call forward.\u001b[39;00m\n\u001b[1;32m   1049\u001b[0m \u001b[38;5;28;01mif\u001b[39;00m \u001b[38;5;129;01mnot\u001b[39;00m (\u001b[38;5;28mself\u001b[39m\u001b[38;5;241m.\u001b[39m_backward_hooks \u001b[38;5;129;01mor\u001b[39;00m \u001b[38;5;28mself\u001b[39m\u001b[38;5;241m.\u001b[39m_forward_hooks \u001b[38;5;129;01mor\u001b[39;00m \u001b[38;5;28mself\u001b[39m\u001b[38;5;241m.\u001b[39m_forward_pre_hooks \u001b[38;5;129;01mor\u001b[39;00m _global_backward_hooks\n\u001b[1;32m   1050\u001b[0m         \u001b[38;5;129;01mor\u001b[39;00m _global_forward_hooks \u001b[38;5;129;01mor\u001b[39;00m _global_forward_pre_hooks):\n\u001b[0;32m-> 1051\u001b[0m     \u001b[38;5;28;01mreturn\u001b[39;00m \u001b[43mforward_call\u001b[49m\u001b[43m(\u001b[49m\u001b[38;5;241;43m*\u001b[39;49m\u001b[38;5;28;43minput\u001b[39;49m\u001b[43m,\u001b[49m\u001b[43m \u001b[49m\u001b[38;5;241;43m*\u001b[39;49m\u001b[38;5;241;43m*\u001b[39;49m\u001b[43mkwargs\u001b[49m\u001b[43m)\u001b[49m\n\u001b[1;32m   1052\u001b[0m \u001b[38;5;66;03m# Do not call functions when jit is used\u001b[39;00m\n\u001b[1;32m   1053\u001b[0m full_backward_hooks, non_full_backward_hooks \u001b[38;5;241m=\u001b[39m [], []\n",
      "File \u001b[0;32m/workspace/Diffusion-LM/transformers/src/transformers/models/bert/modeling_bert.py:514\u001b[0m, in \u001b[0;36mBertLayer.forward\u001b[0;34m(self, hidden_states, attention_mask, head_mask, encoder_hidden_states, encoder_attention_mask, past_key_value, output_attentions)\u001b[0m\n\u001b[1;32m    511\u001b[0m     cross_attn_present_key_value \u001b[38;5;241m=\u001b[39m cross_attention_outputs[\u001b[38;5;241m-\u001b[39m\u001b[38;5;241m1\u001b[39m]\n\u001b[1;32m    512\u001b[0m     present_key_value \u001b[38;5;241m=\u001b[39m present_key_value \u001b[38;5;241m+\u001b[39m cross_attn_present_key_value\n\u001b[0;32m--> 514\u001b[0m layer_output \u001b[38;5;241m=\u001b[39m \u001b[43mapply_chunking_to_forward\u001b[49m\u001b[43m(\u001b[49m\n\u001b[1;32m    515\u001b[0m \u001b[43m    \u001b[49m\u001b[38;5;28;43mself\u001b[39;49m\u001b[38;5;241;43m.\u001b[39;49m\u001b[43mfeed_forward_chunk\u001b[49m\u001b[43m,\u001b[49m\u001b[43m \u001b[49m\u001b[38;5;28;43mself\u001b[39;49m\u001b[38;5;241;43m.\u001b[39;49m\u001b[43mchunk_size_feed_forward\u001b[49m\u001b[43m,\u001b[49m\u001b[43m \u001b[49m\u001b[38;5;28;43mself\u001b[39;49m\u001b[38;5;241;43m.\u001b[39;49m\u001b[43mseq_len_dim\u001b[49m\u001b[43m,\u001b[49m\u001b[43m \u001b[49m\u001b[43mattention_output\u001b[49m\n\u001b[1;32m    516\u001b[0m \u001b[43m\u001b[49m\u001b[43m)\u001b[49m\n\u001b[1;32m    517\u001b[0m outputs \u001b[38;5;241m=\u001b[39m (layer_output,) \u001b[38;5;241m+\u001b[39m outputs\n\u001b[1;32m    519\u001b[0m \u001b[38;5;66;03m# if decoder, return the attn key/values as the last output\u001b[39;00m\n",
      "File \u001b[0;32m/workspace/Diffusion-LM/transformers/src/transformers/modeling_utils.py:2465\u001b[0m, in \u001b[0;36mapply_chunking_to_forward\u001b[0;34m(forward_fn, chunk_size, chunk_dim, *input_tensors)\u001b[0m\n\u001b[1;32m   2462\u001b[0m     \u001b[38;5;66;03m# concatenate output at same dimension\u001b[39;00m\n\u001b[1;32m   2463\u001b[0m     \u001b[38;5;28;01mreturn\u001b[39;00m torch\u001b[38;5;241m.\u001b[39mcat(output_chunks, dim\u001b[38;5;241m=\u001b[39mchunk_dim)\n\u001b[0;32m-> 2465\u001b[0m \u001b[38;5;28;01mreturn\u001b[39;00m \u001b[43mforward_fn\u001b[49m\u001b[43m(\u001b[49m\u001b[38;5;241;43m*\u001b[39;49m\u001b[43minput_tensors\u001b[49m\u001b[43m)\u001b[49m\n",
      "File \u001b[0;32m/workspace/Diffusion-LM/transformers/src/transformers/models/bert/modeling_bert.py:527\u001b[0m, in \u001b[0;36mBertLayer.feed_forward_chunk\u001b[0;34m(self, attention_output)\u001b[0m\n\u001b[1;32m    525\u001b[0m \u001b[38;5;28;01mdef\u001b[39;00m \u001b[38;5;21mfeed_forward_chunk\u001b[39m(\u001b[38;5;28mself\u001b[39m, attention_output):\n\u001b[1;32m    526\u001b[0m     intermediate_output \u001b[38;5;241m=\u001b[39m \u001b[38;5;28mself\u001b[39m\u001b[38;5;241m.\u001b[39mintermediate(attention_output)\n\u001b[0;32m--> 527\u001b[0m     layer_output \u001b[38;5;241m=\u001b[39m \u001b[38;5;28;43mself\u001b[39;49m\u001b[38;5;241;43m.\u001b[39;49m\u001b[43moutput\u001b[49m\u001b[43m(\u001b[49m\u001b[43mintermediate_output\u001b[49m\u001b[43m,\u001b[49m\u001b[43m \u001b[49m\u001b[43mattention_output\u001b[49m\u001b[43m)\u001b[49m\n\u001b[1;32m    528\u001b[0m     \u001b[38;5;28;01mreturn\u001b[39;00m layer_output\n",
      "File \u001b[0;32m/opt/conda/lib/python3.9/site-packages/torch/nn/modules/module.py:1051\u001b[0m, in \u001b[0;36mModule._call_impl\u001b[0;34m(self, *input, **kwargs)\u001b[0m\n\u001b[1;32m   1047\u001b[0m \u001b[38;5;66;03m# If we don't have any hooks, we want to skip the rest of the logic in\u001b[39;00m\n\u001b[1;32m   1048\u001b[0m \u001b[38;5;66;03m# this function, and just call forward.\u001b[39;00m\n\u001b[1;32m   1049\u001b[0m \u001b[38;5;28;01mif\u001b[39;00m \u001b[38;5;129;01mnot\u001b[39;00m (\u001b[38;5;28mself\u001b[39m\u001b[38;5;241m.\u001b[39m_backward_hooks \u001b[38;5;129;01mor\u001b[39;00m \u001b[38;5;28mself\u001b[39m\u001b[38;5;241m.\u001b[39m_forward_hooks \u001b[38;5;129;01mor\u001b[39;00m \u001b[38;5;28mself\u001b[39m\u001b[38;5;241m.\u001b[39m_forward_pre_hooks \u001b[38;5;129;01mor\u001b[39;00m _global_backward_hooks\n\u001b[1;32m   1050\u001b[0m         \u001b[38;5;129;01mor\u001b[39;00m _global_forward_hooks \u001b[38;5;129;01mor\u001b[39;00m _global_forward_pre_hooks):\n\u001b[0;32m-> 1051\u001b[0m     \u001b[38;5;28;01mreturn\u001b[39;00m \u001b[43mforward_call\u001b[49m\u001b[43m(\u001b[49m\u001b[38;5;241;43m*\u001b[39;49m\u001b[38;5;28;43minput\u001b[39;49m\u001b[43m,\u001b[49m\u001b[43m \u001b[49m\u001b[38;5;241;43m*\u001b[39;49m\u001b[38;5;241;43m*\u001b[39;49m\u001b[43mkwargs\u001b[49m\u001b[43m)\u001b[49m\n\u001b[1;32m   1052\u001b[0m \u001b[38;5;66;03m# Do not call functions when jit is used\u001b[39;00m\n\u001b[1;32m   1053\u001b[0m full_backward_hooks, non_full_backward_hooks \u001b[38;5;241m=\u001b[39m [], []\n",
      "File \u001b[0;32m/workspace/Diffusion-LM/transformers/src/transformers/models/bert/modeling_bert.py:440\u001b[0m, in \u001b[0;36mBertOutput.forward\u001b[0;34m(self, hidden_states, input_tensor)\u001b[0m\n\u001b[1;32m    439\u001b[0m \u001b[38;5;28;01mdef\u001b[39;00m \u001b[38;5;21mforward\u001b[39m(\u001b[38;5;28mself\u001b[39m, hidden_states, input_tensor):\n\u001b[0;32m--> 440\u001b[0m     hidden_states \u001b[38;5;241m=\u001b[39m \u001b[38;5;28;43mself\u001b[39;49m\u001b[38;5;241;43m.\u001b[39;49m\u001b[43mdense\u001b[49m\u001b[43m(\u001b[49m\u001b[43mhidden_states\u001b[49m\u001b[43m)\u001b[49m\n\u001b[1;32m    441\u001b[0m     hidden_states \u001b[38;5;241m=\u001b[39m \u001b[38;5;28mself\u001b[39m\u001b[38;5;241m.\u001b[39mdropout(hidden_states)\n\u001b[1;32m    442\u001b[0m     hidden_states \u001b[38;5;241m=\u001b[39m \u001b[38;5;28mself\u001b[39m\u001b[38;5;241m.\u001b[39mLayerNorm(hidden_states \u001b[38;5;241m+\u001b[39m input_tensor)\n",
      "File \u001b[0;32m/opt/conda/lib/python3.9/site-packages/torch/nn/modules/module.py:1051\u001b[0m, in \u001b[0;36mModule._call_impl\u001b[0;34m(self, *input, **kwargs)\u001b[0m\n\u001b[1;32m   1047\u001b[0m \u001b[38;5;66;03m# If we don't have any hooks, we want to skip the rest of the logic in\u001b[39;00m\n\u001b[1;32m   1048\u001b[0m \u001b[38;5;66;03m# this function, and just call forward.\u001b[39;00m\n\u001b[1;32m   1049\u001b[0m \u001b[38;5;28;01mif\u001b[39;00m \u001b[38;5;129;01mnot\u001b[39;00m (\u001b[38;5;28mself\u001b[39m\u001b[38;5;241m.\u001b[39m_backward_hooks \u001b[38;5;129;01mor\u001b[39;00m \u001b[38;5;28mself\u001b[39m\u001b[38;5;241m.\u001b[39m_forward_hooks \u001b[38;5;129;01mor\u001b[39;00m \u001b[38;5;28mself\u001b[39m\u001b[38;5;241m.\u001b[39m_forward_pre_hooks \u001b[38;5;129;01mor\u001b[39;00m _global_backward_hooks\n\u001b[1;32m   1050\u001b[0m         \u001b[38;5;129;01mor\u001b[39;00m _global_forward_hooks \u001b[38;5;129;01mor\u001b[39;00m _global_forward_pre_hooks):\n\u001b[0;32m-> 1051\u001b[0m     \u001b[38;5;28;01mreturn\u001b[39;00m \u001b[43mforward_call\u001b[49m\u001b[43m(\u001b[49m\u001b[38;5;241;43m*\u001b[39;49m\u001b[38;5;28;43minput\u001b[39;49m\u001b[43m,\u001b[49m\u001b[43m \u001b[49m\u001b[38;5;241;43m*\u001b[39;49m\u001b[38;5;241;43m*\u001b[39;49m\u001b[43mkwargs\u001b[49m\u001b[43m)\u001b[49m\n\u001b[1;32m   1052\u001b[0m \u001b[38;5;66;03m# Do not call functions when jit is used\u001b[39;00m\n\u001b[1;32m   1053\u001b[0m full_backward_hooks, non_full_backward_hooks \u001b[38;5;241m=\u001b[39m [], []\n",
      "File \u001b[0;32m/opt/conda/lib/python3.9/site-packages/torch/nn/modules/linear.py:96\u001b[0m, in \u001b[0;36mLinear.forward\u001b[0;34m(self, input)\u001b[0m\n\u001b[1;32m     95\u001b[0m \u001b[38;5;28;01mdef\u001b[39;00m \u001b[38;5;21mforward\u001b[39m(\u001b[38;5;28mself\u001b[39m, \u001b[38;5;28minput\u001b[39m: Tensor) \u001b[38;5;241m-\u001b[39m\u001b[38;5;241m>\u001b[39m Tensor:\n\u001b[0;32m---> 96\u001b[0m     \u001b[38;5;28;01mreturn\u001b[39;00m \u001b[43mF\u001b[49m\u001b[38;5;241;43m.\u001b[39;49m\u001b[43mlinear\u001b[49m\u001b[43m(\u001b[49m\u001b[38;5;28;43minput\u001b[39;49m\u001b[43m,\u001b[49m\u001b[43m \u001b[49m\u001b[38;5;28;43mself\u001b[39;49m\u001b[38;5;241;43m.\u001b[39;49m\u001b[43mweight\u001b[49m\u001b[43m,\u001b[49m\u001b[43m \u001b[49m\u001b[38;5;28;43mself\u001b[39;49m\u001b[38;5;241;43m.\u001b[39;49m\u001b[43mbias\u001b[49m\u001b[43m)\u001b[49m\n",
      "File \u001b[0;32m/opt/conda/lib/python3.9/site-packages/torch/nn/functional.py:1847\u001b[0m, in \u001b[0;36mlinear\u001b[0;34m(input, weight, bias)\u001b[0m\n\u001b[1;32m   1845\u001b[0m \u001b[38;5;28;01mif\u001b[39;00m has_torch_function_variadic(\u001b[38;5;28minput\u001b[39m, weight):\n\u001b[1;32m   1846\u001b[0m     \u001b[38;5;28;01mreturn\u001b[39;00m handle_torch_function(linear, (\u001b[38;5;28minput\u001b[39m, weight), \u001b[38;5;28minput\u001b[39m, weight, bias\u001b[38;5;241m=\u001b[39mbias)\n\u001b[0;32m-> 1847\u001b[0m \u001b[38;5;28;01mreturn\u001b[39;00m \u001b[43mtorch\u001b[49m\u001b[38;5;241;43m.\u001b[39;49m\u001b[43m_C\u001b[49m\u001b[38;5;241;43m.\u001b[39;49m\u001b[43m_nn\u001b[49m\u001b[38;5;241;43m.\u001b[39;49m\u001b[43mlinear\u001b[49m\u001b[43m(\u001b[49m\u001b[38;5;28;43minput\u001b[39;49m\u001b[43m,\u001b[49m\u001b[43m \u001b[49m\u001b[43mweight\u001b[49m\u001b[43m,\u001b[49m\u001b[43m \u001b[49m\u001b[43mbias\u001b[49m\u001b[43m)\u001b[49m\n",
      "\u001b[0;31mKeyboardInterrupt\u001b[0m: "
     ]
    }
   ],
   "source": [
    "method = method_manager(args, data, model, logger_name = args.logger_name)"
   ]
  },
  {
   "cell_type": "code",
   "execution_count": null,
   "id": "7bfc78fe",
   "metadata": {},
   "outputs": [],
   "source": [
    "args.pretrain"
   ]
  },
  {
   "cell_type": "code",
   "execution_count": null,
   "id": "8c31d6cf",
   "metadata": {},
   "outputs": [],
   "source": [
    "os.path.exists(args.model_output_dir)"
   ]
  },
  {
   "cell_type": "code",
   "execution_count": null,
   "id": "8f5200f5",
   "metadata": {},
   "outputs": [],
   "source": []
  }
 ],
 "metadata": {
  "kernelspec": {
   "display_name": "Python 3 (ipykernel)",
   "language": "python",
   "name": "python3"
  },
  "language_info": {
   "codemirror_mode": {
    "name": "ipython",
    "version": 3
   },
   "file_extension": ".py",
   "mimetype": "text/x-python",
   "name": "python",
   "nbconvert_exporter": "python",
   "pygments_lexer": "ipython3",
   "version": "3.9.12"
  }
 },
 "nbformat": 4,
 "nbformat_minor": 5
}

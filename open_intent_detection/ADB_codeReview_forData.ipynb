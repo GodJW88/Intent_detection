{
 "cells": [
  {
   "cell_type": "markdown",
   "id": "48e2e390",
   "metadata": {},
   "source": [
    "# 첫 shell 실행 후 args만 pickle을 이용해 저장\n",
    "## 실행 명령어 : sh examples/run_ADB.sh\n",
    "```shell\n",
    "#!/usr/bin bash\n",
    "\n",
    "for dataset in 'banking' 'oos' 'stackoverflow'\n",
    "do\n",
    "    for known_cls_ratio in 0.25 0.5 0.75\n",
    "    do\n",
    "        for labeled_ratio in 1.0\n",
    "        do\n",
    "            for seed in 0 1 2 3 4 5 6 7 8 9\n",
    "            do \n",
    "                python run.py \\\n",
    "                --dataset $dataset \\\n",
    "                --method 'ADB' \\\n",
    "                --known_cls_ratio $known_cls_ratio \\\n",
    "                --labeled_ratio $labeled_ratio \\\n",
    "                --seed $seed \\\n",
    "                --backbone 'bert' \\\n",
    "                --config_file_name 'ADB' \\\n",
    "                --loss_fct 'CrossEntropyLoss' \\\n",
    "                --gpu_id '3' \\\n",
    "                --pretrain \\\n",
    "                --train \\\n",
    "                --results_file_name 'results_ADB.csv' \\\n",
    "                --save_results \\\n",
    "                --save_model\n",
    "            done\n",
    "        done\n",
    "    done\n",
    "done\n",
    "\n",
    "```\n",
    "### open_intent_detection/run.py\n",
    "```python\n",
    "if __name__ == '__main__':\n",
    "    print(\"main\")\n",
    "    sys.path.append('.')\n",
    "    args = parse_arguments()\n",
    "    logger = set_logger(args)\n",
    "\n",
    "    logger.info('Open Intent Detection Begin...')\n",
    "    logger.info('Parameters Initialization...')\n",
    "    param = ParamManager(args)\n",
    "    args = param.args\n",
    "    \n",
    "    import pickle\n",
    "    with open('ADB_args.pickle', 'wb') as f:\n",
    "        pickle.dump(args, f, pickle.HIGHEST_PROTOCOL)\n",
    "    print(args)\n",
    "```\n",
    "\n",
    "129~132 : pickle을 이용해 저장"
   ]
  },
  {
   "cell_type": "code",
   "execution_count": 1,
   "id": "89ec867d",
   "metadata": {},
   "outputs": [
    {
     "name": "stdout",
     "output_type": "stream",
     "text": [
      "LibMR not installed or libmr.so not found\n",
      "Install libmr: cd libMR/; ./compile.sh\n",
      "main\n",
      "Detection - Open Intent Detection Begin...\n",
      "Detection - Parameters Initialization...\n",
      "{'type': 'open_intent_detection', 'logger_name': 'Detection', 'log_dir': 'logs', 'dataset': 'banking', 'known_cls_ratio': 0.25, 'labeled_ratio': 1.0, 'method': 'ADB', 'train': True, 'pretrain': True, 'save_model': True, 'backbone': 'bert', 'config_file_name': 'ADB', 'seed': 0, 'gpu_id': '3', 'pipe_results_path': 'pipe_results', 'data_dir': '/workspace/ADB/TEXTOIR/open_intent_detection/../data', 'output_dir': '/home/sharing/disk1/zhaoshaojie/baseline_test/plot/TEXTOIR', 'model_dir': 'models', 'load_pretrained_method': None, 'result_dir': 'results', 'results_file_name': 'results_ADB.csv', 'save_results': True, 'loss_fct': 'CrossEntropyLoss', 'dataset_neg': 'SQUAD', 'method_output_dir': '/home/sharing/disk1/zhaoshaojie/baseline_test/plot/TEXTOIR/open_intent_detection/ADB_banking_0.25_1.0_bert_0', 'model_output_dir': '/home/sharing/disk1/zhaoshaojie/baseline_test/plot/TEXTOIR/open_intent_detection/ADB_banking_0.25_1.0_bert_0/models', 'bert_model': '/home/sharing/disk1/pretrained_embedding/bert/uncased_L-12_H-768_A-12/', 'num_train_epochs': 100, 'num_labels': None, 'max_seq_length': None, 'freeze_backbone_parameters': True, 'feat_dim': 768, 'warmup_proportion': 0.1, 'lr_boundary': 0.05, 'lr': 2e-05, 'activation': 'relu', 'train_batch_size': 128, 'eval_batch_size': 64, 'test_batch_size': 64, 'wait_patient': 10}\n",
      "LibMR not installed or libmr.so not found\n",
      "Install libmr: cd libMR/; ./compile.sh\n",
      "main\n",
      "Detection - Open Intent Detection Begin...\n",
      "Detection - Parameters Initialization...\n",
      "{'type': 'open_intent_detection', 'logger_name': 'Detection', 'log_dir': 'logs', 'dataset': 'banking', 'known_cls_ratio': 0.25, 'labeled_ratio': 1.0, 'method': 'ADB', 'train': True, 'pretrain': True, 'save_model': True, 'backbone': 'bert', 'config_file_name': 'ADB', 'seed': 1, 'gpu_id': '3', 'pipe_results_path': 'pipe_results', 'data_dir': '/workspace/ADB/TEXTOIR/open_intent_detection/../data', 'output_dir': '/home/sharing/disk1/zhaoshaojie/baseline_test/plot/TEXTOIR', 'model_dir': 'models', 'load_pretrained_method': None, 'result_dir': 'results', 'results_file_name': 'results_ADB.csv', 'save_results': True, 'loss_fct': 'CrossEntropyLoss', 'dataset_neg': 'SQUAD', 'method_output_dir': '/home/sharing/disk1/zhaoshaojie/baseline_test/plot/TEXTOIR/open_intent_detection/ADB_banking_0.25_1.0_bert_1', 'model_output_dir': '/home/sharing/disk1/zhaoshaojie/baseline_test/plot/TEXTOIR/open_intent_detection/ADB_banking_0.25_1.0_bert_1/models', 'bert_model': '/home/sharing/disk1/pretrained_embedding/bert/uncased_L-12_H-768_A-12/', 'num_train_epochs': 100, 'num_labels': None, 'max_seq_length': None, 'freeze_backbone_parameters': True, 'feat_dim': 768, 'warmup_proportion': 0.1, 'lr_boundary': 0.05, 'lr': 2e-05, 'activation': 'relu', 'train_batch_size': 128, 'eval_batch_size': 64, 'test_batch_size': 64, 'wait_patient': 10}\n",
      "LibMR not installed or libmr.so not found\n",
      "Install libmr: cd libMR/; ./compile.sh\n",
      "main\n",
      "Detection - Open Intent Detection Begin...\n",
      "Detection - Parameters Initialization...\n",
      "{'type': 'open_intent_detection', 'logger_name': 'Detection', 'log_dir': 'logs', 'dataset': 'banking', 'known_cls_ratio': 0.25, 'labeled_ratio': 1.0, 'method': 'ADB', 'train': True, 'pretrain': True, 'save_model': True, 'backbone': 'bert', 'config_file_name': 'ADB', 'seed': 2, 'gpu_id': '3', 'pipe_results_path': 'pipe_results', 'data_dir': '/workspace/ADB/TEXTOIR/open_intent_detection/../data', 'output_dir': '/home/sharing/disk1/zhaoshaojie/baseline_test/plot/TEXTOIR', 'model_dir': 'models', 'load_pretrained_method': None, 'result_dir': 'results', 'results_file_name': 'results_ADB.csv', 'save_results': True, 'loss_fct': 'CrossEntropyLoss', 'dataset_neg': 'SQUAD', 'method_output_dir': '/home/sharing/disk1/zhaoshaojie/baseline_test/plot/TEXTOIR/open_intent_detection/ADB_banking_0.25_1.0_bert_2', 'model_output_dir': '/home/sharing/disk1/zhaoshaojie/baseline_test/plot/TEXTOIR/open_intent_detection/ADB_banking_0.25_1.0_bert_2/models', 'bert_model': '/home/sharing/disk1/pretrained_embedding/bert/uncased_L-12_H-768_A-12/', 'num_train_epochs': 100, 'num_labels': None, 'max_seq_length': None, 'freeze_backbone_parameters': True, 'feat_dim': 768, 'warmup_proportion': 0.1, 'lr_boundary': 0.05, 'lr': 2e-05, 'activation': 'relu', 'train_batch_size': 128, 'eval_batch_size': 64, 'test_batch_size': 64, 'wait_patient': 10}\n",
      "LibMR not installed or libmr.so not found\n",
      "Install libmr: cd libMR/; ./compile.sh\n",
      "main\n",
      "Detection - Open Intent Detection Begin...\n",
      "Detection - Parameters Initialization...\n",
      "{'type': 'open_intent_detection', 'logger_name': 'Detection', 'log_dir': 'logs', 'dataset': 'banking', 'known_cls_ratio': 0.25, 'labeled_ratio': 1.0, 'method': 'ADB', 'train': True, 'pretrain': True, 'save_model': True, 'backbone': 'bert', 'config_file_name': 'ADB', 'seed': 3, 'gpu_id': '3', 'pipe_results_path': 'pipe_results', 'data_dir': '/workspace/ADB/TEXTOIR/open_intent_detection/../data', 'output_dir': '/home/sharing/disk1/zhaoshaojie/baseline_test/plot/TEXTOIR', 'model_dir': 'models', 'load_pretrained_method': None, 'result_dir': 'results', 'results_file_name': 'results_ADB.csv', 'save_results': True, 'loss_fct': 'CrossEntropyLoss', 'dataset_neg': 'SQUAD', 'method_output_dir': '/home/sharing/disk1/zhaoshaojie/baseline_test/plot/TEXTOIR/open_intent_detection/ADB_banking_0.25_1.0_bert_3', 'model_output_dir': '/home/sharing/disk1/zhaoshaojie/baseline_test/plot/TEXTOIR/open_intent_detection/ADB_banking_0.25_1.0_bert_3/models', 'bert_model': '/home/sharing/disk1/pretrained_embedding/bert/uncased_L-12_H-768_A-12/', 'num_train_epochs': 100, 'num_labels': None, 'max_seq_length': None, 'freeze_backbone_parameters': True, 'feat_dim': 768, 'warmup_proportion': 0.1, 'lr_boundary': 0.05, 'lr': 2e-05, 'activation': 'relu', 'train_batch_size': 128, 'eval_batch_size': 64, 'test_batch_size': 64, 'wait_patient': 10}\n",
      "LibMR not installed or libmr.so not found\n",
      "Install libmr: cd libMR/; ./compile.sh\n",
      "main\n",
      "Detection - Open Intent Detection Begin...\n",
      "Detection - Parameters Initialization...\n",
      "{'type': 'open_intent_detection', 'logger_name': 'Detection', 'log_dir': 'logs', 'dataset': 'banking', 'known_cls_ratio': 0.25, 'labeled_ratio': 1.0, 'method': 'ADB', 'train': True, 'pretrain': True, 'save_model': True, 'backbone': 'bert', 'config_file_name': 'ADB', 'seed': 4, 'gpu_id': '3', 'pipe_results_path': 'pipe_results', 'data_dir': '/workspace/ADB/TEXTOIR/open_intent_detection/../data', 'output_dir': '/home/sharing/disk1/zhaoshaojie/baseline_test/plot/TEXTOIR', 'model_dir': 'models', 'load_pretrained_method': None, 'result_dir': 'results', 'results_file_name': 'results_ADB.csv', 'save_results': True, 'loss_fct': 'CrossEntropyLoss', 'dataset_neg': 'SQUAD', 'method_output_dir': '/home/sharing/disk1/zhaoshaojie/baseline_test/plot/TEXTOIR/open_intent_detection/ADB_banking_0.25_1.0_bert_4', 'model_output_dir': '/home/sharing/disk1/zhaoshaojie/baseline_test/plot/TEXTOIR/open_intent_detection/ADB_banking_0.25_1.0_bert_4/models', 'bert_model': '/home/sharing/disk1/pretrained_embedding/bert/uncased_L-12_H-768_A-12/', 'num_train_epochs': 100, 'num_labels': None, 'max_seq_length': None, 'freeze_backbone_parameters': True, 'feat_dim': 768, 'warmup_proportion': 0.1, 'lr_boundary': 0.05, 'lr': 2e-05, 'activation': 'relu', 'train_batch_size': 128, 'eval_batch_size': 64, 'test_batch_size': 64, 'wait_patient': 10}\n",
      "LibMR not installed or libmr.so not found\n",
      "Install libmr: cd libMR/; ./compile.sh\n",
      "main\n",
      "Detection - Open Intent Detection Begin...\n",
      "Detection - Parameters Initialization...\n",
      "{'type': 'open_intent_detection', 'logger_name': 'Detection', 'log_dir': 'logs', 'dataset': 'banking', 'known_cls_ratio': 0.25, 'labeled_ratio': 1.0, 'method': 'ADB', 'train': True, 'pretrain': True, 'save_model': True, 'backbone': 'bert', 'config_file_name': 'ADB', 'seed': 5, 'gpu_id': '3', 'pipe_results_path': 'pipe_results', 'data_dir': '/workspace/ADB/TEXTOIR/open_intent_detection/../data', 'output_dir': '/home/sharing/disk1/zhaoshaojie/baseline_test/plot/TEXTOIR', 'model_dir': 'models', 'load_pretrained_method': None, 'result_dir': 'results', 'results_file_name': 'results_ADB.csv', 'save_results': True, 'loss_fct': 'CrossEntropyLoss', 'dataset_neg': 'SQUAD', 'method_output_dir': '/home/sharing/disk1/zhaoshaojie/baseline_test/plot/TEXTOIR/open_intent_detection/ADB_banking_0.25_1.0_bert_5', 'model_output_dir': '/home/sharing/disk1/zhaoshaojie/baseline_test/plot/TEXTOIR/open_intent_detection/ADB_banking_0.25_1.0_bert_5/models', 'bert_model': '/home/sharing/disk1/pretrained_embedding/bert/uncased_L-12_H-768_A-12/', 'num_train_epochs': 100, 'num_labels': None, 'max_seq_length': None, 'freeze_backbone_parameters': True, 'feat_dim': 768, 'warmup_proportion': 0.1, 'lr_boundary': 0.05, 'lr': 2e-05, 'activation': 'relu', 'train_batch_size': 128, 'eval_batch_size': 64, 'test_batch_size': 64, 'wait_patient': 10}\n"
     ]
    },
    {
     "name": "stdout",
     "output_type": "stream",
     "text": [
      "^C\r\n",
      "Traceback (most recent call last):\r\n",
      "  File \"run.py\", line 4, in <module>\r\n",
      "    from methods import method_map\r\n",
      "  File \"/workspace/ADB/TEXTOIR/open_intent_detection/methods/__init__.py\", line 1, in <module>\r\n",
      "    from .ADB.manager import ADBManager\r\n",
      "  File \"/workspace/ADB/TEXTOIR/open_intent_detection/methods/ADB/manager.py\", line 6, in <module>\r\n",
      "    from sklearn.metrics import confusion_matrix, f1_score, accuracy_score\r\n",
      "  File \"/opt/conda/lib/python3.7/site-packages/sklearn/__init__.py\", line 82, in <module>\r\n",
      "    from .base import clone\r\n",
      "  File \"/opt/conda/lib/python3.7/site-packages/sklearn/base.py\", line 17, in <module>\r\n",
      "    from .utils import _IS_32BIT\r\n",
      "  File \"/opt/conda/lib/python3.7/site-packages/sklearn/utils/__init__.py\", line 23, in <module>\r\n",
      "    from .class_weight import compute_class_weight, compute_sample_weight\r\n",
      "  File \"/opt/conda/lib/python3.7/site-packages/sklearn/utils/class_weight.py\", line 7, in <module>\r\n",
      "    from .validation import _deprecate_positional_args\r\n",
      "  File \"/opt/conda/lib/python3.7/site-packages/sklearn/utils/validation.py\", line 22, in <module>\r\n",
      "    import joblib\r\n",
      "  File \"/opt/conda/lib/python3.7/site-packages/joblib/__init__.py\", line 120, in <module>\r\n",
      "    from .parallel import Parallel\r\n",
      "  File \"/opt/conda/lib/python3.7/site-packages/joblib/parallel.py\", line 12, in <module>\r\n",
      "    from math import sqrt\r\n",
      "  File \"<frozen importlib._bootstrap>\", line 1019, in _handle_fromlist\r\n",
      "KeyboardInterrupt\r\n"
     ]
    }
   ],
   "source": [
    "!bash examples/run_ADB.sh"
   ]
  },
  {
   "cell_type": "code",
   "execution_count": 1,
   "id": "087108df",
   "metadata": {
    "scrolled": false
   },
   "outputs": [],
   "source": [
    "import pickle\n",
    "\n",
    "with open('ADB_args.pickle', 'rb') as f:\n",
    "    args = pickle.load(f)"
   ]
  },
  {
   "cell_type": "code",
   "execution_count": 2,
   "id": "a5b0f583",
   "metadata": {
    "scrolled": true
   },
   "outputs": [
    {
     "data": {
      "text/plain": [
       "{'type': 'open_intent_detection',\n",
       " 'logger_name': 'Detection',\n",
       " 'log_dir': 'logs',\n",
       " 'dataset': 'banking',\n",
       " 'known_cls_ratio': 0.25,\n",
       " 'labeled_ratio': 1.0,\n",
       " 'method': 'ADB',\n",
       " 'train': True,\n",
       " 'pretrain': True,\n",
       " 'save_model': True,\n",
       " 'backbone': 'bert',\n",
       " 'config_file_name': 'ADB',\n",
       " 'seed': 5,\n",
       " 'gpu_id': '3',\n",
       " 'pipe_results_path': 'pipe_results',\n",
       " 'data_dir': '/workspace/ADB/TEXTOIR/open_intent_detection/../data',\n",
       " 'output_dir': '/home/sharing/disk1/zhaoshaojie/baseline_test/plot/TEXTOIR',\n",
       " 'model_dir': 'models',\n",
       " 'load_pretrained_method': None,\n",
       " 'result_dir': 'results',\n",
       " 'results_file_name': 'results_ADB.csv',\n",
       " 'save_results': True,\n",
       " 'loss_fct': 'CrossEntropyLoss',\n",
       " 'dataset_neg': 'SQUAD',\n",
       " 'method_output_dir': '/home/sharing/disk1/zhaoshaojie/baseline_test/plot/TEXTOIR/open_intent_detection/ADB_banking_0.25_1.0_bert_5',\n",
       " 'model_output_dir': '/home/sharing/disk1/zhaoshaojie/baseline_test/plot/TEXTOIR/open_intent_detection/ADB_banking_0.25_1.0_bert_5/models',\n",
       " 'bert_model': '/home/sharing/disk1/pretrained_embedding/bert/uncased_L-12_H-768_A-12/',\n",
       " 'num_train_epochs': 100,\n",
       " 'num_labels': None,\n",
       " 'max_seq_length': None,\n",
       " 'freeze_backbone_parameters': True,\n",
       " 'feat_dim': 768,\n",
       " 'warmup_proportion': 0.1,\n",
       " 'lr_boundary': 0.05,\n",
       " 'lr': 2e-05,\n",
       " 'activation': 'relu',\n",
       " 'train_batch_size': 128,\n",
       " 'eval_batch_size': 64,\n",
       " 'test_batch_size': 64,\n",
       " 'wait_patient': 10}"
      ]
     },
     "execution_count": 2,
     "metadata": {},
     "output_type": "execute_result"
    }
   ],
   "source": [
    "args"
   ]
  },
  {
   "cell_type": "code",
   "execution_count": 3,
   "id": "274700da",
   "metadata": {},
   "outputs": [
    {
     "data": {
      "text/plain": [
       "5"
      ]
     },
     "execution_count": 3,
     "metadata": {},
     "output_type": "execute_result"
    }
   ],
   "source": [
    "args.seed"
   ]
  },
  {
   "cell_type": "code",
   "execution_count": 4,
   "id": "4ab0931c",
   "metadata": {},
   "outputs": [
    {
     "name": "stderr",
     "output_type": "stream",
     "text": [
      "Some weights of the model checkpoint at bert-base-uncased were not used when initializing BERT: ['cls.predictions.transform.LayerNorm.bias', 'cls.predictions.transform.dense.weight', 'cls.seq_relationship.bias', 'cls.predictions.transform.dense.bias', 'cls.predictions.bias', 'cls.predictions.transform.LayerNorm.weight', 'cls.seq_relationship.weight', 'cls.predictions.decoder.weight']\n",
      "- This IS expected if you are initializing BERT from the checkpoint of a model trained on another task or with another architecture (e.g. initializing a BertForSequenceClassification model from a BertForPreTraining model).\n",
      "- This IS NOT expected if you are initializing BERT from the checkpoint of a model that you expect to be exactly identical (initializing a BertForSequenceClassification model from a BertForSequenceClassification model).\n",
      "Some weights of BERT were not initialized from the model checkpoint at bert-base-uncased and are newly initialized: ['classifier.weight', 'dense.bias', 'dense.weight', 'classifier.bias']\n",
      "You should probably TRAIN this model on a down-stream task to be able to use it for predictions and inference.\n",
      "/opt/conda/lib/python3.7/site-packages/torch/cuda/__init__.py:104: UserWarning: \n",
      "NVIDIA GeForce RTX 3090 with CUDA capability sm_86 is not compatible with the current PyTorch installation.\n",
      "The current PyTorch install supports CUDA capabilities sm_37 sm_50 sm_60 sm_70 sm_75.\n",
      "If you want to use the NVIDIA GeForce RTX 3090 GPU with PyTorch, please check the instructions at https://pytorch.org/get-started/locally/\n",
      "\n",
      "  warnings.warn(incompatible_device_warn.format(device_name, capability, \" \".join(arch_list), device_name))\n",
      "/opt/conda/lib/python3.7/site-packages/transformers/optimization.py:309: FutureWarning: This implementation of AdamW is deprecated and will be removed in a future version. Use thePyTorch implementation torch.optim.AdamW instead, or set `no_deprecation_warning=True` to disable this warning\n",
      "  FutureWarning,\n"
     ]
    }
   ],
   "source": [
    "from configs.base import ParamManager\n",
    "\n",
    "from dataloaders.base import DataManager\n",
    "\n",
    "from backbones.base import ModelManager\n",
    "\n",
    "from utils.functions import save_results\n",
    "import logging\n",
    "import argparse\n",
    "import sys\n",
    "import os\n",
    "import datetime\n",
    "\n",
    "data = DataManager(args, logger_name = args.logger_name)\n",
    "\n",
    "model = ModelManager(args, data, logger_name = args.logger_name)"
   ]
  },
  {
   "cell_type": "markdown",
   "id": "bd5b8ac0",
   "metadata": {},
   "source": [
    "시드값이 같아도 노트북에서는 랜덤이 적용되지 않아 class로 바로 했을 때 비교 해봄.. 클레스로 작동하면 랜덤시드가 잘 고정됨"
   ]
  },
  {
   "cell_type": "code",
   "execution_count": 5,
   "id": "dacc0f7d",
   "metadata": {},
   "outputs": [
    {
     "name": "stdout",
     "output_type": "stream",
     "text": [
      "['getting_spare_card', 'country_support', 'card_about_to_expire', 'top_up_failed', 'virtual_card_not_working', 'passcode_forgotten', 'direct_debit_payment_not_recognised', 'contactless_not_working', 'card_payment_not_recognised', 'pending_top_up', 'card_arrival', 'fiat_currency_support', 'why_verify_identity', 'exchange_rate', 'card_delivery_estimate', 'transfer_into_account', 'pending_transfer', 'wrong_exchange_rate_for_cash_withdrawal', 'unable_to_verify_identity']\n"
     ]
    }
   ],
   "source": [
    "print(data.known_label_list)"
   ]
  },
  {
   "cell_type": "code",
   "execution_count": 6,
   "id": "5bf33acb",
   "metadata": {},
   "outputs": [
    {
     "name": "stdout",
     "output_type": "stream",
     "text": [
      "['getting_spare_card', 'country_support', 'card_about_to_expire', 'top_up_failed', 'virtual_card_not_working', 'passcode_forgotten', 'direct_debit_payment_not_recognised', 'contactless_not_working', 'card_payment_not_recognised', 'pending_top_up', 'card_arrival', 'fiat_currency_support', 'why_verify_identity', 'exchange_rate', 'card_delivery_estimate', 'transfer_into_account', 'pending_transfer', 'wrong_exchange_rate_for_cash_withdrawal', 'unable_to_verify_identity']\n"
     ]
    }
   ],
   "source": [
    "print(data.known_label_list)"
   ]
  },
  {
   "cell_type": "markdown",
   "id": "bb91e9aa",
   "metadata": {},
   "source": [
    "# DataManager 클래스에서 바로 변수들을 호출하는 방법"
   ]
  },
  {
   "cell_type": "code",
   "execution_count": 9,
   "id": "b59ccf93",
   "metadata": {},
   "outputs": [
    {
     "name": "stdout",
     "output_type": "stream",
     "text": [
      "i have a pending top-up\n",
      "4\n",
      "tensor([[  101,  1996,  7484,  ...,     0,     0,     0],\n",
      "        [  101,  2044,  2559,  ...,     0,     0,     0],\n",
      "        [  101,  2029,  3032,  ...,     0,     0,     0],\n",
      "        ...,\n",
      "        [  101,  2079,  2017,  ...,     0,     0,     0],\n",
      "        [  101,  2064,  2017,  ...,     0,     0,     0],\n",
      "        [  101,  2026, 20786,  ...,     0,     0,     0]])\n",
      "tensor([[1, 1, 1,  ..., 0, 0, 0],\n",
      "        [1, 1, 1,  ..., 0, 0, 0],\n",
      "        [1, 1, 1,  ..., 0, 0, 0],\n",
      "        ...,\n",
      "        [1, 1, 1,  ..., 0, 0, 0],\n",
      "        [1, 1, 1,  ..., 0, 0, 0],\n",
      "        [1, 1, 1,  ..., 0, 0, 0]])\n",
      "tensor([[0, 0, 0,  ..., 0, 0, 0],\n",
      "        [0, 0, 0,  ..., 0, 0, 0],\n",
      "        [0, 0, 0,  ..., 0, 0, 0],\n",
      "        ...,\n",
      "        [0, 0, 0,  ..., 0, 0, 0],\n",
      "        [0, 0, 0,  ..., 0, 0, 0],\n",
      "        [0, 0, 0,  ..., 0, 0, 0]])\n",
      "tensor([ 4,  8,  1, 17, 17, 12, 14,  8,  8, 10, 14,  1, 14, 14,  2, 15, 14, 18,\n",
      "         0, 17, 12,  0, 17, 11,  2, 11, 17, 16, 17,  5, 11,  1, 12, 13, 18,  1,\n",
      "        16,  2,  3,  0, 13,  1,  6, 17,  0,  0,  2,  0,  6, 10,  8, 14,  1,  5,\n",
      "        14, 16,  9, 14, 16, 10, 15,  3, 14, 13, 16, 18,  0, 12, 17,  1,  9, 13,\n",
      "         9,  9, 17, 16,  1, 14,  3, 10, 13,  3, 10, 11, 11, 12, 14,  2,  8,  9,\n",
      "        13, 11, 16,  6, 17,  0, 15,  8,  5, 16, 16, 18,  9,  6,  1,  5, 11,  8,\n",
      "         3, 15,  7,  6, 13,  1, 16,  2,  8, 16, 17, 14,  1, 11,  9, 13, 16, 11,\n",
      "        18,  5])\n"
     ]
    }
   ],
   "source": [
    "print(data.dataloader.train_labeled_examples[0].text_a)\n",
    "D_1 = iter(data.dataloader.train_labeled_loader)\n",
    "D = next(D_1)\n",
    "print(len(D))\n",
    "print(D[0]) # ? \n",
    "print(D[1]) # ?\n",
    "print(D[2]) # ?\n",
    "print(D[3]) # ?"
   ]
  },
  {
   "cell_type": "markdown",
   "id": "8e0c977e",
   "metadata": {},
   "source": [
    "# Data 처리\n",
    "run.py 에서 보면 \n",
    "```python\n",
    "from dataloaders.base import DataManager\n",
    "``` \n",
    "를 확인할 수 있음.그래서 \n",
    "```Bash \n",
    "open_intent_detection/dataloaders/base.py\n",
    "``` \n",
    "에서 분석 시작"
   ]
  },
  {
   "cell_type": "code",
   "execution_count": 10,
   "id": "76ebd05b",
   "metadata": {},
   "outputs": [],
   "source": [
    "import numpy as np\n",
    "import os   \n",
    "import random\n",
    "import torch\n",
    "import logging\n",
    "\n",
    "\n",
    "def set_seed(seed):\n",
    "    random.seed(seed)\n",
    "    np.random.seed(seed)\n",
    "    torch.manual_seed(seed)\n",
    "    torch.cuda.manual_seed_all(seed)\n",
    "    torch.backends.cudnn.deterministic = True"
   ]
  },
  {
   "cell_type": "markdown",
   "id": "1527f8e8",
   "metadata": {},
   "source": [
    "base.py 에서 아래 코드를 import 하기 때문에 따로 필요한 부분만 여기서 실행을 진행\n",
    "```python\n",
    "from .__init__ import max_seq_lengths, backbone_loader_map, benchmark_labels\n",
    "```\n",
    "### dataloaders/__init__.py\n",
    "\n",
    "- dataloaders.bert 는 아직 분석이 안됨.. 다음으로 미룸"
   ]
  },
  {
   "cell_type": "code",
   "execution_count": 11,
   "id": "73a2536f",
   "metadata": {},
   "outputs": [],
   "source": [
    "from dataloaders.bert_loader import BERT_Loader\n",
    "from dataloaders.bert_loader_neg import BERT_Loader_NEG\n",
    "\n",
    "max_seq_lengths = {'stackoverflow':45, 'banking':55, 'oos':30, 'snips':35 }\n",
    "benchmark_labels = {'banking':  \n",
    "                [\n",
    "                    \"Refund_not_showing_up\", \"activate_my_card\", \"age_limit\", \"apple_pay_or_google_pay\", \"atm_support\", \n",
    "                    \"automatic_top_up\", \"balance_not_updated_after_bank_transfer\", \"balance_not_updated_after_cheque_or_cash_deposit\", \"beneficiary_not_allowed\", \"cancel_transfer\", \n",
    "                    \"card_about_to_expire\", \"card_acceptance\", \"card_arrival\", \"card_delivery_estimate\", \"card_linking\", \n",
    "                    \"card_not_working\", \"card_payment_fee_charged\", \"card_payment_not_recognised\", \"card_payment_wrong_exchange_rate\", \"card_swallowed\", \n",
    "                    \"cash_withdrawal_charge\", \"cash_withdrawal_not_recognised\", \"change_pin\", \"compromised_card\", \"contactless_not_working\", \n",
    "                    \"country_support\", \"declined_card_payment\", \"declined_cash_withdrawal\", \"declined_transfer\", \"direct_debit_payment_not_recognised\", \n",
    "                    \"disposable_card_limits\", \"edit_personal_details\", \"exchange_charge\", \"exchange_rate\", \"exchange_via_app\", \n",
    "                    \"extra_charge_on_statement\", \"failed_transfer\", \"fiat_currency_support\", \"get_disposable_virtual_card\", \"get_physical_card\", \n",
    "                    \"getting_spare_card\", \"getting_virtual_card\", \"lost_or_stolen_card\", \"lost_or_stolen_phone\", \"order_physical_card\", \n",
    "                    \"passcode_forgotten\", \"pending_card_payment\", \"pending_cash_withdrawal\", \"pending_top_up\", \"pending_transfer\", \n",
    "                    \"pin_blocked\", \"receiving_money\", \"request_refund\", \"reverted_card_payment?\", \"supported_cards_and_currencies\", \n",
    "                    \"terminate_account\", \"top_up_by_bank_transfer_charge\", \"top_up_by_card_charge\", \"top_up_by_cash_or_cheque\", \"top_up_failed\", \n",
    "                    \"top_up_limits\", \"top_up_reverted\", \"topping_up_by_card\", \"transaction_charged_twice\", \"transfer_fee_charged\", \n",
    "                    \"transfer_into_account\", \"transfer_not_received_by_recipient\", \"transfer_timing\", \"unable_to_verify_identity\", \"verify_my_identity\", \n",
    "                    \"verify_source_of_funds\", \"verify_top_up\", \"virtual_card_not_working\", \"visa_or_mastercard\", \"why_verify_identity\", \n",
    "                    \"wrong_amount_of_cash_received\", \"wrong_exchange_rate_for_cash_withdrawal\"\n",
    "                ]}\n",
    "\n",
    "backbone_loader_map = {\n",
    "                            'bert': BERT_Loader,\n",
    "                            'bert_doc': BERT_Loader,\n",
    "                            'bert_norm': BERT_Loader,\n",
    "                            'bert_mixup': BERT_Loader_NEG,\n",
    "                            'bert_seg': BERT_Loader,\n",
    "                            'bert_disaware': BERT_Loader\n",
    "                        }"
   ]
  },
  {
   "cell_type": "markdown",
   "id": "52505dab",
   "metadata": {},
   "source": [
    "## Class DataManager:\n",
    "```python \n",
    "class DataManager:\n",
    "def __init__(self, args, logger_name = 'Detection'):\n",
    "```"
   ]
  },
  {
   "cell_type": "markdown",
   "id": "e18a0d4e",
   "metadata": {},
   "source": [
    "### Datamanager 함수:\n",
    "참고 : self 삭제"
   ]
  },
  {
   "cell_type": "code",
   "execution_count": 12,
   "id": "994cf230",
   "metadata": {},
   "outputs": [],
   "source": [
    "def get_labels(dataset):\n",
    "\n",
    "    labels = benchmark_labels[dataset]\n",
    "\n",
    "    return labels\n",
    "\n",
    "def get_loader(args, attrs):\n",
    "\n",
    "    dataloader = backbone_loader_map[args.backbone](args, attrs, args.logger_name)\n",
    "\n",
    "    return dataloader\n",
    "\n",
    "def get_attrs():\n",
    "\n",
    "    attrs = {}\n",
    "    for name, value in vars(self).items():\n",
    "        attrs[name] = value\n",
    "\n",
    "    return attrs"
   ]
  },
  {
   "cell_type": "code",
   "execution_count": 13,
   "id": "b79d14cd",
   "metadata": {},
   "outputs": [
    {
     "name": "stdout",
     "output_type": "stream",
     "text": [
      "5\n"
     ]
    }
   ],
   "source": [
    "print(args.seed)\n",
    "set_seed(args.seed)"
   ]
  },
  {
   "cell_type": "code",
   "execution_count": 14,
   "id": "9607d311",
   "metadata": {},
   "outputs": [
    {
     "name": "stdout",
     "output_type": "stream",
     "text": [
      "banking -> 55\n"
     ]
    }
   ],
   "source": [
    "args.max_seq_length = max_seq_lengths[args.dataset]\n",
    "print(args.dataset, \"->\", args.max_seq_length)"
   ]
  },
  {
   "cell_type": "code",
   "execution_count": 15,
   "id": "deba7e0a",
   "metadata": {},
   "outputs": [
    {
     "name": "stdout",
     "output_type": "stream",
     "text": [
      "/workspace/ADB/TEXTOIR/open_intent_detection/../data || ^0^ || banking\n",
      "/workspace/ADB/TEXTOIR/open_intent_detection/../data/banking\n"
     ]
    }
   ],
   "source": [
    "print(args.data_dir, \"|| ^0^ ||\", args.dataset)\n",
    "data_dir = os.path.join(args.data_dir, args.dataset)\n",
    "print(data_dir)"
   ]
  },
  {
   "cell_type": "code",
   "execution_count": 16,
   "id": "228653cb",
   "metadata": {},
   "outputs": [
    {
     "name": "stdout",
     "output_type": "stream",
     "text": [
      "['Refund_not_showing_up', 'activate_my_card', 'age_limit', 'apple_pay_or_google_pay', 'atm_support'] 77\n"
     ]
    }
   ],
   "source": [
    "all_label_list = get_labels(args.dataset)\n",
    "print(all_label_list[:5], len(all_label_list))"
   ]
  },
  {
   "cell_type": "code",
   "execution_count": 39,
   "id": "74a1d44e",
   "metadata": {},
   "outputs": [
    {
     "name": "stdout",
     "output_type": "stream",
     "text": [
      "0.25\n",
      "19\n",
      "19\n"
     ]
    }
   ],
   "source": [
    "print(args.known_cls_ratio)\n",
    "n_known_cls = round(len(all_label_list) * args.known_cls_ratio)\n",
    "print(n_known_cls)\n",
    "print(round(77*0.25))"
   ]
  },
  {
   "cell_type": "markdown",
   "id": "8ca2b1ea",
   "metadata": {},
   "source": [
    "### random.seed를 jupyter에서 따로 실행하면 잘 작동하지 않음.. 이유는 모르겠음.\n",
    "but class로 한번에 생성할 때는 잘 됨...ㅠㅠ"
   ]
  },
  {
   "cell_type": "code",
   "execution_count": 21,
   "id": "34967e70",
   "metadata": {},
   "outputs": [
    {
     "name": "stdout",
     "output_type": "stream",
     "text": [
      "['pending_transfer' 'reverted_card_payment?' 'visa_or_mastercard'\n",
      " 'pending_cash_withdrawal' 'apple_pay_or_google_pay'\n",
      " 'balance_not_updated_after_cheque_or_cash_deposit' 'exchange_via_app'\n",
      " 'Refund_not_showing_up' 'top_up_by_card_charge' 'verify_my_identity'\n",
      " 'transaction_charged_twice' 'getting_spare_card' 'lost_or_stolen_card'\n",
      " 'contactless_not_working' 'declined_cash_withdrawal' 'pending_top_up'\n",
      " 'top_up_by_cash_or_cheque' 'card_arrival' 'automatic_top_up']\n"
     ]
    }
   ],
   "source": [
    "\n",
    "#random.seed(5)\n",
    "\n",
    "known_label_list = np.random.choice(np.array(all_label_list), n_known_cls, replace=False)\n",
    "print(known_label_list)\n",
    "known_label_list = list(known_label_list)"
   ]
  },
  {
   "cell_type": "code",
   "execution_count": 22,
   "id": "07aad5af",
   "metadata": {},
   "outputs": [
    {
     "name": "stdout",
     "output_type": "stream",
     "text": [
      "/workspace/ADB/TEXTOIR/open_intent_detection/../data  || ^0^ || SQUAD\n",
      "/workspace/ADB/TEXTOIR/open_intent_detection/../data/SQUAD\n"
     ]
    }
   ],
   "source": [
    "print(args.data_dir, \" || ^0^ ||\" ,args.dataset_neg)\n",
    "data_dir_neg = os.path.join(args.data_dir, args.dataset_neg)\n",
    "print(data_dir_neg)"
   ]
  },
  {
   "cell_type": "code",
   "execution_count": 24,
   "id": "fd478bda",
   "metadata": {},
   "outputs": [
    {
     "name": "stdout",
     "output_type": "stream",
     "text": [
      "19\n"
     ]
    }
   ],
   "source": [
    "num_labels = num_labels = len(known_label_list)\n",
    "print(num_labels)"
   ]
  },
  {
   "cell_type": "code",
   "execution_count": 25,
   "id": "5569e1ce",
   "metadata": {},
   "outputs": [
    {
     "name": "stdout",
     "output_type": "stream",
     "text": [
      "<UNK>\n"
     ]
    }
   ],
   "source": [
    "if args.dataset == 'oos':\n",
    "    unseen_label = 'oos'\n",
    "else:\n",
    "    unseen_label = '<UNK>'\n",
    "print(unseen_label)"
   ]
  },
  {
   "cell_type": "code",
   "execution_count": 26,
   "id": "7222e5da",
   "metadata": {},
   "outputs": [],
   "source": [
    "args.unseen_label_id = unseen_label_id = num_labels\n",
    "label_list = known_label_list + [unseen_label]"
   ]
  },
  {
   "cell_type": "code",
   "execution_count": 27,
   "id": "d4b9d249",
   "metadata": {},
   "outputs": [
    {
     "data": {
      "text/plain": [
       "(20, '<UNK>', 19)"
      ]
     },
     "execution_count": 27,
     "metadata": {},
     "output_type": "execute_result"
    }
   ],
   "source": [
    "len(label_list), label_list[num_labels], num_labels"
   ]
  },
  {
   "cell_type": "code",
   "execution_count": 28,
   "id": "e67b7178",
   "metadata": {},
   "outputs": [
    {
     "name": "stdout",
     "output_type": "stream",
     "text": [
      "bert\n"
     ]
    },
    {
     "ename": "NameError",
     "evalue": "name 'self' is not defined",
     "output_type": "error",
     "traceback": [
      "\u001b[0;31m---------------------------------------------------------------------------\u001b[0m",
      "\u001b[0;31mNameError\u001b[0m                                 Traceback (most recent call last)",
      "\u001b[0;32m/tmp/ipykernel_11821/2511273730.py\u001b[0m in \u001b[0;36m<module>\u001b[0;34m\u001b[0m\n\u001b[1;32m      1\u001b[0m \u001b[0mprint\u001b[0m\u001b[0;34m(\u001b[0m\u001b[0margs\u001b[0m\u001b[0;34m.\u001b[0m\u001b[0mbackbone\u001b[0m\u001b[0;34m)\u001b[0m\u001b[0;34m\u001b[0m\u001b[0;34m\u001b[0m\u001b[0m\n\u001b[0;32m----> 2\u001b[0;31m \u001b[0mdataloader\u001b[0m \u001b[0;34m=\u001b[0m \u001b[0mget_loader\u001b[0m\u001b[0;34m(\u001b[0m\u001b[0margs\u001b[0m\u001b[0;34m,\u001b[0m \u001b[0mget_attrs\u001b[0m\u001b[0;34m(\u001b[0m\u001b[0;34m)\u001b[0m\u001b[0;34m)\u001b[0m\u001b[0;34m\u001b[0m\u001b[0;34m\u001b[0m\u001b[0m\n\u001b[0m",
      "\u001b[0;32m/tmp/ipykernel_11821/3570025404.py\u001b[0m in \u001b[0;36mget_attrs\u001b[0;34m()\u001b[0m\n\u001b[1;32m     14\u001b[0m \u001b[0;34m\u001b[0m\u001b[0m\n\u001b[1;32m     15\u001b[0m     \u001b[0mattrs\u001b[0m \u001b[0;34m=\u001b[0m \u001b[0;34m{\u001b[0m\u001b[0;34m}\u001b[0m\u001b[0;34m\u001b[0m\u001b[0;34m\u001b[0m\u001b[0m\n\u001b[0;32m---> 16\u001b[0;31m     \u001b[0;32mfor\u001b[0m \u001b[0mname\u001b[0m\u001b[0;34m,\u001b[0m \u001b[0mvalue\u001b[0m \u001b[0;32min\u001b[0m \u001b[0mvars\u001b[0m\u001b[0;34m(\u001b[0m\u001b[0mself\u001b[0m\u001b[0;34m)\u001b[0m\u001b[0;34m.\u001b[0m\u001b[0mitems\u001b[0m\u001b[0;34m(\u001b[0m\u001b[0;34m)\u001b[0m\u001b[0;34m:\u001b[0m\u001b[0;34m\u001b[0m\u001b[0;34m\u001b[0m\u001b[0m\n\u001b[0m\u001b[1;32m     17\u001b[0m         \u001b[0mattrs\u001b[0m\u001b[0;34m[\u001b[0m\u001b[0mname\u001b[0m\u001b[0;34m]\u001b[0m \u001b[0;34m=\u001b[0m \u001b[0mvalue\u001b[0m\u001b[0;34m\u001b[0m\u001b[0;34m\u001b[0m\u001b[0m\n\u001b[1;32m     18\u001b[0m \u001b[0;34m\u001b[0m\u001b[0m\n",
      "\u001b[0;31mNameError\u001b[0m: name 'self' is not defined"
     ]
    }
   ],
   "source": [
    "print(args.backbone)\n",
    "dataloader = get_loader(args, get_attrs())"
   ]
  },
  {
   "cell_type": "code",
   "execution_count": 29,
   "id": "7a43a4f4",
   "metadata": {},
   "outputs": [
    {
     "data": {
      "text/plain": [
       "<dataloaders.bert_loader.BERT_Loader at 0x7f402c34ae10>"
      ]
     },
     "execution_count": 29,
     "metadata": {},
     "output_type": "execute_result"
    }
   ],
   "source": [
    "data.dataloader"
   ]
  },
  {
   "cell_type": "markdown",
   "id": "c7d3bcb7",
   "metadata": {},
   "source": [
    "### 위에 에러는 get_attrs() 함수에서 인자를 못받는 문제가 생김, 에러는 BERT_Loader 클래스에서 발생\n",
    "위에 실행했던것들은 클래스의 init으로 실행됨\n",
    "클래스 안의 get_attrs(self)는 self 를 인자로 받아서 \n",
    "```python\n",
    "    def get_attrs(self):\n",
    "\n",
    "        attrs = {}\n",
    "        for name, value in vars(self).items():\n",
    "            attrs[name] = value\n",
    "\n",
    "        return attrs\n",
    "```\n",
    "- self를 사용. 즉, 클래스의 변수를 사용한다.\n",
    "- 그래서 위에서 사용한 방법은 에러가 난다. \n",
    "- 클래스의 변수를 따로 다음 \"bert_loader.py\"의 get_examples에 입력할 것임"
   ]
  },
  {
   "cell_type": "markdown",
   "id": "0c1f638e",
   "metadata": {},
   "source": [
    "```python \n",
    "class BERT_Loader:\n",
    "    def __init__(self, args, base_attrs, logger_name = 'Detection'):\n",
    "    self.logger = logging.getLogger(logger_name)\n",
    "    self.train_examples, self.train_labeled_examples, self.train_unlabeled_examples  = get_examples(args, base_attrs, 'train')\n",
    "```        \n",
    "밑에 3개의 변수들의 역활을 분석하기 위해서는 ```get_examples```을 알아봐야할듯"
   ]
  },
  {
   "cell_type": "code",
   "execution_count": 30,
   "id": "4fa4ba19",
   "metadata": {},
   "outputs": [
    {
     "data": {
      "text/plain": [
       "(9003, 2127, 6876)"
      ]
     },
     "execution_count": 30,
     "metadata": {},
     "output_type": "execute_result"
    }
   ],
   "source": [
    "len(data.dataloader.train_examples), len(data.dataloader.train_labeled_examples), len(data.dataloader.train_unlabeled_examples)"
   ]
  },
  {
   "cell_type": "markdown",
   "id": "d2f6258c",
   "metadata": {},
   "source": [
    "```python \n",
    "def get_examples(args, base_attrs, mode):\n",
    "\n",
    "    processor = DatasetProcessor() <- 이거 봐야할듯 \n",
    "    ori_examples = processor.get_examples(base_attrs['data_dir'], mode)\n",
    "```\n"
   ]
  },
  {
   "cell_type": "markdown",
   "id": "e17747d5",
   "metadata": {},
   "source": [
    "### bert_loader_neg.py\n",
    "```python \n",
    "class DatasetProcessor(DataProcessor):\n",
    "    def get_examples(self, data_dir, mode):\n",
    "    if mode == 'train':\n",
    "        return self._create_examples(\n",
    "            self._read_tsv(os.path.join(data_dir, \"train.tsv\")), \"train\")\n",
    "```"
   ]
  },
  {
   "cell_type": "code",
   "execution_count": 31,
   "id": "2959341b",
   "metadata": {},
   "outputs": [
    {
     "name": "stdout",
     "output_type": "stream",
     "text": [
      "/workspace/ADB/TEXTOIR/open_intent_detection/../data/banking/train.tsv\n"
     ]
    }
   ],
   "source": [
    "import csv\n",
    "\n",
    "input_file = os.path.join(data_dir, \"train.tsv\")\n",
    "print(input_file)\n",
    "\n",
    "with open(input_file, \"r\") as f:\n",
    "    reader = csv.reader(f, delimiter=\"\\t\", quotechar=None)\n",
    "    lines = []\n",
    "    for line in reader:\n",
    "        if sys.version_info[0] == 2:\n",
    "            line = list(unicode(cell, 'utf-8') for cell in line)\n",
    "        lines.append(line)"
   ]
  },
  {
   "cell_type": "code",
   "execution_count": 32,
   "id": "133d269f",
   "metadata": {},
   "outputs": [
    {
     "data": {
      "text/plain": [
       "9017"
      ]
     },
     "execution_count": 32,
     "metadata": {},
     "output_type": "execute_result"
    }
   ],
   "source": [
    "len(lines)"
   ]
  },
  {
   "cell_type": "code",
   "execution_count": 33,
   "id": "5d4801ae",
   "metadata": {},
   "outputs": [],
   "source": [
    "class InputExample(object):\n",
    "    \"\"\"A single training/test example for simple sequence classification.\"\"\"\n",
    "\n",
    "    def __init__(self, guid, text_a, text_b=None, label=None):\n",
    "        \"\"\"Constructs a InputExample.\n",
    "\n",
    "        Args:\n",
    "            guid: Unique id for the example.\n",
    "            text_a: string. The untokenized text of the first sequence. For single\n",
    "            sequence tasks, only this sequence must be specified.\n",
    "            text_b: (Optional) string. The untokenized text of the second sequence.\n",
    "            Only must be specified for sequence pair tasks.\n",
    "            label: (Optional) string. The label of the example. This should be\n",
    "            specified for train and dev examples, but not for test examples.\n",
    "        \"\"\"\n",
    "        self.guid = guid\n",
    "        self.text_a = text_a\n",
    "        self.text_b = text_b\n",
    "        self.label = label"
   ]
  },
  {
   "cell_type": "code",
   "execution_count": 34,
   "id": "f17428da",
   "metadata": {},
   "outputs": [],
   "source": [
    "def _create_examples(lines, set_type):\n",
    "    \"\"\"Creates examples for the training and dev sets.\"\"\"\n",
    "    examples = []\n",
    "    for (i, line) in enumerate(lines):\n",
    "        if i == 0:\n",
    "            continue\n",
    "        if len(line) != 2:\n",
    "            continue\n",
    "        guid = \"%s-%s\" % (set_type, i)\n",
    "        text_a = line[0]\n",
    "        label = line[1]\n",
    "\n",
    "        examples.append(\n",
    "            InputExample(guid=guid, text_a=text_a, text_b=None, label=label))\n",
    "    return examples"
   ]
  },
  {
   "cell_type": "code",
   "execution_count": 35,
   "id": "a60c29b7",
   "metadata": {},
   "outputs": [],
   "source": [
    "ori_examples = _create_examples(lines, \"train\")"
   ]
  },
  {
   "cell_type": "code",
   "execution_count": 36,
   "id": "0d51e2f7",
   "metadata": {},
   "outputs": [
    {
     "data": {
      "text/plain": [
       "('train-1',\n",
       " 'Could you help my figure out the exchange fee?',\n",
       " None,\n",
       " 'exchange_charge')"
      ]
     },
     "execution_count": 36,
     "metadata": {},
     "output_type": "execute_result"
    }
   ],
   "source": [
    "ori_examples[0].guid, ori_examples[0].text_a, ori_examples[0].text_b, ori_examples[0].label"
   ]
  },
  {
   "cell_type": "code",
   "execution_count": 46,
   "id": "4da25e84",
   "metadata": {},
   "outputs": [
    {
     "data": {
      "text/plain": [
       "(0.7900646724433529, 1.0)"
      ]
     },
     "execution_count": 46,
     "metadata": {},
     "output_type": "execute_result"
    }
   ],
   "source": [
    "np.random.uniform(0, 1), args.labeled_ratio"
   ]
  },
  {
   "cell_type": "code",
   "execution_count": 37,
   "id": "72254c9b",
   "metadata": {},
   "outputs": [],
   "source": [
    "labeled_examples, unlabeled_examples = [], []\n",
    "for example in ori_examples:\n",
    "    if (example.label in known_label_list) and (np.random.uniform(0, 1) <= args.labeled_ratio):\n",
    "        labeled_examples.append(example)\n",
    "    else:\n",
    "        example.label = unseen_label\n",
    "        unlabeled_examples.append(example)"
   ]
  },
  {
   "cell_type": "markdown",
   "id": "bf981ae4",
   "metadata": {},
   "source": [
    "```ori_examples = data.dataloader.train_examples, ```\n",
    "\n",
    "```labeled_examples = data.dataloader.train_labeled_examples, ```\n",
    "\n",
    "```unlabeled_examples = data.dataloader.train_unlabeled_examples```"
   ]
  },
  {
   "cell_type": "markdown",
   "id": "7f5ba578",
   "metadata": {},
   "source": [
    "# 다시 BERT_Loader 클래스로 돌아와서\n",
    "- 여기 밑에 두개는 똑같이 get_examples임. eval, test를 위한\n",
    "- base_attrs 는 class DataManager 저장\n",
    "\n",
    "\n",
    "```python \n",
    "self.eval_examples = get_examples(args, base_attrs, 'eval')\n",
    "self.test_examples = get_examples(args, base_attrs, 'test')\n",
    "\n",
    "self.base_attrs = base_attrs\n",
    "self.init_loader(args)\n",
    "\n",
    "```\n",
    "### init_loader 를 살펴보자"
   ]
  },
  {
   "cell_type": "markdown",
   "id": "6b136d22",
   "metadata": {},
   "source": [
    "```python\n",
    "def init_loader(self, args):\n",
    "        \n",
    "        self.train_labeled_loader = get_loader(self.train_labeled_examples, args, self.base_attrs['label_list'], 'train_labeled', sampler_mode = 'random')\n",
    "        self.train_unlabeled_loader = get_loader(self.train_unlabeled_examples, args, self.base_attrs['label_list'], 'train_unlabeled', sampler_mode = 'sequential')\n",
    "        self.eval_loader = get_loader(self.eval_examples, args, self.base_attrs['label_list'], 'eval', sampler_mode = 'sequential')\n",
    "        self.test_loader = get_loader(self.test_examples, args, self.base_attrs['label_list'], 'test', sampler_mode = 'sequential')\n",
    "        self.num_train_examples = len(self.train_labeled_examples)\n",
    "```\n",
    "\n",
    "### ```get_loader```를 봐야겠음"
   ]
  },
  {
   "cell_type": "code",
   "execution_count": 209,
   "id": "09dbfceb",
   "metadata": {},
   "outputs": [],
   "source": [
    "from transformers import BertTokenizer\n",
    "\n",
    "tokenizer = BertTokenizer.from_pretrained('bert-base-uncased', do_lower_case=True)"
   ]
  },
  {
   "cell_type": "markdown",
   "id": "3a802b10",
   "metadata": {},
   "source": [
    "```python \n",
    "features = convert_examples_to_features(examples, label_list, args.max_seq_length, tokenizer)\n",
    "```\n",
    "\n",
    "- tokenizer를 불러와서 ```convert_examples_to_features``` 실행 "
   ]
  },
  {
   "cell_type": "code",
   "execution_count": 223,
   "id": "780b27e8",
   "metadata": {
    "scrolled": true
   },
   "outputs": [
    {
     "name": "stdout",
     "output_type": "stream",
     "text": [
      "['wrong_amount_of_cash_received', 'order_physical_card', 'change_pin', 'card_delivery_estimate', 'extra_charge_on_statement'] train_labeled\n"
     ]
    }
   ],
   "source": [
    "print(label_list[:5], 'train_labeled')\n",
    "examples = labeled_examples"
   ]
  },
  {
   "cell_type": "markdown",
   "id": "6f47c677",
   "metadata": {},
   "source": [
    "### convert_examples_to_features"
   ]
  },
  {
   "cell_type": "code",
   "execution_count": 218,
   "id": "9b6fb61e",
   "metadata": {},
   "outputs": [],
   "source": [
    "# label_map을 dictionary로 저장\n",
    "label_map = {}\n",
    "if label_list is not None:\n",
    "    for i, label in enumerate(label_list):\n",
    "        label_map[label] = i"
   ]
  },
  {
   "cell_type": "code",
   "execution_count": 227,
   "id": "83ca0359",
   "metadata": {},
   "outputs": [
    {
     "data": {
      "text/plain": [
       "('Could you help my figure out the exchange fee?',\n",
       " 'exchange_charge',\n",
       " None,\n",
       " 'train-1')"
      ]
     },
     "execution_count": 227,
     "metadata": {},
     "output_type": "execute_result"
    }
   ],
   "source": [
    "examples[0].text_a, examples[0].label, examples[0].text_b, examples[0].guid"
   ]
  },
  {
   "cell_type": "code",
   "execution_count": 229,
   "id": "79f00dda",
   "metadata": {},
   "outputs": [
    {
     "name": "stdout",
     "output_type": "stream",
     "text": [
      "55\n"
     ]
    }
   ],
   "source": [
    "max_seq_length = args.max_seq_length\n",
    "print(max_seq_length)\n",
    "features = []\n",
    "for (ex_index, example) in enumerate(examples):\n",
    "    tokens_a = tokenizer.tokenize(example.text_a)\n",
    "    \n",
    "    # 앞뒤로 \"[CLS]\"] + tokens_a + [\"[SEP]\"] 를 해주기 위해서 - 2\n",
    "    if len(tokens_a) > max_seq_length - 2:\n",
    "        tokens_a = tokens_a[:(max_seq_length - 2)]"
   ]
  },
  {
   "cell_type": "code",
   "execution_count": 217,
   "id": "3bd85350",
   "metadata": {},
   "outputs": [
    {
     "data": {
      "text/plain": [
       "{'wrong_amount_of_cash_received': 0,\n",
       " 'order_physical_card': 1,\n",
       " 'change_pin': 2,\n",
       " 'card_delivery_estimate': 3,\n",
       " 'extra_charge_on_statement': 4,\n",
       " 'transaction_charged_twice': 5,\n",
       " 'apple_pay_or_google_pay': 6,\n",
       " 'top_up_limits': 7,\n",
       " 'compromised_card': 8,\n",
       " 'cash_withdrawal_not_recognised': 9,\n",
       " 'cash_withdrawal_charge': 10,\n",
       " 'visa_or_mastercard': 11,\n",
       " 'virtual_card_not_working': 12,\n",
       " 'getting_virtual_card': 13,\n",
       " 'beneficiary_not_allowed': 14,\n",
       " 'card_linking': 15,\n",
       " 'activate_my_card': 16,\n",
       " 'request_refund': 17,\n",
       " 'declined_transfer': 18,\n",
       " 'country_support': 19,\n",
       " 'automatic_top_up': 20,\n",
       " 'transfer_not_received_by_recipient': 21,\n",
       " 'get_physical_card': 22,\n",
       " 'top_up_failed': 23,\n",
       " 'passcode_forgotten': 24,\n",
       " 'verify_top_up': 25,\n",
       " 'pending_transfer': 26,\n",
       " 'exchange_rate': 27,\n",
       " 'getting_spare_card': 28,\n",
       " 'terminate_account': 29,\n",
       " 'unable_to_verify_identity': 30,\n",
       " 'card_swallowed': 31,\n",
       " 'exchange_charge': 32,\n",
       " 'age_limit': 33,\n",
       " 'card_acceptance': 34,\n",
       " 'declined_cash_withdrawal': 35,\n",
       " 'verify_source_of_funds': 36,\n",
       " 'topping_up_by_card': 37,\n",
       " 'pending_top_up': 38,\n",
       " 'edit_personal_details': 39,\n",
       " 'wrong_exchange_rate_for_cash_withdrawal': 40,\n",
       " 'card_payment_not_recognised': 41,\n",
       " 'atm_support': 42,\n",
       " 'declined_card_payment': 43,\n",
       " 'balance_not_updated_after_bank_transfer': 44,\n",
       " 'transfer_timing': 45,\n",
       " 'Refund_not_showing_up': 46,\n",
       " 'card_not_working': 47,\n",
       " 'failed_transfer': 48,\n",
       " 'contactless_not_working': 49,\n",
       " 'reverted_card_payment?': 50,\n",
       " 'receiving_money': 51,\n",
       " 'direct_debit_payment_not_recognised': 52,\n",
       " 'pending_cash_withdrawal': 53,\n",
       " 'why_verify_identity': 54,\n",
       " 'balance_not_updated_after_cheque_or_cash_deposit': 55,\n",
       " 'card_arrival': 56,\n",
       " 'top_up_by_bank_transfer_charge': 57,\n",
       " '<UNK>': 58}"
      ]
     },
     "execution_count": 217,
     "metadata": {},
     "output_type": "execute_result"
    }
   ],
   "source": [
    "label_map"
   ]
  },
  {
   "cell_type": "code",
   "execution_count": 228,
   "id": "e66d20df",
   "metadata": {},
   "outputs": [],
   "source": [
    "if example.text_b:\n",
    "    print(\":s\")"
   ]
  },
  {
   "cell_type": "code",
   "execution_count": null,
   "id": "55ef1163",
   "metadata": {},
   "outputs": [],
   "source": []
  },
  {
   "cell_type": "code",
   "execution_count": null,
   "id": "96ef4eb9",
   "metadata": {},
   "outputs": [],
   "source": []
  }
 ],
 "metadata": {
  "kernelspec": {
   "display_name": "Python 3 (ipykernel)",
   "language": "python",
   "name": "python3"
  },
  "language_info": {
   "codemirror_mode": {
    "name": "ipython",
    "version": 3
   },
   "file_extension": ".py",
   "mimetype": "text/x-python",
   "name": "python",
   "nbconvert_exporter": "python",
   "pygments_lexer": "ipython3",
   "version": "3.7.10"
  }
 },
 "nbformat": 4,
 "nbformat_minor": 5
}
